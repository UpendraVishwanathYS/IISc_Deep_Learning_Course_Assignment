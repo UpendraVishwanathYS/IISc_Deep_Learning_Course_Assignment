{
  "nbformat": 4,
  "nbformat_minor": 0,
  "metadata": {
    "colab": {
      "provenance": [],
      "include_colab_link": true
    },
    "kernelspec": {
      "name": "python3",
      "display_name": "Python 3"
    },
    "language_info": {
      "name": "python"
    }
  },
  "cells": [
    {
      "cell_type": "markdown",
      "metadata": {
        "id": "view-in-github",
        "colab_type": "text"
      },
      "source": [
        "<a href=\"https://colab.research.google.com/github/UpendraVishwanathYS/IISc_Deep_Learning_Course_Assignment/blob/main/M1_AST_01_Linear_Algebra_A.ipynb\" target=\"_parent\"><img src=\"https://colab.research.google.com/assets/colab-badge.svg\" alt=\"Open In Colab\"/></a>"
      ]
    },
    {
      "cell_type": "markdown",
      "metadata": {
        "id": "p4Nwm4FK3wgU"
      },
      "source": [
        "# Advanced Programme in Deep Learning (Foundations and Applications)\n",
        "## A Program by IISc and TalentSprint\n",
        "### Assignment 2: Linear Algebra"
      ]
    },
    {
      "cell_type": "markdown",
      "metadata": {
        "id": "dHj34EaN5oa5"
      },
      "source": [
        "## Learning Objectives"
      ]
    },
    {
      "cell_type": "markdown",
      "metadata": {
        "id": "-vPeurvKNAEz"
      },
      "source": [
        "At the end of the assignment, you will be able to\n",
        "* understand matrix, types of matrix, vectors and its related operations\n",
        "\n"
      ]
    },
    {
      "cell_type": "markdown",
      "metadata": {
        "id": "BNLA8HiKxQhc"
      },
      "source": [
        "### Setup Steps:"
      ]
    },
    {
      "cell_type": "code",
      "metadata": {
        "id": "xWMVQWk58aXm"
      },
      "source": [
        "#@title Please enter your registration id to start: { run: \"auto\", display-mode: \"form\" }\n",
        "Id = \"\" #@param {type:\"string\"}"
      ],
      "execution_count": null,
      "outputs": []
    },
    {
      "cell_type": "code",
      "metadata": {
        "id": "cwqosl928dBA"
      },
      "source": [
        "#@title Please enter your password (normally your phone number) to continue: { run: \"auto\", display-mode: \"form\" }\n",
        "password = \"\" #@param {type:\"string\"}"
      ],
      "execution_count": null,
      "outputs": []
    },
    {
      "cell_type": "code",
      "metadata": {
        "cellView": "form",
        "id": "PTh2bRQ-fuis",
        "colab": {
          "base_uri": "https://localhost:8080/"
        },
        "outputId": "64910e55-f9ba-4aaf-ad92-4e4825f91e94"
      },
      "source": [
        "#@title Run this cell to complete the setup for this Notebook\n",
        "from IPython import get_ipython\n",
        "import warnings\n",
        "warnings.filterwarnings(\"ignore\")\n",
        "\n",
        "ipython = get_ipython()\n",
        "\n",
        "notebook= \"M1_AST_01_Linear_Algebra_A\" #name of the notebook\n",
        "\n",
        "def setup():\n",
        "    from IPython.display import HTML, display\n",
        "    display(HTML('<script src=\"https://dashboard.talentsprint.com/aiml/record_ip.html?traineeId={0}&recordId={1}\"></script>'.format(getId(),submission_id)))\n",
        "    print(\"Setup completed successfully\")\n",
        "    return\n",
        "\n",
        "def submit_notebook():\n",
        "    ipython.magic(\"notebook -e\"+ notebook + \".ipynb\")\n",
        "\n",
        "    import requests, json, base64, datetime\n",
        "\n",
        "    url = \"https://dashboard.talentsprint.com/xp/app/save_notebook_attempts\"\n",
        "    if not submission_id:\n",
        "      data = {\"id\" : getId(), \"notebook\" : notebook, \"mobile\" : getPassword()}\n",
        "      r = requests.post(url, data = data)\n",
        "      r = json.loads(r.text)\n",
        "\n",
        "      if r[\"status\"] == \"Success\":\n",
        "          return r[\"record_id\"]\n",
        "      elif \"err\" in r:\n",
        "        print(r[\"err\"])\n",
        "        return None\n",
        "      else:\n",
        "        print (\"Something is wrong, the notebook will not be submitted for grading\")\n",
        "        return None\n",
        "\n",
        "    elif getAnswer1() and getAnswer2() and getComplexity() and getAdditional() and getConcepts() and getComments() and getMentorSupport():\n",
        "      f = open(notebook + \".ipynb\", \"rb\")\n",
        "      file_hash = base64.b64encode(f.read())\n",
        "\n",
        "      data = {\"complexity\" : Complexity, \"additional\" :Additional,\n",
        "              \"concepts\" : Concepts, \"record_id\" : submission_id,\n",
        "              \"answer1\" : Answer1, \"answer2\" : Answer2, \"id\" : Id, \"file_hash\" : file_hash,\n",
        "              \"notebook\" : notebook,\n",
        "              \"feedback_experiments_input\" : Comments,\n",
        "              \"feedback_mentor_support\": Mentor_support}\n",
        "      r = requests.post(url, data = data)\n",
        "      r = json.loads(r.text)\n",
        "      if \"err\" in r:\n",
        "        print(r[\"err\"])\n",
        "        return None\n",
        "      else:\n",
        "        print(\"Your submission is successful.\")\n",
        "        print(\"Ref Id:\", submission_id)\n",
        "        print(\"Date of submission: \", r[\"date\"])\n",
        "        print(\"Time of submission: \", r[\"time\"])\n",
        "        print(\"View your submissions: https://learn-iisc.talentsprint.com/notebook_submissions\")\n",
        "        #print(\"For any queries/discrepancies, please connect with mentors through the chat icon in LMS dashboard.\")\n",
        "        return submission_id\n",
        "    else: submission_id\n",
        "\n",
        "\n",
        "def getAdditional():\n",
        "  try:\n",
        "    if not Additional:\n",
        "      raise NameError\n",
        "    else:\n",
        "      return Additional\n",
        "  except NameError:\n",
        "    print (\"Please answer Additional Question\")\n",
        "    return None\n",
        "\n",
        "def getComplexity():\n",
        "  try:\n",
        "    if not Complexity:\n",
        "      raise NameError\n",
        "    else:\n",
        "      return Complexity\n",
        "  except NameError:\n",
        "    print (\"Please answer Complexity Question\")\n",
        "    return None\n",
        "\n",
        "def getConcepts():\n",
        "  try:\n",
        "    if not Concepts:\n",
        "      raise NameError\n",
        "    else:\n",
        "      return Concepts\n",
        "  except NameError:\n",
        "    print (\"Please answer Concepts Question\")\n",
        "    return None\n",
        "\n",
        "\n",
        "# def getWalkthrough():\n",
        "#   try:\n",
        "#     if not Walkthrough:\n",
        "#       raise NameError\n",
        "#     else:\n",
        "#       return Walkthrough\n",
        "#   except NameError:\n",
        "#     print (\"Please answer Walkthrough Question\")\n",
        "#     return None\n",
        "\n",
        "def getComments():\n",
        "  try:\n",
        "    if not Comments:\n",
        "      raise NameError\n",
        "    else:\n",
        "      return Comments\n",
        "  except NameError:\n",
        "    print (\"Please answer Comments Question\")\n",
        "    return None\n",
        "\n",
        "\n",
        "def getMentorSupport():\n",
        "  try:\n",
        "    if not Mentor_support:\n",
        "      raise NameError\n",
        "    else:\n",
        "      return Mentor_support\n",
        "  except NameError:\n",
        "    print (\"Please answer Mentor support Question\")\n",
        "    return None\n",
        "\n",
        "def getAnswer1():\n",
        "  try:\n",
        "    if not Answer1:\n",
        "      raise NameError\n",
        "    else:\n",
        "      return Answer1\n",
        "  except NameError:\n",
        "    print (\"Please answer Question 1\")\n",
        "    return None\n",
        "\n",
        "def getAnswer2():\n",
        "  try:\n",
        "    if not Answer2:\n",
        "      raise NameError\n",
        "    else:\n",
        "      return Answer2\n",
        "  except NameError:\n",
        "    print (\"Please answer Question 2\")\n",
        "    return None\n",
        "\n",
        "\n",
        "def getId():\n",
        "  try:\n",
        "    return Id if Id else None\n",
        "  except NameError:\n",
        "    return None\n",
        "\n",
        "def getPassword():\n",
        "  try:\n",
        "    return password if password else None\n",
        "  except NameError:\n",
        "    return None\n",
        "\n",
        "submission_id = None\n",
        "### Setup\n",
        "if getPassword() and getId():\n",
        "  submission_id = submit_notebook()\n",
        "  if submission_id:\n",
        "    setup()\n",
        "else:\n",
        "  print (\"Please complete Id and Password cells before running setup\")\n",
        "\n"
      ],
      "execution_count": 1,
      "outputs": [
        {
          "output_type": "stream",
          "name": "stdout",
          "text": [
            "Please complete Id and Password cells before running setup\n"
          ]
        }
      ]
    },
    {
      "cell_type": "markdown",
      "metadata": {
        "id": "n3NoHPIp2cD_"
      },
      "source": [
        "### Importing required packages"
      ]
    },
    {
      "cell_type": "code",
      "metadata": {
        "id": "RVxoU0VULvQJ"
      },
      "source": [
        "import numpy as np\n",
        "from math import *\n",
        "from numpy import array\n",
        "from numpy import diag\n",
        "from numpy import dot\n",
        "from numpy import zeros\n",
        "from numpy import linalg as la\n",
        "from numpy.linalg import eig"
      ],
      "execution_count": 2,
      "outputs": []
    },
    {
      "cell_type": "markdown",
      "metadata": {
        "id": "xKcaAPQsztm7"
      },
      "source": [
        "### Types of Matrix"
      ]
    },
    {
      "cell_type": "markdown",
      "metadata": {
        "id": "FXLJK17WoNV8"
      },
      "source": [
        "**Square Matrix**: In square matrix, the number of rows are equal to the number of columns."
      ]
    },
    {
      "cell_type": "markdown",
      "metadata": {
        "id": "tvEn246jz12l"
      },
      "source": [
        "1. Create a square matrix with elements 61 to 69."
      ]
    },
    {
      "cell_type": "code",
      "metadata": {
        "id": "dEFZ0ejYzzUO",
        "colab": {
          "base_uri": "https://localhost:8080/"
        },
        "outputId": "674f54ea-c115-4ddb-e7ad-b3a8a2d8faba"
      },
      "source": [
        "A = np.array([[61,62,63],[64,65,66],[67,68,69]])\n",
        "print(A)"
      ],
      "execution_count": 3,
      "outputs": [
        {
          "output_type": "stream",
          "name": "stdout",
          "text": [
            "[[61 62 63]\n",
            " [64 65 66]\n",
            " [67 68 69]]\n"
          ]
        }
      ]
    },
    {
      "cell_type": "markdown",
      "metadata": {
        "id": "hutiOEovoSJe"
      },
      "source": [
        "\n",
        "**Upper Triangular Matrix**: It is a type of square matrix, where all the values below the main diagonal are 0.\n",
        "\n",
        "**Lower Triangular Matrix**: It is a type of square matrix, where all the values above the main diagonal are 0.\n"
      ]
    },
    {
      "cell_type": "markdown",
      "metadata": {
        "id": "1Qn7OVNAz_f0"
      },
      "source": [
        "2. Create an upper and lower triangular matrix of size 6x6 with random values."
      ]
    },
    {
      "cell_type": "code",
      "metadata": {
        "id": "ki_32Wwj0Cob",
        "colab": {
          "base_uri": "https://localhost:8080/"
        },
        "outputId": "a468f042-97d7-4daf-aef4-95b0ed49216b"
      },
      "source": [
        "matrix = np.random.rand(6,6)\n",
        "print(\"Original Matrix:\\n\",matrix)\n",
        "\n",
        "# Upper triangular matrix\n",
        "# YOUR CODE HERE\n",
        "upper_triangular = np.triu(matrix)\n",
        "print(\"Upper Triangular Matrix:\\n\",upper_triangular)\n",
        "\n",
        "# Lower triangular matrix\n",
        "# YOUR CODE HERE\n",
        "lower_triangular = np.tril(matrix)\n",
        "print(\"Lower Triangular Matrix:\\n\",lower_triangular)"
      ],
      "execution_count": 4,
      "outputs": [
        {
          "output_type": "stream",
          "name": "stdout",
          "text": [
            "Original Matrix:\n",
            " [[0.14968969 0.99324259 0.97267662 0.56685595 0.20732235 0.68502307]\n",
            " [0.50354523 0.2520708  0.15989531 0.46619504 0.30993267 0.67138129]\n",
            " [0.35263604 0.84088111 0.29555027 0.68155078 0.63787136 0.12144665]\n",
            " [0.17160585 0.04440606 0.39770941 0.91888161 0.48871643 0.05091419]\n",
            " [0.03031404 0.2118473  0.76938658 0.41264032 0.76241231 0.40436748]\n",
            " [0.21448369 0.97752722 0.85888528 0.93972766 0.42677762 0.0722502 ]]\n",
            "Upper Triangular Matrix:\n",
            " [[0.14968969 0.99324259 0.97267662 0.56685595 0.20732235 0.68502307]\n",
            " [0.         0.2520708  0.15989531 0.46619504 0.30993267 0.67138129]\n",
            " [0.         0.         0.29555027 0.68155078 0.63787136 0.12144665]\n",
            " [0.         0.         0.         0.91888161 0.48871643 0.05091419]\n",
            " [0.         0.         0.         0.         0.76241231 0.40436748]\n",
            " [0.         0.         0.         0.         0.         0.0722502 ]]\n",
            "Lower Triangular Matrix:\n",
            " [[0.14968969 0.         0.         0.         0.         0.        ]\n",
            " [0.50354523 0.2520708  0.         0.         0.         0.        ]\n",
            " [0.35263604 0.84088111 0.29555027 0.         0.         0.        ]\n",
            " [0.17160585 0.04440606 0.39770941 0.91888161 0.         0.        ]\n",
            " [0.03031404 0.2118473  0.76938658 0.41264032 0.76241231 0.        ]\n",
            " [0.21448369 0.97752722 0.85888528 0.93972766 0.42677762 0.0722502 ]]\n"
          ]
        }
      ]
    },
    {
      "cell_type": "markdown",
      "metadata": {
        "id": "_HeQxIRHouGh"
      },
      "source": [
        "**Diagonal Matrix**: In a diagonal matrix, all the values are zero except the diagonal values"
      ]
    },
    {
      "cell_type": "markdown",
      "metadata": {
        "id": "M6Jelvnf0DCz"
      },
      "source": [
        "3. Create a diagonal matrix of size 3x3 with integer valules and do the following:\n",
        "\n",
        "  i). Create a diagonal matrix with the values above the diagonal elements.\n",
        "  \n",
        "  ii). Create a diagonal matrix with the values below the diagonal elements.\n",
        "\n",
        "\n",
        "\n"
      ]
    },
    {
      "cell_type": "code",
      "metadata": {
        "id": "5mUGk70z0II8",
        "colab": {
          "base_uri": "https://localhost:8080/"
        },
        "outputId": "c75ee8ef-00c0-4069-adb9-e0ca0c230b9f"
      },
      "source": [
        "M = np.array([np.arange(73,76),np.arange(32,35), np.arange(57,60)])\n",
        "print(\"Matrix:\\n\",M)\n",
        "\n",
        "# Diagonal Matrix\n",
        "# YOUR CODE HERE\n",
        "diagonal_matrix = np.diag(np.diag(M))\n",
        "print(\"Diagonal Matrix:\\n\",diagonal_matrix)\n",
        "\n",
        "# Using k=1 for getting the diagonal matrix with the values above the diagonal elements\n",
        "# YOUR CODE HERE\n",
        "k = 1\n",
        "above_diagonal_matrix = np.diag(np.diag(M, k=k))\n",
        "print(\"Diagonal Matrix with values above the diagonal elements:\\n\",above_diagonal_matrix)\n",
        "\n",
        "# Using k=-1 for getting the diagonal matrix with the values below the diagonal elements\n",
        "# YOUR CODE HERE\n",
        "k = -1\n",
        "below_diagonal_matrix = np.diag(np.diag(M, k=k))\n",
        "print(\"Diagonal Matrix with values below the diagonal elements:\\n\",below_diagonal_matrix)"
      ],
      "execution_count": 5,
      "outputs": [
        {
          "output_type": "stream",
          "name": "stdout",
          "text": [
            "Matrix:\n",
            " [[73 74 75]\n",
            " [32 33 34]\n",
            " [57 58 59]]\n",
            "Diagonal Matrix:\n",
            " [[73  0  0]\n",
            " [ 0 33  0]\n",
            " [ 0  0 59]]\n",
            "Diagonal Matrix with values above the diagonal elements:\n",
            " [[74  0]\n",
            " [ 0 34]]\n",
            "Diagonal Matrix with values below the diagonal elements:\n",
            " [[32  0]\n",
            " [ 0 58]]\n"
          ]
        }
      ]
    },
    {
      "cell_type": "markdown",
      "metadata": {
        "id": "36KBw9B2kMIy"
      },
      "source": [
        "Here all the non-diagonal elements are zero."
      ]
    },
    {
      "cell_type": "markdown",
      "metadata": {
        "id": "3LTA6mU2o8n3"
      },
      "source": [
        "**Identity Matrix**: A matrix of size nxn where all diagonal values are 1 and other values are 0 is an identity matrix."
      ]
    },
    {
      "cell_type": "markdown",
      "metadata": {
        "id": "FxI-Dib_0I2J"
      },
      "source": [
        "4. Create a 4x4 identity matrix with integer numbers."
      ]
    },
    {
      "cell_type": "code",
      "metadata": {
        "id": "bT5tpNQ90iid",
        "colab": {
          "base_uri": "https://localhost:8080/"
        },
        "outputId": "67b31596-6ba1-4507-e30f-fc91b1ed9759"
      },
      "source": [
        "# YOUR CODE HERE\n",
        "identity_matrix = np.identity(4, dtype=int)\n",
        "print(\"Identity Matrix:\\n\",identity_matrix)"
      ],
      "execution_count": 6,
      "outputs": [
        {
          "output_type": "stream",
          "name": "stdout",
          "text": [
            "Identity Matrix:\n",
            " [[1 0 0 0]\n",
            " [0 1 0 0]\n",
            " [0 0 1 0]\n",
            " [0 0 0 1]]\n"
          ]
        }
      ]
    },
    {
      "cell_type": "markdown",
      "metadata": {
        "id": "fmS8azZypCPG"
      },
      "source": [
        "**Null Matrix**: A null matrix has all the values as zero."
      ]
    },
    {
      "cell_type": "markdown",
      "metadata": {
        "id": "W-MJrBp-0jNz"
      },
      "source": [
        "5. Create a null matrix of integers with shape 6x6."
      ]
    },
    {
      "cell_type": "code",
      "metadata": {
        "id": "j6g_s0oZ0pEC",
        "colab": {
          "base_uri": "https://localhost:8080/"
        },
        "outputId": "2f4df926-4465-4845-f9bc-87ffa9073933"
      },
      "source": [
        "# YOUR CODE HERE\n",
        "null_matrix = np.zeros((6,6), dtype=int)\n",
        "print(\"Null Matrix:\\n\",null_matrix)"
      ],
      "execution_count": 7,
      "outputs": [
        {
          "output_type": "stream",
          "name": "stdout",
          "text": [
            "Null Matrix:\n",
            " [[0 0 0 0 0 0]\n",
            " [0 0 0 0 0 0]\n",
            " [0 0 0 0 0 0]\n",
            " [0 0 0 0 0 0]\n",
            " [0 0 0 0 0 0]\n",
            " [0 0 0 0 0 0]]\n"
          ]
        }
      ]
    },
    {
      "cell_type": "markdown",
      "metadata": {
        "id": "QL-qwsUtkVfD"
      },
      "source": [
        "### Matrix Transpose, Inverse, and Determinant"
      ]
    },
    {
      "cell_type": "markdown",
      "metadata": {
        "id": "M_T07E3ekn_z"
      },
      "source": [
        "**Transpose**: Transpose operation flips the matrix over its diagonal i.e. replacing rows with coloums and vice-versa."
      ]
    },
    {
      "cell_type": "markdown",
      "metadata": {
        "id": "JJoBZY8v5ULw"
      },
      "source": [
        "1. Create a matrix and find its transpose."
      ]
    },
    {
      "cell_type": "code",
      "metadata": {
        "id": "5y5LK4015pqz",
        "colab": {
          "base_uri": "https://localhost:8080/"
        },
        "outputId": "5527977b-5a60-4335-f565-05b4d9091039"
      },
      "source": [
        "# Creating a matrix\n",
        "# YOUR CODE HERE\n",
        "matrix = np.array([[1,2,3],[4,5,6],[7,8,9]])\n",
        "print(\"Matrix:\\n\",matrix)\n",
        "\n",
        "# Matrix transpose\n",
        "# YOUR CODE HERE\n",
        "transpose = np.transpose(matrix)\n",
        "print(\"Transpose:\\n\",transpose)"
      ],
      "execution_count": 8,
      "outputs": [
        {
          "output_type": "stream",
          "name": "stdout",
          "text": [
            "Matrix:\n",
            " [[1 2 3]\n",
            " [4 5 6]\n",
            " [7 8 9]]\n",
            "Transpose:\n",
            " [[1 4 7]\n",
            " [2 5 8]\n",
            " [3 6 9]]\n"
          ]
        }
      ]
    },
    {
      "cell_type": "markdown",
      "metadata": {
        "id": "mgVF0bewkuJs"
      },
      "source": [
        "**Inverse**: This operation helps to create a matrix such that when it is multiplied by the original matrix, the result is an identity matrix."
      ]
    },
    {
      "cell_type": "markdown",
      "metadata": {
        "id": "PbBw517f5qlo"
      },
      "source": [
        "2. Find the inverse of a matrix."
      ]
    },
    {
      "cell_type": "code",
      "metadata": {
        "id": "-uDy3dor5thR",
        "colab": {
          "base_uri": "https://localhost:8080/"
        },
        "outputId": "4dd56644-c302-44cc-e141-5555e53a7701"
      },
      "source": [
        "# Create a matrix\n",
        "# YOUR CODE HERE\n",
        "matrix = np.array([[1,2],[3,4]])\n",
        "print(\"Matrix:\\n\",matrix)\n",
        "\n",
        "# Finding the inverse\n",
        "# YOUR CODE HERE\n",
        "inverse = np.linalg.inv(matrix)\n",
        "print(\"Inverse:\\n\",inverse)"
      ],
      "execution_count": 9,
      "outputs": [
        {
          "output_type": "stream",
          "name": "stdout",
          "text": [
            "Matrix:\n",
            " [[1 2]\n",
            " [3 4]]\n",
            "Inverse:\n",
            " [[-2.   1. ]\n",
            " [ 1.5 -0.5]]\n"
          ]
        }
      ]
    },
    {
      "cell_type": "markdown",
      "metadata": {
        "id": "J7spkFtt6Rkf"
      },
      "source": [
        "3. Create 3x3 matrix and find the inverse of it."
      ]
    },
    {
      "cell_type": "code",
      "metadata": {
        "id": "D_xu1d126Vfv",
        "colab": {
          "base_uri": "https://localhost:8080/"
        },
        "outputId": "58d43e12-f845-42c2-b02b-80e1e5d114ae"
      },
      "source": [
        "# Create a matrix\n",
        "# YOUR CODE HERE\n",
        "matrix = np.random.rand(3,3)\n",
        "print(\"Matrix:\\n\",matrix)\n",
        "\n",
        "# Finding Inverse\n",
        "# YOUR CODE HERE\n",
        "inverse = np.linalg.inv(matrix)\n",
        "print(\"Inverse:\\n\",inverse)"
      ],
      "execution_count": 12,
      "outputs": [
        {
          "output_type": "stream",
          "name": "stdout",
          "text": [
            "Matrix:\n",
            " [[0.45693254 0.96165349 0.59029219]\n",
            " [0.57827672 0.04646196 0.51659895]\n",
            " [0.07439535 0.08756021 0.2972679 ]]\n",
            "Inverse:\n",
            " [[ 0.27356285  2.03882427 -4.08633597]\n",
            " [ 1.16201199 -0.80023602 -0.91676738]\n",
            " [-0.41073328 -0.27453421  4.65666407]]\n"
          ]
        }
      ]
    },
    {
      "cell_type": "markdown",
      "metadata": {
        "id": "hE-zpsmDk2Rw"
      },
      "source": [
        "**Determinant**: Determinant of a matrix is a scalar value that helps to characterize the properties of a matrix."
      ]
    },
    {
      "cell_type": "markdown",
      "metadata": {
        "id": "HYnIM35teYko"
      },
      "source": [
        "4. Create a matrix of size 3x3 and find the determinant of it.\n",
        "\n",
        "  To know more about Python libraries, click [here](https://numpy.org/doc/stable/reference/generated/numpy.linalg.det.html)\n",
        "\n",
        "\n"
      ]
    },
    {
      "cell_type": "code",
      "metadata": {
        "id": "O-diJjsHrFqt",
        "colab": {
          "base_uri": "https://localhost:8080/"
        },
        "outputId": "bf5cd63d-03ae-4bdd-efba-52d75f04afc6"
      },
      "source": [
        "# YOUR CODE HERE\n",
        "matrix = np.random.rand(3,3)\n",
        "print(\"Matrix:\\n\",matrix)\n",
        "\n",
        "# Finding the determinant\n",
        "# YOUR CODE HERE\n",
        "determinant = np.linalg.det(matrix)\n",
        "print(\"Determinant:\\n\",determinant)"
      ],
      "execution_count": 16,
      "outputs": [
        {
          "output_type": "stream",
          "name": "stdout",
          "text": [
            "Matrix:\n",
            " [[0.29017084 0.27130905 0.64592354]\n",
            " [0.43347034 0.37285211 0.03447622]\n",
            " [0.84859674 0.93574913 0.48954725]]\n",
            "Determinant:\n",
            " 0.051596164142637874\n"
          ]
        }
      ]
    },
    {
      "cell_type": "markdown",
      "metadata": {
        "id": "CmqUEMMRgEpv"
      },
      "source": [
        "\\5. Create a 4x4 matrix and slice the rows and columns to get the middle sub-matrix and find its determinant."
      ]
    },
    {
      "cell_type": "code",
      "metadata": {
        "id": "MRHkKn25gVcj",
        "colab": {
          "base_uri": "https://localhost:8080/"
        },
        "outputId": "bba8ddf3-34dd-4338-9419-16470d874dbb"
      },
      "source": [
        "# Create 4x4 matrix\n",
        "# YOUR CODE HERE\n",
        "matrix = np.random.rand(4,4)\n",
        "print(\"Matrix:\\n\",matrix)\n",
        "\n",
        "# Slicing of rows and columns\n",
        "# YOUR CODE HERE\n",
        "sub_matrix = matrix[1:3,1:3]\n",
        "print(\"Sub-Matrix:\\n\",sub_matrix)\n",
        "\n",
        "# Finding the determinant\n",
        "# YOUR CODE HERE\n",
        "determinant_sub = np.linalg.det(sub_matrix)\n",
        "print(\"Determinant:\\n\",determinant_sub)"
      ],
      "execution_count": 15,
      "outputs": [
        {
          "output_type": "stream",
          "name": "stdout",
          "text": [
            "Matrix:\n",
            " [[0.1671623  0.09905488 0.76539431 0.00335946]\n",
            " [0.20606703 0.06899027 0.14228108 0.4455865 ]\n",
            " [0.25114237 0.48808203 0.45659069 0.39896732]\n",
            " [0.24104044 0.65327492 0.87901641 0.24020542]]\n",
            "Sub-Matrix:\n",
            " [[0.06899027 0.14228108]\n",
            " [0.48808203 0.45659069]]\n",
            "Determinant:\n",
            " -0.037944521941969504\n"
          ]
        }
      ]
    },
    {
      "cell_type": "markdown",
      "metadata": {
        "id": "D09L-6_82V15"
      },
      "source": [
        "\n",
        "### Matrix Operations and Functions\n"
      ]
    },
    {
      "cell_type": "markdown",
      "metadata": {
        "id": "KV4nOjKlm5p0"
      },
      "source": [
        "### Addition"
      ]
    },
    {
      "cell_type": "markdown",
      "metadata": {
        "id": "TOzXXy7B2cGb"
      },
      "source": [
        "1. Create matrix and add a scalar to it.\n",
        "\n",
        "\n",
        "\n"
      ]
    },
    {
      "cell_type": "code",
      "metadata": {
        "id": "CXbsz1aH4m-J",
        "colab": {
          "base_uri": "https://localhost:8080/"
        },
        "outputId": "1d937b8d-27b4-4512-810d-f58a75671c23"
      },
      "source": [
        "# Create a matrix\n",
        "# YOUR CODE HERE\n",
        "matrix = np.random.rand(3,3)\n",
        "print(\"Matrix:\\n\",matrix)\n",
        "\n",
        "# Scalar Addition\n",
        "# YOUR CODE HERE\n",
        "scalar = 5\n",
        "addition = matrix + scalar\n",
        "print(\"Addition:\\n\",addition)"
      ],
      "execution_count": 17,
      "outputs": [
        {
          "output_type": "stream",
          "name": "stdout",
          "text": [
            "Matrix:\n",
            " [[0.91464831 0.14000632 0.82891472]\n",
            " [0.71231949 0.19045058 0.49553057]\n",
            " [0.71172367 0.36259411 0.10753156]]\n",
            "Addition:\n",
            " [[5.91464831 5.14000632 5.82891472]\n",
            " [5.71231949 5.19045058 5.49553057]\n",
            " [5.71172367 5.36259411 5.10753156]]\n"
          ]
        }
      ]
    },
    {
      "cell_type": "markdown",
      "metadata": {
        "id": "lFrLG5IxhGb7"
      },
      "source": [
        "2. Create two matrices as matrix1 & matrix2. Then, perform addition operation on them.\n",
        "\n",
        "\n",
        "\n",
        "\n",
        "\n",
        "\n",
        "\n",
        "\n"
      ]
    },
    {
      "cell_type": "code",
      "metadata": {
        "id": "glU1W378hKnU",
        "colab": {
          "base_uri": "https://localhost:8080/"
        },
        "outputId": "d7918e0c-b7f5-4a5f-eb29-35dd539dadb1"
      },
      "source": [
        "# Creating matrices\n",
        "# YOUR CODE HERE\n",
        "matrix1 = np.random.rand(3,3)\n",
        "matrix2 = np.random.rand(3,3)\n",
        "print(\"Matrix1:\\n\",matrix1)\n",
        "print(\"Matrix2:\\n\",matrix2)\n",
        "\n",
        "# Matrix Addition\n",
        "# YOUR CODE HERE\n",
        "addition = matrix1 + matrix2\n",
        "print(\"Addition:\\n\",addition)"
      ],
      "execution_count": 19,
      "outputs": [
        {
          "output_type": "stream",
          "name": "stdout",
          "text": [
            "Matrix1:\n",
            " [[0.65673043 0.45861984 0.6542005 ]\n",
            " [0.59908203 0.16540724 0.10366273]\n",
            " [0.091142   0.73990002 0.19620045]]\n",
            "Matrix2:\n",
            " [[0.34888933 0.288286   0.8550391 ]\n",
            " [0.39062189 0.92303967 0.6975966 ]\n",
            " [0.79203524 0.90636618 0.73788453]]\n",
            "Addition:\n",
            " [[1.00561977 0.74690584 1.5092396 ]\n",
            " [0.98970392 1.08844691 0.80125933]\n",
            " [0.88317724 1.64626621 0.93408498]]\n"
          ]
        }
      ]
    },
    {
      "cell_type": "markdown",
      "metadata": {
        "id": "Aho-IiUvm2mu"
      },
      "source": [
        "### Subtraction"
      ]
    },
    {
      "cell_type": "markdown",
      "metadata": {
        "id": "8FaT3Jtn4ncF"
      },
      "source": [
        "3. Create a matrix of size 3x6 and subtract a scalar from it.\n",
        "\n"
      ]
    },
    {
      "cell_type": "code",
      "metadata": {
        "id": "MmCu2FKc4rMQ",
        "colab": {
          "base_uri": "https://localhost:8080/"
        },
        "outputId": "400db884-17f3-4430-d19e-31d2a287e9f0"
      },
      "source": [
        "# Creating matrices\n",
        "# YOUR CODE HERE\n",
        "matrix = np.random.rand(3,6)\n",
        "print(\"Matrix:\\n\",matrix)\n",
        "\n",
        "# Scalar Substraction\n",
        "# YOUR CODE HERE\n",
        "scalar = 5\n",
        "subtraction = matrix - scalar\n",
        "print(\"Subtraction:\\n\",subtraction)"
      ],
      "execution_count": 20,
      "outputs": [
        {
          "output_type": "stream",
          "name": "stdout",
          "text": [
            "Matrix:\n",
            " [[0.65853318 0.45824192 0.29360513 0.27594816 0.64796841 0.29869828]\n",
            " [0.68458416 0.80034677 0.57796566 0.96340824 0.70805294 0.31582114]\n",
            " [0.73938938 0.32490516 0.32783925 0.99363353 0.47517569 0.04187108]]\n",
            "Subtraction:\n",
            " [[-4.34146682 -4.54175808 -4.70639487 -4.72405184 -4.35203159 -4.70130172]\n",
            " [-4.31541584 -4.19965323 -4.42203434 -4.03659176 -4.29194706 -4.68417886]\n",
            " [-4.26061062 -4.67509484 -4.67216075 -4.00636647 -4.52482431 -4.95812892]]\n"
          ]
        }
      ]
    },
    {
      "cell_type": "markdown",
      "metadata": {
        "id": "kMJrSRVhpLg2"
      },
      "source": [
        "4. Create two matrices of size 2x3 and subtract second matrix from the first one."
      ]
    },
    {
      "cell_type": "code",
      "metadata": {
        "id": "2ndefVGDpOjC",
        "colab": {
          "base_uri": "https://localhost:8080/"
        },
        "outputId": "ee41d897-194e-4f5c-9b66-1fa86cf27a50"
      },
      "source": [
        "# Creating matrices\n",
        "# YOUR CODE HERE\n",
        "matrix1 = np.random.rand(2,3)\n",
        "matrix2 = np.random.rand(2,3)\n",
        "print(\"Matrix1:\\n\",matrix1)\n",
        "print(\"Matrix2:\\n\",matrix2)\n",
        "\n",
        "# Matrix Subtraction\n",
        "# YOUR CODE HERE\n",
        "subtraction = matrix1 - matrix2\n",
        "print(\"Subtraction:\\n\",subtraction)"
      ],
      "execution_count": 21,
      "outputs": [
        {
          "output_type": "stream",
          "name": "stdout",
          "text": [
            "Matrix1:\n",
            " [[0.92231003 0.85690841 0.73315361]\n",
            " [0.52375016 0.90120817 0.34534944]]\n",
            "Matrix2:\n",
            " [[0.51977699 0.85079505 0.57274489]\n",
            " [0.87509645 0.99033531 0.64511154]]\n",
            "Subtraction:\n",
            " [[ 0.40253304  0.00611336  0.16040873]\n",
            " [-0.35134628 -0.08912714 -0.2997621 ]]\n"
          ]
        }
      ]
    },
    {
      "cell_type": "markdown",
      "metadata": {
        "id": "38cMo8C7mxXN"
      },
      "source": [
        "### Division"
      ]
    },
    {
      "cell_type": "markdown",
      "metadata": {
        "id": "6kx-20ES4rt2"
      },
      "source": [
        "5. Create a 4x3 matrix and divide it by a scalar.\n",
        "\n",
        "\n",
        "\n",
        "\n"
      ]
    },
    {
      "cell_type": "code",
      "metadata": {
        "id": "xbyGCdGV4wqg",
        "colab": {
          "base_uri": "https://localhost:8080/"
        },
        "outputId": "83a276ac-5959-45c7-c3d1-eafb241c39f5"
      },
      "source": [
        "# Creating matrix\n",
        "# YOUR CODE HERE\n",
        "matrix = np.random.rand(4,3)\n",
        "print(\"Matrix:\\n\",matrix)\n",
        "\n",
        "# Scalar Division\n",
        "# YOUR CODE HERE\n",
        "scalar = 5\n",
        "division = matrix / scalar\n",
        "print(\"Division:\\n\",division)"
      ],
      "execution_count": 22,
      "outputs": [
        {
          "output_type": "stream",
          "name": "stdout",
          "text": [
            "Matrix:\n",
            " [[0.07323684 0.57179597 0.94623228]\n",
            " [0.11716094 0.35468099 0.22915826]\n",
            " [0.48126658 0.41965633 0.87642768]\n",
            " [0.16774674 0.40589874 0.72333666]]\n",
            "Division:\n",
            " [[0.01464737 0.11435919 0.18924646]\n",
            " [0.02343219 0.0709362  0.04583165]\n",
            " [0.09625332 0.08393127 0.17528554]\n",
            " [0.03354935 0.08117975 0.14466733]]\n"
          ]
        }
      ]
    },
    {
      "cell_type": "markdown",
      "metadata": {
        "id": "YQDSP45Mqr8g"
      },
      "source": [
        "6. Create two matrices and divide the first matrix by the second one."
      ]
    },
    {
      "cell_type": "code",
      "metadata": {
        "id": "DNS6LjQ1quh5",
        "colab": {
          "base_uri": "https://localhost:8080/"
        },
        "outputId": "d1a494a7-e365-414e-ffb1-773c23bacac3"
      },
      "source": [
        "# Creating matrices\n",
        "# YOUR CODE HERE\n",
        "matrix1 = np.random.rand(4,3)\n",
        "matrix2 = np.random.rand(4,3)\n",
        "print(\"Matrix1:\\n\",matrix1)\n",
        "print(\"Matrix2:\\n\",matrix2)\n",
        "\n",
        "# Matrix Division\n",
        "# YOUR CODE HERE\n",
        "division = matrix1 / matrix2\n",
        "print(\"Division:\\n\",division)"
      ],
      "execution_count": 23,
      "outputs": [
        {
          "output_type": "stream",
          "name": "stdout",
          "text": [
            "Matrix1:\n",
            " [[0.43680988 0.42004583 0.32872311]\n",
            " [0.86515926 0.71929542 0.53692739]\n",
            " [0.79700945 0.68766712 0.36503598]\n",
            " [0.25094926 0.54249598 0.1093662 ]]\n",
            "Matrix2:\n",
            " [[0.09913944 0.01285743 0.51007522]\n",
            " [0.09600652 0.07692463 0.34962819]\n",
            " [0.63860943 0.07789084 0.8921423 ]\n",
            " [0.85374465 0.07036363 0.16064855]]\n",
            "Division:\n",
            " [[ 4.40601542 32.66950745  0.64446006]\n",
            " [ 9.01146401  9.35065186  1.53570968]\n",
            " [ 1.24803896  8.82860008  0.40916788]\n",
            " [ 0.29393948  7.70989233  0.68077926]]\n"
          ]
        }
      ]
    },
    {
      "cell_type": "markdown",
      "metadata": {
        "id": "BUBxYsfN4zp3"
      },
      "source": [
        "### Multiplication"
      ]
    },
    {
      "cell_type": "markdown",
      "metadata": {
        "id": "cqTR0BZZrwJw"
      },
      "source": [
        "7. Create a matrix and mulitply it by a Scalar.\n",
        "\n",
        "\n"
      ]
    },
    {
      "cell_type": "code",
      "metadata": {
        "id": "W6a67QO-r2MS",
        "colab": {
          "base_uri": "https://localhost:8080/"
        },
        "outputId": "4a2797ae-2a98-4703-cd9b-2a124e7586cc"
      },
      "source": [
        "# Creating matrix\n",
        "# YOUR CODE HERE\n",
        "matrix = np.random.rand(4,3)\n",
        "print(\"Matrix:\\n\",matrix)\n",
        "\n",
        "# Scalar Multiplication\n",
        "# YOUR CODE HERE\n",
        "scalar = 5\n",
        "multiplication = matrix * scalar\n",
        "print(\"Multiplication:\\n\",multiplication)\n",
        "\n",
        "# Scalar Product\n",
        "# YOUR CODE HERE\n",
        "scalar_product = np.dot(matrix, scalar)\n",
        "print(\"Scalar Product:\\n\",scalar_product)"
      ],
      "execution_count": 24,
      "outputs": [
        {
          "output_type": "stream",
          "name": "stdout",
          "text": [
            "Matrix:\n",
            " [[0.13833988 0.25163917 0.88427537]\n",
            " [0.20466674 0.21839837 0.56994962]\n",
            " [0.10024733 0.42371766 0.92662681]\n",
            " [0.30822025 0.52529823 0.60020297]]\n",
            "Multiplication:\n",
            " [[0.69169938 1.25819584 4.42137683]\n",
            " [1.02333369 1.09199186 2.84974811]\n",
            " [0.50123666 2.11858829 4.63313406]\n",
            " [1.54110126 2.62649115 3.00101483]]\n",
            "Scalar Product:\n",
            " [[0.69169938 1.25819584 4.42137683]\n",
            " [1.02333369 1.09199186 2.84974811]\n",
            " [0.50123666 2.11858829 4.63313406]\n",
            " [1.54110126 2.62649115 3.00101483]]\n"
          ]
        }
      ]
    },
    {
      "cell_type": "markdown",
      "metadata": {
        "id": "OECLxNNplrrR"
      },
      "source": [
        "Multiplication of two matrices is shown in the below diagram:\n",
        "\n"
      ]
    },
    {
      "cell_type": "markdown",
      "metadata": {
        "id": "yHi5zP0ZE5pa"
      },
      "source": [
        "$A.B = \\begin{bmatrix}\n",
        "a & b\\\\\n",
        "c & d\\\\\n",
        "\\end{bmatrix} \\begin{bmatrix}\n",
        "e & f\\\\\n",
        "g & h\\\\\n",
        "\\end{bmatrix} = \\begin{bmatrix}\n",
        "ae+ bg & af+bh\\\\\n",
        "ce+dg & cf+dh\\\\\n",
        "\\end{bmatrix}$"
      ]
    },
    {
      "cell_type": "markdown",
      "metadata": {
        "id": "PbSjmcltr2sz"
      },
      "source": [
        "8. Create two matrices and multiply them.\n",
        "\n",
        "  Note: Here, the corresponding elements are not multiplied. The multiplication rules are different from addition, subtraction, and division."
      ]
    },
    {
      "cell_type": "code",
      "metadata": {
        "id": "neTNogReZeW-",
        "colab": {
          "base_uri": "https://localhost:8080/"
        },
        "outputId": "2cb1fd3f-18d1-4a13-c118-f3970409cfd8"
      },
      "source": [
        "# Creating matrices\n",
        "# YOUR CODE HERE\n",
        "matrix1 = np.random.rand(4,3)\n",
        "matrix2 = np.random.rand(3,4)\n",
        "print(\"Matrix1:\\n\",matrix1)\n",
        "print(\"Matrix2:\\n\",matrix2)\n",
        "\n",
        "# Matrix Multiplication\n",
        "# YOUR CODE HERE\n",
        "multiplication = np.matmul(matrix1, matrix2)\n",
        "print(\"Multiplication:\\n\",multiplication)\n",
        "\n",
        "# Dot Product\n",
        "# YOUR CODE HERE\n",
        "dot_product = np.dot(matrix1, matrix2)\n",
        "print(\"Dot Product:\\n\",dot_product)"
      ],
      "execution_count": 30,
      "outputs": [
        {
          "output_type": "stream",
          "name": "stdout",
          "text": [
            "Matrix1:\n",
            " [[0.61574332 0.26191271 0.9699254 ]\n",
            " [0.47547399 0.92688099 0.83425556]\n",
            " [0.03686396 0.50424827 0.35322243]\n",
            " [0.91289921 0.25115217 0.83739885]]\n",
            "Matrix2:\n",
            " [[0.7006764  0.0359732  0.89547226 0.20611202]\n",
            " [0.10763096 0.14091212 0.2170566  0.19911797]\n",
            " [0.92048745 0.37901649 0.22905229 0.92940472]]\n",
            "Multiplication:\n",
            " [[1.35243089 0.42667466 0.83039458 1.08051687]\n",
            " [1.20083627 0.46390971 0.81804756 1.05792062]\n",
            " [0.40523925 0.20625794 0.22336747 0.43628959]\n",
            " [1.43749382 0.38561827 1.06379828 1.01645085]]\n",
            "Dot Product:\n",
            " [[1.35243089 0.42667466 0.83039458 1.08051687]\n",
            " [1.20083627 0.46390971 0.81804756 1.05792062]\n",
            " [0.40523925 0.20625794 0.22336747 0.43628959]\n",
            " [1.43749382 0.38561827 1.06379828 1.01645085]]\n"
          ]
        }
      ]
    },
    {
      "cell_type": "markdown",
      "metadata": {
        "id": "VHfHdGCP_n6Y"
      },
      "source": [
        "### Please answer the questions below to complete the experiment:\n",
        "\n",
        "\n"
      ]
    },
    {
      "cell_type": "markdown",
      "source": [
        "Consider the statements given below and answer Q1.\n",
        "\n",
        "\n",
        "A. Every skew-symmetric matrix of odd order is non-singular\n",
        "\n",
        "B. If determinant of a square matrix is non-zero, then it is non singular\n",
        "\n",
        "C. Adjoint of symmetric matrix is symmetric\n",
        "\n",
        "D. Adjoint of a diagonal matrix is diagonal"
      ],
      "metadata": {
        "id": "Ibp8o1S_Gmp0"
      }
    },
    {
      "cell_type": "code",
      "metadata": {
        "cellView": "form",
        "id": "wasYq8PE0DlE"
      },
      "source": [
        "#@title Q.1. Which of the above statements is/are False?\n",
        "Answer1 = \"\" #@param [\"\",\"Only A\",\"Both A & B\",\"Only B\", \"Only C\", \"Only D\", \"Both B & C\"]\n"
      ],
      "execution_count": null,
      "outputs": []
    },
    {
      "cell_type": "markdown",
      "source": [
        "Consider the matrix A and the values of a, b, and c given below for answering Q.2.\n",
        "\n",
        "$A = \\begin{bmatrix}\n",
        "0 & 2b & c   \\\\\n",
        "a & b & -c   \\\\\n",
        "a & -b & c   \\\\\n",
        "\\end{bmatrix}$\n",
        "\n",
        "<br>\n",
        "\n",
        "A). a = $\\pm \\frac{1}{\\sqrt{6}} $, b = $\\pm \\frac{1}{\\sqrt{2}}$ , c = $\\pm \\frac{1}{\\sqrt{2}} $\n",
        "\n",
        "\n",
        "<br>\n",
        "\n",
        "B). a = $\\pm \\frac{1}{\\sqrt{6}} $, b = $\\pm \\frac{1}{\\sqrt{3}}$ , c = $\\pm \\frac{1}{\\sqrt{2}} $\n",
        "\n",
        "\n",
        "<br>\n",
        "\n",
        "C). a = $\\pm \\frac{1}{\\sqrt{2}} $, b = $\\pm \\frac{1}{\\sqrt{6}}$ , c = $\\pm \\frac{1}{\\sqrt{3}} $\n",
        "\n",
        "<br>\n",
        "\n",
        "D). a = $\\pm \\frac{1}{\\sqrt{2}} $, b = $\\pm \\frac{1}{\\sqrt{2}}$ , c = $\\pm \\frac{1}{\\sqrt{2}} $"
      ],
      "metadata": {
        "id": "zUG3igTEJrLL"
      }
    },
    {
      "cell_type": "code",
      "metadata": {
        "id": "UX24XAeIJ6Nf",
        "cellView": "form"
      },
      "source": [
        "#@title Q.2. If 'A' is an orthogonal matrix, then, what will be the values of a, b, and c.\n",
        "Answer2 = \"\" #@param [\"\",\"Only A\",\"Only B\",\"Only C\",\"Only D\", \"None of the above\"]\n"
      ],
      "execution_count": null,
      "outputs": []
    },
    {
      "cell_type": "code",
      "metadata": {
        "id": "NMzKSbLIgFzQ"
      },
      "source": [
        "#@title How was the experiment? { run: \"auto\", form-width: \"500px\", display-mode: \"form\" }\n",
        "Complexity = \"\" #@param [\"\",\"Too Simple, I am wasting time\", \"Good, But Not Challenging for me\", \"Good and Challenging for me\", \"Was Tough, but I did it\", \"Too Difficult for me\"]\n"
      ],
      "execution_count": null,
      "outputs": []
    },
    {
      "cell_type": "code",
      "metadata": {
        "id": "DjcH1VWSFI2l"
      },
      "source": [
        "#@title If it was too easy, what more would you have liked to be added? If it was very difficult, what would you have liked to have been removed? { run: \"auto\", display-mode: \"form\" }\n",
        "Additional = \"\" #@param {type:\"string\"}\n"
      ],
      "execution_count": null,
      "outputs": []
    },
    {
      "cell_type": "code",
      "metadata": {
        "id": "4VBk_4VTAxCM"
      },
      "source": [
        "#@title Can you identify the concepts from the lecture which this experiment covered? { run: \"auto\", vertical-output: true, display-mode: \"form\" }\n",
        "Concepts = \"\" #@param [\"\",\"Yes\", \"No\"]\n"
      ],
      "execution_count": null,
      "outputs": []
    },
    {
      "cell_type": "code",
      "metadata": {
        "id": "XH91cL1JWH7m"
      },
      "source": [
        "#@title  Text and image description/explanation and code comments within the experiment: { run: \"auto\", vertical-output: true, display-mode: \"form\" }\n",
        "Comments = \"\" #@param [\"\",\"Very Useful\", \"Somewhat Useful\", \"Not Useful\", \"Didn't use\"]\n"
      ],
      "execution_count": null,
      "outputs": []
    },
    {
      "cell_type": "code",
      "metadata": {
        "id": "z8xLqj7VWIKW"
      },
      "source": [
        "#@title Mentor Support: { run: \"auto\", vertical-output: true, display-mode: \"form\" }\n",
        "Mentor_support = \"\" #@param [\"\",\"Very Useful\", \"Somewhat Useful\", \"Not Useful\", \"Didn't use\"]\n"
      ],
      "execution_count": null,
      "outputs": []
    },
    {
      "cell_type": "code",
      "metadata": {
        "id": "FzAZHt1zw-Y-",
        "cellView": "form"
      },
      "source": [
        "#@title Run this cell to submit your notebook for grading { vertical-output: true }\n",
        "try:\n",
        "  if submission_id:\n",
        "      return_id = submit_notebook()\n",
        "      if return_id : submission_id = return_id\n",
        "  else:\n",
        "      print(\"Please complete the setup first.\")\n",
        "except NameError:\n",
        "  print (\"Please complete the setup first.\")"
      ],
      "execution_count": null,
      "outputs": []
    }
  ]
}