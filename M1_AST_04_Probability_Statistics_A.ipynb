{
  "nbformat": 4,
  "nbformat_minor": 0,
  "metadata": {
    "colab": {
      "provenance": [],
      "include_colab_link": true
    },
    "kernelspec": {
      "name": "python3",
      "display_name": "Python 3"
    },
    "language_info": {
      "name": "python"
    }
  },
  "cells": [
    {
      "cell_type": "markdown",
      "metadata": {
        "id": "view-in-github",
        "colab_type": "text"
      },
      "source": [
        "<a href=\"https://colab.research.google.com/github/UpendraVishwanathYS/IISc_Deep_Learning_Course_Assignment/blob/main/M1_AST_04_Probability_Statistics_A.ipynb\" target=\"_parent\"><img src=\"https://colab.research.google.com/assets/colab-badge.svg\" alt=\"Open In Colab\"/></a>"
      ]
    },
    {
      "cell_type": "markdown",
      "metadata": {
        "id": "UldzC97z9Dkf"
      },
      "source": [
        "# Advanced Certification Program in Deep Learning\n",
        "## A program by IISc and TalentSprint\n",
        "### Assignment 4: Probability and Statistics"
      ]
    },
    {
      "cell_type": "markdown",
      "metadata": {
        "id": "S_JXZlmQ9Dkh"
      },
      "source": [
        "## Learning Objectives"
      ]
    },
    {
      "cell_type": "markdown",
      "metadata": {
        "id": "qwcb4wBybvSm"
      },
      "source": [
        "At the end of the experiment, you will be able to\n",
        "\n",
        "* get a broad exposure of the random variables and the way to deal them\n",
        "\n",
        "* understand the concepts of discrete, continuous random variables\n",
        "\n",
        "* understand CDF, PMF, PDF\n",
        "\n",
        "* understand the concepts of probability distributions\n",
        "\n",
        "* understand Expectation and Moments of random variables\n",
        "\n",
        "* understand the terms like parameter estimation and bias estimator\n",
        "\n",
        "* understand the bayesian inference with prior and posterior distributions"
      ]
    },
    {
      "cell_type": "markdown",
      "metadata": {
        "id": "BNLA8HiKxQhc"
      },
      "source": [
        "### Setup Steps:"
      ]
    },
    {
      "cell_type": "code",
      "metadata": {
        "id": "xWMVQWk58aXm"
      },
      "source": [
        "#@title Please enter your registration id to start: { run: \"auto\", display-mode: \"form\" }\n",
        "Id = \"\" #@param {type:\"string\"}"
      ],
      "execution_count": null,
      "outputs": []
    },
    {
      "cell_type": "code",
      "metadata": {
        "id": "cwqosl928dBA"
      },
      "source": [
        "#@title Please enter your password (normally your phone number) to continue: { run: \"auto\", display-mode: \"form\" }\n",
        "password = \"\" #@param {type:\"string\"}"
      ],
      "execution_count": null,
      "outputs": []
    },
    {
      "cell_type": "code",
      "metadata": {
        "cellView": "form",
        "id": "KzNzdZoQeBLz"
      },
      "source": [
        "#@title Run this cell to complete the setup for this Notebook\n",
        "from IPython import get_ipython\n",
        "import warnings\n",
        "warnings.filterwarnings(\"ignore\")\n",
        "\n",
        "ipython = get_ipython()\n",
        "\n",
        "notebook= \"M1_AST_04_Probability_Statistics_A\" #name of the notebook\n",
        "\n",
        "def setup():\n",
        "    from IPython.display import HTML, display\n",
        "    display(HTML('<script src=\"https://dashboard.talentsprint.com/aiml/record_ip.html?traineeId={0}&recordId={1}\"></script>'.format(getId(),submission_id)))\n",
        "    print(\"Setup completed successfully\")\n",
        "    return\n",
        "\n",
        "def submit_notebook():\n",
        "    ipython.magic(\"notebook -e \"+ notebook + \".ipynb\")\n",
        "\n",
        "    import requests, json, base64, datetime\n",
        "\n",
        "    url = \"https://dashboard.talentsprint.com/xp/app/save_notebook_attempts\"\n",
        "    if not submission_id:\n",
        "      data = {\"id\" : getId(), \"notebook\" : notebook, \"mobile\" : getPassword()}\n",
        "      r = requests.post(url, data = data)\n",
        "      r = json.loads(r.text)\n",
        "\n",
        "      if r[\"status\"] == \"Success\":\n",
        "          return r[\"record_id\"]\n",
        "      elif \"err\" in r:\n",
        "        print(r[\"err\"])\n",
        "        return None\n",
        "      else:\n",
        "        print (\"Something is wrong, the notebook will not be submitted for grading\")\n",
        "        return None\n",
        "\n",
        "    elif getAnswer1() and getAnswer2() and getComplexity() and getAdditional() and getConcepts() and getComments() and getMentorSupport():\n",
        "      f = open(notebook + \".ipynb\", \"rb\")\n",
        "      file_hash = base64.b64encode(f.read())\n",
        "\n",
        "      data = {\"complexity\" : Complexity, \"additional\" :Additional,\n",
        "              \"concepts\" : Concepts, \"record_id\" : submission_id,\n",
        "              \"answer1\" : Answer1, \"answer2\" : Answer2, \"id\" : Id, \"file_hash\" : file_hash,\n",
        "              \"notebook\" : notebook,\n",
        "              \"feedback_experiments_input\" : Comments,\n",
        "              \"feedback_mentor_support\": Mentor_support}\n",
        "      r = requests.post(url, data = data)\n",
        "      r = json.loads(r.text)\n",
        "      if \"err\" in r:\n",
        "        print(r[\"err\"])\n",
        "        return None\n",
        "      else:\n",
        "        print(\"Your submission is successful.\")\n",
        "        print(\"Ref Id:\", submission_id)\n",
        "        print(\"Date of submission: \", r[\"date\"])\n",
        "        print(\"Time of submission: \", r[\"time\"])\n",
        "        print(\"View your submissions: https://learn-iisc.talentsprint.com/notebook_submissions\")\n",
        "        #print(\"For any queries/discrepancies, please connect with mentors through the chat icon in LMS dashboard.\")\n",
        "        return submission_id\n",
        "    else: submission_id\n",
        "\n",
        "\n",
        "def getAdditional():\n",
        "  try:\n",
        "    if not Additional:\n",
        "      raise NameError\n",
        "    else:\n",
        "      return Additional\n",
        "  except NameError:\n",
        "    print (\"Please answer Additional Question\")\n",
        "    return None\n",
        "\n",
        "def getComplexity():\n",
        "  try:\n",
        "    if not Complexity:\n",
        "      raise NameError\n",
        "    else:\n",
        "      return Complexity\n",
        "  except NameError:\n",
        "    print (\"Please answer Complexity Question\")\n",
        "    return None\n",
        "\n",
        "def getConcepts():\n",
        "  try:\n",
        "    if not Concepts:\n",
        "      raise NameError\n",
        "    else:\n",
        "      return Concepts\n",
        "  except NameError:\n",
        "    print (\"Please answer Concepts Question\")\n",
        "    return None\n",
        "\n",
        "\n",
        "# def getWalkthrough():\n",
        "#   try:\n",
        "#     if not Walkthrough:\n",
        "#       raise NameError\n",
        "#     else:\n",
        "#       return Walkthrough\n",
        "#   except NameError:\n",
        "#     print (\"Please answer Walkthrough Question\")\n",
        "#     return None\n",
        "\n",
        "def getComments():\n",
        "  try:\n",
        "    if not Comments:\n",
        "      raise NameError\n",
        "    else:\n",
        "      return Comments\n",
        "  except NameError:\n",
        "    print (\"Please answer Comments Question\")\n",
        "    return None\n",
        "\n",
        "\n",
        "def getMentorSupport():\n",
        "  try:\n",
        "    if not Mentor_support:\n",
        "      raise NameError\n",
        "    else:\n",
        "      return Mentor_support\n",
        "  except NameError:\n",
        "    print (\"Please answer Mentor support Question\")\n",
        "    return None\n",
        "\n",
        "def getAnswer1():\n",
        "  try:\n",
        "    if not Answer1:\n",
        "      raise NameError\n",
        "    else:\n",
        "      return Answer1\n",
        "  except NameError:\n",
        "    print (\"Please answer Question 1\")\n",
        "    return None\n",
        "\n",
        "def getAnswer2():\n",
        "  try:\n",
        "    if not Answer2:\n",
        "      raise NameError\n",
        "    else:\n",
        "      return Answer2\n",
        "  except NameError:\n",
        "    print (\"Please answer Question 2\")\n",
        "    return None\n",
        "\n",
        "\n",
        "def getId():\n",
        "  try:\n",
        "    return Id if Id else None\n",
        "  except NameError:\n",
        "    return None\n",
        "\n",
        "def getPassword():\n",
        "  try:\n",
        "    return password if password else None\n",
        "  except NameError:\n",
        "    return None\n",
        "\n",
        "submission_id = None\n",
        "### Setup\n",
        "if getPassword() and getId():\n",
        "  submission_id = submit_notebook()\n",
        "  if submission_id:\n",
        "    setup()\n",
        "else:\n",
        "  print (\"Please complete Id and Password cells before running setup\")\n",
        "\n"
      ],
      "execution_count": null,
      "outputs": []
    },
    {
      "cell_type": "markdown",
      "metadata": {
        "id": "fuXwHNEXFntd"
      },
      "source": [
        "### Importing required packages"
      ]
    },
    {
      "cell_type": "code",
      "metadata": {
        "id": "vJnhXhDAFTHj"
      },
      "source": [
        "import scipy                        # Scientific computation library\n",
        "import numpy as np\n",
        "import pandas as pd\n",
        "\n",
        "import seaborn as sns               # Advaced Visualization with high level interface\n",
        "import math\n",
        "import matplotlib.pyplot as plt     # Visualization\n",
        "import scipy.stats as stats\n",
        "\n",
        "from math import factorial\n",
        "from scipy import integrate         # Several integration techniques\n",
        "\n",
        "# Importing various continuos and discrete probability distributions\n",
        "from scipy.stats import binom, expon, uniform, bernoulli, poisson\n",
        "\n",
        "sns.set_style('whitegrid')"
      ],
      "execution_count": 1,
      "outputs": []
    },
    {
      "cell_type": "markdown",
      "source": [
        "Distribution is a function that provides the possible values of a variable and how often they occur. The probability distribution is a mathematical function that provides the possibilities of occurrence of the various possible outcomes that can occur in an experiment.\n",
        "\n",
        "Probability distributions are either continuous probability distributions or discrete probability distributions, depending on whether they define probabilities for continuous or discrete random variables as shown in the figure below."
      ],
      "metadata": {
        "id": "ceCWjE6lfEUM"
      }
    },
    {
      "cell_type": "markdown",
      "metadata": {
        "id": "Qen2Rd3dshL9"
      },
      "source": [
        "### Random Variables"
      ]
    },
    {
      "cell_type": "markdown",
      "metadata": {
        "id": "MF6UPftAl97u"
      },
      "source": [
        "Random variable is basically a function which maps from the set of sample space to set of real numbers. The purpose is to get an idea about result of a particular situation where we are given probabilities of different outcomes.\n",
        "\n",
        "   Formal definition :   $ X: S -> R $\n",
        "\n",
        "where,  $X$ = random variable, $S$ = set of sample space, $R$ = set of real numbers\n",
        "\n",
        "To know more about random variables click [here](http://www.stat.yale.edu/Courses/1997-98/101/ranvar.htm).\n",
        "\n",
        "There are mainly two types of random variables: discrete and continuous as shown in figure below\n",
        "\n",
        "<center>\n",
        "<img src=\"https://cdn.iisc.talentsprint.com/CDS/Images/Random_variables.jpg\" width=550px/>\n",
        "</center>\n",
        "\n"
      ]
    },
    {
      "cell_type": "markdown",
      "metadata": {
        "id": "oQeldSlDmIa2"
      },
      "source": [
        "Constructing probability distributions for random variables"
      ]
    },
    {
      "cell_type": "markdown",
      "metadata": {
        "id": "CATXIJ0QmJYj"
      },
      "source": [
        "### Discrete Random Variable and PMF"
      ]
    },
    {
      "cell_type": "markdown",
      "metadata": {
        "id": "wnQ9FlZymOxA"
      },
      "source": [
        "A random variable $X$ is said to be discrete if it takes on finite number of values. The probability function associated with it is said to be probability mass function or PMF.\n",
        "$P(x_i)$ = Probability that $(X = x_i)$ = PMF of $X = p_i$.\n",
        "\n",
        "* $ 0 ≤ p_i ≤ 1 $\n",
        "* $ ∑p_i = 1 $ where the sum is taken over all possible values of X"
      ]
    },
    {
      "cell_type": "markdown",
      "metadata": {
        "id": "CrzDjmqCmRYn"
      },
      "source": [
        "**Exercise 1:** Let $S$ is the sample space given below and corresponding $P(X=x_i)$ is also given, where $X$ is a discrete random variable. Find the probability at $X=0$."
      ]
    },
    {
      "cell_type": "code",
      "metadata": {
        "id": "XO5tSsN_mVAC",
        "colab": {
          "base_uri": "https://localhost:8080/"
        },
        "outputId": "e3894b92-71a2-4fe2-8c32-7db8bd2066e4"
      },
      "source": [
        "# Creating the dataframe\n",
        "df1 = pd.DataFrame({'X=0': '?', 'X=1':0.2, 'X=3': 0.3, 'X=4': 0.1}, index= ['P(X=xi)'])\n",
        "print(df1)"
      ],
      "execution_count": 2,
      "outputs": [
        {
          "output_type": "stream",
          "name": "stdout",
          "text": [
            "        X=0  X=1  X=3  X=4\n",
            "P(X=xi)   ?  0.2  0.3  0.1\n"
          ]
        }
      ]
    },
    {
      "cell_type": "code",
      "metadata": {
        "id": "ci0ZqXMnmXpC",
        "colab": {
          "base_uri": "https://localhost:8080/"
        },
        "outputId": "67d3f49d-da5d-4490-c6c4-9af61cb4bde2"
      },
      "source": [
        "# For a discrete random variable we know that sum of all P(X=xi) = 1,\n",
        "# YOUR CODE HERE\n",
        "sum_all_prob = 1\n",
        "df1['X=0'] = sum_all_prob - sum(df1.iloc[0,1:])\n",
        "print(df1)"
      ],
      "execution_count": 6,
      "outputs": [
        {
          "output_type": "stream",
          "name": "stdout",
          "text": [
            "         X=0  X=1  X=3  X=4\n",
            "P(X=xi)  0.4  0.2  0.3  0.1\n"
          ]
        }
      ]
    },
    {
      "cell_type": "markdown",
      "metadata": {
        "id": "5nNun5SSmaex"
      },
      "source": [
        "**Exercise 2:** Plot the PMF of the discrete random variable X defined as total number of heads while tossing a coin thrice."
      ]
    },
    {
      "cell_type": "code",
      "source": [
        "# Our sample space would consist of {HHH, HHT,HTH, THH, TTH, THT, HTT, TTT}\n",
        "X = [0, 1, 2, 3]   # Number of heads we can get are\n",
        "sample_space = ['HHH', 'HHT', 'HTH', 'THH', 'TTH', 'THT', 'HTT', 'TTT']\n",
        "# P(X=0)     {TTT}\n",
        "# Sample space for 3 coin tosses\n",
        "sample_space = ['HHH', 'HHT', 'HTH', 'THH', 'TTH', 'THT', 'HTT', 'TTT']\n",
        "\n",
        "# Count the number of heads in each outcome\n",
        "head_counts = [outcome.count('H') for outcome in sample_space]\n"
      ],
      "metadata": {
        "id": "RqYsFeNcTmzs"
      },
      "execution_count": 7,
      "outputs": []
    },
    {
      "cell_type": "code",
      "metadata": {
        "id": "4MjPTMtTnxfD"
      },
      "source": [
        "# Our sample space would consist of {HHH, HHT,HTH, THH, TTH, THT, HTT, TTT}\n",
        "X = [0, 1, 2, 3]   # Number of heads we can get are\n",
        "\n",
        "sample_space = ['HHH', 'HHT', 'HTH', 'THH', 'TTH', 'THT', 'HTT', 'TTT']\n",
        "\n",
        "# Count the number of heads in each outcome\n",
        "head_counts = [outcome.count('H') for outcome in sample_space]\n",
        "\n",
        "\n",
        "P_X0 = len([x for x in head_counts if x == 0])/len(sample_space)\n",
        "P_X1 = len([x for x in head_counts if x == 1])/len(sample_space)\n",
        "P_X2 = len([x for x in head_counts if x == 2])/len(sample_space)\n",
        "P_X3 = len([x for x in head_counts if x == 3])/len(sample_space)"
      ],
      "execution_count": 9,
      "outputs": []
    },
    {
      "cell_type": "code",
      "metadata": {
        "id": "8rCTYlQ9nzz0",
        "colab": {
          "base_uri": "https://localhost:8080/",
          "height": 393
        },
        "outputId": "91a9cadc-2c57-4117-fc74-d98fb57d9d73"
      },
      "source": [
        "# Plotting PMF\n",
        "# YOUR CODE HERE\n",
        "pmf_values = [P_X0, P_X1, P_X2, P_X3]\n",
        "\n",
        "# Plotting PMF\n",
        "x_labels = ['0', '1', '2', '3']\n",
        "plt.figure(figsize=(6,4))\n",
        "plt.bar(x_labels, pmf_values, color='skyblue', edgecolor='black')\n",
        "plt.xlabel('X')\n",
        "plt.ylabel('P(X = x)')\n",
        "plt.ylim(0, 0.5)\n",
        "plt.grid(axis='y', linestyle='--', alpha=0.7)\n",
        "plt.show()"
      ],
      "execution_count": 26,
      "outputs": [
        {
          "output_type": "display_data",
          "data": {
            "text/plain": [
              "<Figure size 600x400 with 1 Axes>"
            ],
            "image/png": "[encoded data removed]"
          },
          "metadata": {}
        }
      ]
    },
    {
      "cell_type": "code",
      "metadata": {
        "id": "roolHZ0mn1yH",
        "colab": {
          "base_uri": "https://localhost:8080/",
          "height": 405
        },
        "outputId": "4fba6652-f42b-48d0-d501-f87920a95491"
      },
      "source": [
        "# Plotting CDF or cumulative distribution function\n",
        "# YOUR CODE HERE\n",
        "cdf_values = np.cumsum(pmf_values)\n",
        "plt.figure(figsize=(6,4))\n",
        "plt.bar(x_labels, cdf_values, color='skyblue', edgecolor='black')\n",
        "plt.xlabel('X')\n",
        "plt.ylabel('P(X ≤ x)')"
      ],
      "execution_count": 27,
      "outputs": [
        {
          "output_type": "execute_result",
          "data": {
            "text/plain": [
              "Text(0, 0.5, 'P(X ≤ x)')"
            ]
          },
          "metadata": {},
          "execution_count": 27
        },
        {
          "output_type": "display_data",
          "data": {
            "text/plain": [
              "<Figure size 600x400 with 1 Axes>"
            ],
            "image/png": "[encoded data removed]"
          },
          "metadata": {}
        }
      ]
    },
    {
      "cell_type": "markdown",
      "metadata": {
        "id": "-81qffwsn_qW"
      },
      "source": [
        "For further reference [click here](https://numpy.org/doc/stable/reference/generated/numpy.cumsum.html)"
      ]
    },
    {
      "cell_type": "markdown",
      "metadata": {
        "id": "9pVMTz-1oL2h"
      },
      "source": [
        "From above plot it can be seen that $ ∑p_i = 1 $."
      ]
    },
    {
      "cell_type": "markdown",
      "metadata": {
        "id": "U5Kpz9ALoOV1"
      },
      "source": [
        "### Continuous Random Variable and PDF"
      ]
    },
    {
      "cell_type": "markdown",
      "metadata": {
        "id": "eriwc_DVoQmN"
      },
      "source": [
        "A random variable $X$ is said to be continuous if it takes on the infinite number of values. The probability function associated with it is said to be PDF or probability density function.\n",
        "\n",
        "PDF: If $X$ is a continuous random variable.\n",
        "\n",
        "$ P (x < X < x + dx) = f(x).dx $\n",
        "\n",
        "* $ f(x) ≥ 0; $ for all $x$\n",
        "* $ ∫ f(x) dx = 1  $ over all values of $x$\n",
        "\n",
        "Then $P (X)$ is said to be a PDF of the distribution.\n",
        "\n",
        "The probability distribution of a continuous random variable $X$ is an assignment of probabilities to intervals of decimal numbers using a function $f(x)$, called a density function, in the following way: the probability that $X$ assumes a value in the interval $(a,b)$ is equal to the area of the region that is bounded above by the graph of the equation $y=f(x)$, bounded below by the $x$-axis, and bounded on the left and right by the vertical lines through $a$ and $b$, as shown in the figure below\n",
        "![image](https://cdn.iisc.talentsprint.com/CDS/Images/prob_density_function.png)"
      ]
    },
    {
      "cell_type": "markdown",
      "metadata": {
        "id": "pEOpUq7soUyq"
      },
      "source": [
        "**Exercise 3:** Compute the value of $P (1 < X < 2)$.\n",
        "    Such that the density function is given by,\n",
        "\n",
        "$$f(x)=\\begin{equation}\n",
        "\\left\\{\n",
        "  \\begin{aligned}\n",
        "    &k.x^3&  for\\ \\  0 ≤ x ≤ 3\\\\\n",
        "    &0&   \\  otherwise\\\\\n",
        "  \\end{aligned}\n",
        "  \\right.\n",
        "\\end{equation}\n",
        "$$\n",
        "\n",
        "Also, plot the PDF and CDF for random variable $X$."
      ]
    },
    {
      "cell_type": "code",
      "metadata": {
        "id": "CNI1IEAsoPlJ",
        "colab": {
          "base_uri": "https://localhost:8080/"
        },
        "outputId": "1c77e98c-628d-4377-faed-91d878484037"
      },
      "source": [
        "# ∫ f(x) dx = 1\n",
        "# Using the above property we find k,\n",
        "# ∫ (k*x**3)dx = 1\n",
        "# k = 1 / ∫ (x**3)dx\n",
        "# integrate  x^3  w.r.t  x from 0 to 3\n",
        "\n",
        "k = 1 / integrate.quad(lambda x: x**3, 0, 3)[0]\n",
        "\n",
        "print('k=', round(k,4))"
      ],
      "execution_count": 38,
      "outputs": [
        {
          "output_type": "stream",
          "name": "stdout",
          "text": [
            "k= 0.0494\n"
          ]
        }
      ]
    },
    {
      "cell_type": "code",
      "metadata": {
        "id": "yyq1b4P4odTt",
        "colab": {
          "base_uri": "https://localhost:8080/"
        },
        "outputId": "9fc32926-3e1f-4474-9c72-ed4c51bd0a51"
      },
      "source": [
        "# Now the probability density for 1<X<2 is given by,\n",
        "P = integrate.quad(lambda x: k*x**3, 1, 2)[0]\n",
        "print('P =', round(P,4))"
      ],
      "execution_count": 39,
      "outputs": [
        {
          "output_type": "stream",
          "name": "stdout",
          "text": [
            "P = 0.1852\n"
          ]
        }
      ]
    },
    {
      "cell_type": "code",
      "metadata": {
        "id": "DZHvpxOVofcl"
      },
      "source": [
        "# Create 100 values within 0 to 3 in order to plot PDF and CDF\n",
        "# YOUR CODE HERE\n",
        "x = np.linspace(0, 3, 100)"
      ],
      "execution_count": 44,
      "outputs": []
    },
    {
      "cell_type": "code",
      "metadata": {
        "id": "5kXWmQzyohez",
        "colab": {
          "base_uri": "https://localhost:8080/",
          "height": 504
        },
        "outputId": "bf24b284-3b82-494f-a0eb-ba07db0498a3"
      },
      "source": [
        "# Plotting PDF\n",
        "# YOUR CODE HERE\n",
        "pdf = k * x**3\n",
        "plt.figure(figsize=(12, 5))\n",
        "plt.plot(x, k * x**3, label='PDF: $f(x) = \\\\frac{4}{81}x^3$', color='blue')\n",
        "plt.title('Probability Density Function')\n",
        "plt.xlabel('x')\n",
        "plt.ylabel('f(x)')\n",
        "plt.grid(True)\n",
        "plt.legend()"
      ],
      "execution_count": 45,
      "outputs": [
        {
          "output_type": "execute_result",
          "data": {
            "text/plain": [
              "<matplotlib.legend.Legend at 0x79ccd895e850>"
            ]
          },
          "metadata": {},
          "execution_count": 45
        },
        {
          "output_type": "display_data",
          "data": {
            "text/plain": [
              "<Figure size 1200x500 with 1 Axes>"
            ],
            "image/png": "[encoded data removed]"
          },
          "metadata": {}
        }
      ]
    },
    {
      "cell_type": "code",
      "metadata": {
        "id": "_Z62RWjsojd8",
        "colab": {
          "base_uri": "https://localhost:8080/",
          "height": 449
        },
        "outputId": "ce53484e-8e31-4942-b9bf-51c807945d4b"
      },
      "source": [
        "# Plotting CDF\n",
        "# YOUR CODE HERE\n",
        "cdf = [integrate.quad(lambda t: k * t**3, 0, xi)[0] for xi in x]\n",
        "plt.plot(x, cdf, label='CDF')\n",
        "plt.xlabel('x')\n",
        "plt.ylabel('P(X ≤ x)')\n",
        "plt.legend()\n",
        "plt.show()"
      ],
      "execution_count": 46,
      "outputs": [
        {
          "output_type": "display_data",
          "data": {
            "text/plain": [
              "<Figure size 640x480 with 1 Axes>"
            ],
            "image/png": "[encoded data removed]"
          },
          "metadata": {}
        }
      ]
    },
    {
      "cell_type": "markdown",
      "metadata": {
        "id": "kHP9_siNomA4"
      },
      "source": [
        "From above plot it can be seen that $ ∫f(x) dx = 1  $."
      ]
    },
    {
      "cell_type": "markdown",
      "metadata": {
        "id": "liY-lmj_1NYy"
      },
      "source": [
        "### Constructing probability distributions for random variables and Expected value"
      ]
    },
    {
      "cell_type": "markdown",
      "metadata": {
        "id": "UVPChVM91QTY"
      },
      "source": [
        "**Constructing probability distributions for random variables:-**The probability distribution of a discrete random variable  $X$  is a list of each possible value of $X$  together with the probability that  $X$  takes that value in one trial of the experiment.\n",
        "\n",
        "The probabilities in the probability distribution of a random variable  X  must satisfy the following two conditions:\n",
        "\n",
        "Each probability  $P(x)$  must be between  0  and  1 :\n",
        "\n",
        "* $ 0 ≤ P_i ≤ 1 $\n",
        "\n",
        "The sum of all the possible probabilities is  1 :\n",
        "* $ ∑P_i = 1 $\n",
        "\n",
        "\n"
      ]
    },
    {
      "cell_type": "markdown",
      "metadata": {
        "id": "77X4HPuFZiZS"
      },
      "source": [
        "**Expected value of a random variable:-** Let  X  be a numerically-valued discrete random variable with sample space  Ω  and distribution function  m(x) . The expected value  E(X)  is defined by provided this sum converges absolutely. It is represented as:\n",
        "\n",
        "\n",
        "$E(X)=\\sum_{x∈Ω}x.m(x)$\n",
        "\n"
      ]
    },
    {
      "cell_type": "markdown",
      "metadata": {
        "id": "AEfrf3Fs2XEp"
      },
      "source": [
        "**Exercise 4:** The random variable $X$ has a probability function:\n",
        "\\begin{equation}\n",
        "             \\nonumber P(X=x) = \\left\\{\n",
        "              \\begin{array}{l l}\n",
        "                k(x+4) & \\quad,  x= 0,1,2\\\\\n",
        "                k*x & \\quad  , x=3,4,5\n",
        "              \\end{array} \\right.\n",
        "            \\end{equation}\n",
        "Find the value of k, construct the probability distribution table and the expected value"
      ]
    },
    {
      "cell_type": "code",
      "metadata": {
        "id": "Swzjpu8P-xHM",
        "colab": {
          "base_uri": "https://localhost:8080/"
        },
        "outputId": "02489732-5ba0-4d09-9f63-e8dca627a366"
      },
      "source": [
        "# K(X+4) for x = 0,1,2\n",
        "lis = []\n",
        "# YOUR CODE HERE\n",
        "k = 1/27\n",
        "for x in[0,1,2,3,4,5]:\n",
        "  if x<3:\n",
        "    lis.append(k*(x+4))\n",
        "  else:\n",
        "    lis.append(k*x)\n",
        "print(lis)"
      ],
      "execution_count": 47,
      "outputs": [
        {
          "output_type": "stream",
          "name": "stdout",
          "text": [
            "[0.14814814814814814, 0.18518518518518517, 0.2222222222222222, 0.1111111111111111, 0.14814814814814814, 0.18518518518518517]\n"
          ]
        }
      ]
    },
    {
      "cell_type": "code",
      "source": [
        "data = {'values': [0, 1, 2, 3, 4, 5],\n",
        "        'probabilities': lis\n",
        "        }\n",
        "df = pd.DataFrame(data)\n",
        "print(df)"
      ],
      "metadata": {
        "id": "YgDrCHD3aW71",
        "colab": {
          "base_uri": "https://localhost:8080/"
        },
        "outputId": "6af67d15-d1fa-4216-f41a-8096559dc8bf"
      },
      "execution_count": 50,
      "outputs": [
        {
          "output_type": "stream",
          "name": "stdout",
          "text": [
            "   values  probabilities\n",
            "0       0       0.148148\n",
            "1       1       0.185185\n",
            "2       2       0.222222\n",
            "3       3       0.111111\n",
            "4       4       0.148148\n",
            "5       5       0.185185\n"
          ]
        }
      ]
    },
    {
      "cell_type": "code",
      "source": [
        "df[\"probability_distribution\"] = df[\"values\"] * k\n",
        "print (df[\"values\"])\n",
        "print(df[\"probability_distribution\"].sum())"
      ],
      "metadata": {
        "id": "WRb36LjnadUo",
        "colab": {
          "base_uri": "https://localhost:8080/"
        },
        "outputId": "7e8170a1-becb-4a3f-89e0-155416dfaff6"
      },
      "execution_count": 51,
      "outputs": [
        {
          "output_type": "stream",
          "name": "stdout",
          "text": [
            "0    0\n",
            "1    1\n",
            "2    2\n",
            "3    3\n",
            "4    4\n",
            "5    5\n",
            "Name: values, dtype: int64\n",
            "0.5555555555555556\n"
          ]
        }
      ]
    },
    {
      "cell_type": "code",
      "source": [
        "# Creating a new column with the product of the columns of values and probability\n",
        "# YOUR CODE HERE\n",
        "df['expected_value'] = df['values'] * df['probability_distribution']\n",
        "\n",
        "# Expected value\n",
        "# YOUR CODE HERE\n",
        "expected_value = df['expected_value'].sum()\n",
        "print(expected_value)"
      ],
      "metadata": {
        "id": "-BzuP3GsairB",
        "colab": {
          "base_uri": "https://localhost:8080/"
        },
        "outputId": "354c2f0b-7461-40cc-95e7-f9885d94f695"
      },
      "execution_count": 52,
      "outputs": [
        {
          "output_type": "stream",
          "name": "stdout",
          "text": [
            "2.037037037037037\n"
          ]
        }
      ]
    },
    {
      "cell_type": "markdown",
      "metadata": {
        "id": "JeeOhd-lXzYL"
      },
      "source": [
        "### Expected value of a random variable"
      ]
    },
    {
      "cell_type": "markdown",
      "metadata": {
        "id": "MjE47_tF7jtN"
      },
      "source": [
        "**Expected value of a random variable:-** Let  X  be a numerically-valued discrete random variable with sample space  Ω  and distribution function  m(x) . The expected value  E(X)  is defined by provided this sum converges absolutely. It is represented as:\n",
        "\n",
        "$E(X)=\\sum_{x∈Ω}x.m(x)$,\n",
        "\n"
      ]
    },
    {
      "cell_type": "markdown",
      "metadata": {
        "id": "N5wft9Gh9HGv"
      },
      "source": [
        "**Exercise 5:** Let $S$ is the sample space given below and corresponding $P(X=x_i)$ is also given, where $X$ is a discrete random variable. Find the Expected value."
      ]
    },
    {
      "cell_type": "code",
      "metadata": {
        "id": "CxgXnGcj84N0",
        "colab": {
          "base_uri": "https://localhost:8080/"
        },
        "outputId": "466448ed-2867-49f7-fce5-dde5fc47ebbf"
      },
      "source": [
        "data = {\n",
        "  \"values\": [0, 1, 2, 3, 4, 5],\n",
        "  \"probability_outcomes\": [0.15, 0.2, 0.15, 0.25, 0.15, 0.1]\n",
        "}\n",
        "\n",
        "df = pd.DataFrame(data) # load data into a DataFrame object\n",
        "\n",
        "df['expected_value'] = df['values'] * df['probability_outcomes'] # Creating a new column with the product of the columns of values and probability\n",
        "# expected value\n",
        "# YOUR CODE HERE\n",
        "expected_value = df['expected_value'].sum()\n",
        "print(expected_value)"
      ],
      "execution_count": 54,
      "outputs": [
        {
          "output_type": "stream",
          "name": "stdout",
          "text": [
            "2.35\n"
          ]
        }
      ]
    },
    {
      "cell_type": "markdown",
      "metadata": {
        "id": "hhboyEyVi0Ka"
      },
      "source": [
        "### Probability Distributions"
      ]
    },
    {
      "cell_type": "markdown",
      "metadata": {
        "id": "tI8czPIjk_yy"
      },
      "source": [
        "**Probability distribution**:- It is a statistical function that describes all the possible values and likelihoods that a random variable can take within a given range.\n",
        "There are many types of Probability distribution,such as:-\n",
        "\n",
        "*   Uniform Distribution\n",
        "*   Bernoulli Distribution\n",
        "*   Binomial Distribution\n",
        "*   Poisson Distribution\n",
        "*   Exponential Distribution\n",
        "\n"
      ]
    },
    {
      "cell_type": "markdown",
      "metadata": {
        "id": "_tINpPU5tStq"
      },
      "source": [
        "### Uniform Distribution"
      ]
    },
    {
      "cell_type": "markdown",
      "metadata": {
        "id": "KXzRdwI7tYyI"
      },
      "source": [
        "**Uniform Distribution**:- The probability distribution function of the continuous uniform distribution is:\n",
        "$$f(x)=\\begin{equation}\n",
        "\\left\\{\n",
        "  \\begin{aligned}\n",
        "    &\\frac{1}{b-a}&  for\\  a≤x≤b\\\\\n",
        "    &0&   for\\  x<a\\ or\\ x>b\\\\\n",
        "  \\end{aligned}\n",
        "  \\right.\n",
        "\\end{equation}\n",
        "$$\n",
        "\n",
        "Since any interval of numbers of equal width has an equal probability of being observed, the curve describing the distribution is a rectangle, with constant height across the interval and 0 height elsewhere. Since the area under the curve must be equal to 1, the length of the interval determines the height of the curve. For a uniform distribution in the interval (a,b), the area needs to be 1 so the height is set to 1/(b−a).\n",
        "\n",
        "\n",
        "To understand more click [here](https://docs.scipy.org/doc/scipy/reference/generated/scipy.stats.uniform.html)"
      ]
    },
    {
      "cell_type": "markdown",
      "metadata": {
        "id": "DujrTJgezJfh"
      },
      "source": [
        "**Exercise 6:** Plot the uniform distribution of size 10000 over the range {10,30}."
      ]
    },
    {
      "cell_type": "code",
      "metadata": {
        "id": "Kfe-V4Hl0F3_"
      },
      "source": [
        "# random numbers from uniform distribution\n",
        "n = 10000\n",
        "start = 10\n",
        "width = 20\n",
        "data_uniform = stats.uniform.rvs(size=n, loc = start, scale=width)"
      ],
      "execution_count": 55,
      "outputs": []
    },
    {
      "cell_type": "code",
      "metadata": {
        "id": "hVdLCwgF0NFO",
        "colab": {
          "base_uri": "https://localhost:8080/",
          "height": 487
        },
        "outputId": "87908cec-8ecb-4a3a-9dc4-ec60b64e0fd9"
      },
      "source": [
        "# Ploting the graph\n",
        "# YOUR CODE HERE\n",
        "plt.figure(figsize=(8,5))\n",
        "plt.hist(data_uniform, bins=50, density=True, alpha=0.6, color='skyblue', edgecolor='black', label='Histogram (Empirical)')\n",
        "plt.title('Uniform Distribution')\n",
        "plt.xlabel('Value')\n",
        "plt.ylabel('Density')\n",
        "plt.legend()\n",
        "plt.grid(True, linestyle='--', alpha=0.6)\n",
        "plt.show()"
      ],
      "execution_count": 66,
      "outputs": [
        {
          "output_type": "display_data",
          "data": {
            "text/plain": [
              "<Figure size 800x500 with 1 Axes>"
            ],
            "image/png": "[encoded data removed]"
          },
          "metadata": {}
        }
      ]
    },
    {
      "cell_type": "markdown",
      "metadata": {
        "id": "RudTJq80nyxl"
      },
      "source": [
        "### Bernoulli Distribution"
      ]
    },
    {
      "cell_type": "markdown",
      "metadata": {
        "id": "lc-0orK-n7YD"
      },
      "source": [
        "**Bernoulli Distribution**:- A Bernoulli distribution has only two possible outcomes, namely 1 (success) and 0 (failure), and a single trial, for example, a coin toss. So the random variable *X*, which has a Bernoulli distribution, can take value 1 with the probability of success, *p*, and the value 0 with the probability of failure, *q* or *1−p*. The probabilities of success and failure need not be equally likely. The Bernoulli distribution is a special case of the binomial distribution where a single trial is conducted (*n*=1). Its probability mass function is given by:\n",
        "\n",
        "### $f(k,p) = p^{k} (1-p)^{1-k}$\n",
        "\n",
        "for $k$ in {0,1}, also $ 0≤p≤1$.\n",
        "\n",
        "\n",
        "To understand more click [here](https://docs.scipy.org/doc/scipy/reference/generated/scipy.stats.bernoulli.html)\n"
      ]
    },
    {
      "cell_type": "markdown",
      "metadata": {
        "id": "7-BPEXe4pWen"
      },
      "source": [
        "**Exercise 3:** Consider a random experiment of tossing a biased coin (having the probability of getting a head as 0.6) once. Plot the distribution associated with the event of getting heads in the given experiment if the process is repeated 10000 times."
      ]
    },
    {
      "cell_type": "code",
      "source": [
        "# Generate data\n",
        "p=0.6                      # probability of getting a head\n",
        "q=1-p                      # probability of getting a tail\n",
        "\n",
        "# Creating a data of size 10000 for bernouli distribution\n",
        "data_bern = stats.bernoulli.rvs(p, size=10000)"
      ],
      "metadata": {
        "id": "iRjiJAjoPjbz"
      },
      "execution_count": 59,
      "outputs": []
    },
    {
      "cell_type": "code",
      "source": [
        "# visualize data\n",
        "# YOUR CODE HERE\n",
        "counts = np.bincount(data_bern)\n",
        "labels = ['q', 'p']\n",
        "probabilities = counts / len(data_bern)\n",
        "\n",
        "plt.figure(figsize=(6,4))\n",
        "plt.bar(labels, probabilities, color='purple', edgecolor='black')\n",
        "plt.title('Bernoulli Distribution (p = 0.6)')\n",
        "plt.ylabel('Probability')\n",
        "plt.ylim(0, 1)\n",
        "plt.grid(axis='y', linestyle='--', alpha=0.7)\n",
        "plt.show()"
      ],
      "metadata": {
        "id": "aFsD1nDPPwpn",
        "colab": {
          "base_uri": "https://localhost:8080/",
          "height": 391
        },
        "outputId": "1bc323fe-d7be-4176-9ca5-a02af40d071b"
      },
      "execution_count": 69,
      "outputs": [
        {
          "output_type": "display_data",
          "data": {
            "text/plain": [
              "<Figure size 600x400 with 1 Axes>"
            ],
            "image/png": "[encoded data removed]"
          },
          "metadata": {}
        }
      ]
    },
    {
      "cell_type": "code",
      "source": [
        "import numpy as np\n",
        "import matplotlib.pyplot as plt\n",
        "\n",
        "# Parameters\n",
        "p = 0.6                      # Probability of head (success)\n",
        "q = 1 - p                    # Probability of tail (failure)\n",
        "\n",
        "# Step 1: Generate 10,000 samples from Bernoulli distribution\n",
        "data_bern = np.random.binomial(n=1, p=p, size=10000)"
      ],
      "metadata": {
        "id": "o-m4iL58kSd-"
      },
      "execution_count": 71,
      "outputs": []
    },
    {
      "cell_type": "markdown",
      "metadata": {
        "id": "b4xdFCu40EXK"
      },
      "source": [
        "### Binomial Distribution"
      ]
    },
    {
      "cell_type": "markdown",
      "metadata": {
        "id": "98KYXjiH69XT"
      },
      "source": [
        "**Binomial Distribution**:- A distribution where only two outcomes are possible, such as success or failure, gain or loss, win or lose and where the probability of success and failure is the same for all the trials is called a binomial distribution. However, the outcomes need not be equally likely, and each trial is independent of the other. The most common example is that of flipping a coin n number of times and calculating the probabilities of getting a particular number of heads. More real-world examples include the number of successful sales calls for a company or whether a drug works for a disease or not.\n",
        "\n",
        "The parameters of a binomial distribution are *n* and *p* where *n* is the total number of trials, and *p* is the probability of success in each trial. Its probability distribution function is given by :\n",
        "\n",
        "### $f(k,n,p) = P(X=k) = \\begin{pmatrix}\n",
        "n \\\\\n",
        "k\n",
        "\\end{pmatrix} p^k(1-p)^{n-k}$\n",
        "\n",
        "\n",
        "where :\n",
        "$\\binom{n}{k} = \\frac{n!}{k!(n-k)!}$\n",
        "\n",
        "where, *k* is the number of times the success is achieved and lies in {0, 1,..., n}, also $ 0≤p≤1$.\n",
        "\n",
        "\n",
        "To understand more click [here](https://docs.scipy.org/doc/scipy/reference/generated/scipy.stats.binom.html)\n"
      ]
    },
    {
      "cell_type": "markdown",
      "metadata": {
        "id": "OOtBKAed_A5X"
      },
      "source": [
        "**Exercise 2:** Consider an event where a fair coin is tossed 10 times and the total number of heads is recorded. Plot the distribution for the event."
      ]
    },
    {
      "cell_type": "code",
      "source": [
        "# Generate data\n",
        "p = 1/2             # probability of getting a head\n",
        "q = 1-p             # probability of getting a tail\n",
        "n = 10              # total number of trials\n",
        "data_binom = stats.binom.rvs(n, p, size=10000)"
      ],
      "metadata": {
        "id": "sr0ZObP6Q84x"
      },
      "execution_count": 72,
      "outputs": []
    },
    {
      "cell_type": "code",
      "source": [
        "# Visualize data\n",
        "# YOUR CODE HERE\n",
        "# Plot histogram of empirical data\n",
        "plt.figure(figsize=(8,5))\n",
        "plt.hist(data_binom, bins=n, align='left', density=True, color='skyblue',\n",
        "         edgecolor='black', label='Empirical')\n",
        "\n",
        "plt.title(f'Binomial Distribution')\n",
        "plt.xlabel('Successes')\n",
        "plt.ylabel('Probability')\n",
        "plt.legend()\n",
        "plt.grid(True, linestyle='--', alpha=0.7)\n",
        "plt.show()"
      ],
      "metadata": {
        "id": "126HpLWhRD5m",
        "colab": {
          "base_uri": "https://localhost:8080/",
          "height": 487
        },
        "outputId": "93011118-9fc8-4c54-fee4-0ac19b40bf78"
      },
      "execution_count": 76,
      "outputs": [
        {
          "output_type": "display_data",
          "data": {
            "text/plain": [
              "<Figure size 800x500 with 1 Axes>"
            ],
            "image/png": "[encoded data removed]"
          },
          "metadata": {}
        }
      ]
    },
    {
      "cell_type": "markdown",
      "source": [
        "#### Practical example explaining use case of binomial distribution"
      ],
      "metadata": {
        "id": "jmfIjgzaY4ty"
      }
    },
    {
      "cell_type": "markdown",
      "source": [
        "\n",
        " There are 10 sets of traffic lights on the journey.The probability that a driver must stop at any one traffic light coming to airport is 0.25\n",
        "\n",
        "(a) What is the probability that a driver must stop at exactly 2 of the 10 sets of traffic lights?\n",
        "\n",
        "(b) What is the probability that a driver will be stopped at 1 or more of the 10 sets of traffic lights?"
      ],
      "metadata": {
        "id": "8DdUE7kCZEMj"
      }
    },
    {
      "cell_type": "markdown",
      "source": [
        "**(a) What is the probability that a driver must stop at exactly 2 of the 10 sets of traffic lights?**\n",
        "\n",
        "Here we have to calculate the probablity that particular event happens exactly two times\n",
        "\n",
        "$$ P(X = 2) = {\\binom{10}{2}\\cdot(0.25)^2\\cdot(1-0.25)^8}.$$"
      ],
      "metadata": {
        "id": "M5GQc807zfV_"
      }
    },
    {
      "cell_type": "code",
      "source": [
        "n = 10   # Number of times experiment runs\n",
        "p = 0.25 # Probability of outcome(here driver stopping at traffic light)\n",
        "k = 2    # Number of successful trails(given n trails)\n",
        "\n",
        "pmf_binomial = stats.binom.pmf(k, n, p) # Probability mass function\n",
        "\n",
        "# Probability mass function for k = 2 i.e. P(X=2)\n",
        "# YOUR CODE HERE\n",
        "print(pmf_binomial)"
      ],
      "metadata": {
        "id": "nL0PgofRYxo5",
        "colab": {
          "base_uri": "https://localhost:8080/"
        },
        "outputId": "7823178f-c7ac-456e-ae0d-3d91b2b92b03"
      },
      "execution_count": 78,
      "outputs": [
        {
          "output_type": "stream",
          "name": "stdout",
          "text": [
            "0.28156757354736334\n"
          ]
        }
      ]
    },
    {
      "cell_type": "markdown",
      "source": [
        "To understand more about ***stats.binom.pmf()*** method and its usage [click here](https://docs.scipy.org/doc/scipy/reference/generated/scipy.stats.binom.html#scipy.stats.binom)"
      ],
      "metadata": {
        "id": "soq_0UXg19Uf"
      }
    },
    {
      "cell_type": "markdown",
      "source": [
        "**(b) What is the probability that a driver will be stopped at 1 or more of the 10 sets of traffic lights?**\n",
        "\n",
        "Here we have to calculate the probablity that particular event happens one or more times i.e. $ P(X≥1) $ or $ [1- P(X=0)] $\n",
        "\n",
        "$$ P(X ≥ 1) = 1 - [{\\binom{10}{0}\\cdot(0.25)^0\\cdot(1-0.25)^{10} }].$$"
      ],
      "metadata": {
        "id": "hK9oR1Bt3z4g"
      }
    },
    {
      "cell_type": "code",
      "source": [
        "n = 10   # Number of times experiment runs\n",
        "p = 0.25 # Probability of outcome(here driver stopping at traffic light)\n",
        "k = 0    # Number of successful trails(given n trails)\n",
        "\n",
        "cumbinomial = stats.binom.pmf(k, n, p)\n",
        "# YOUR CODE HERE\n",
        "print(1-cumbinomial)"
      ],
      "metadata": {
        "id": "EPYBDYYWbq0H",
        "colab": {
          "base_uri": "https://localhost:8080/"
        },
        "outputId": "cb35fd15-1195-4356-9e5a-f132bf45aa3a"
      },
      "execution_count": 84,
      "outputs": [
        {
          "output_type": "stream",
          "name": "stdout",
          "text": [
            "0.9436864852905273\n"
          ]
        }
      ]
    },
    {
      "cell_type": "markdown",
      "source": [
        "To understand more about ***stats.binom.cdf()*** method and its usage [click here](https://docs.scipy.org/doc/scipy/reference/generated/scipy.stats.binom.html#scipy.stats.binom)"
      ],
      "metadata": {
        "id": "_Cma9n3y9Shg"
      }
    },
    {
      "cell_type": "markdown",
      "metadata": {
        "id": "eEiL34epPdIq"
      },
      "source": [
        "### Poisson Distribution"
      ]
    },
    {
      "cell_type": "markdown",
      "metadata": {
        "id": "gkasrxKDPhBG"
      },
      "source": [
        "**Poisson Distribution**:- Poisson random variable is typically used to model the number of times an event happened in a time interval. For example, the number of users visited on a website in an interval can be thought of as a Poisson process. Poisson distribution is described in terms of the rate at which the events happen. An event can occur 0, 1, 2, … times in an interval. The average number of events in an interval is designated as *λ*. Lambda(λ) is the event rate, also called the rate parameter. The probability of observing *k* events in an interval is given by the equation:\n",
        "\n",
        "$$ P(k\\ events\\ in\\ the\\ interval) = \\frac{e^{-λ}λ^k}{k!} $$\n",
        "\n",
        "To understand more click [here](https://docs.scipy.org/doc/scipy/reference/generated/scipy.stats.poisson.html)"
      ]
    },
    {
      "cell_type": "markdown",
      "metadata": {
        "id": "7VODgItpRb2d"
      },
      "source": [
        "**Exercise 5:** Plot the poisson distribution having size 10000 and given rate(mean) parameter as 4."
      ]
    },
    {
      "cell_type": "code",
      "metadata": {
        "id": "416-P14YRAem"
      },
      "source": [
        "# Generate data\n",
        "rate = 4\n",
        "data_poisson = stats.poisson.rvs(mu=rate, size=10000)"
      ],
      "execution_count": 85,
      "outputs": []
    },
    {
      "cell_type": "code",
      "metadata": {
        "id": "IGgI7z4aRPDp",
        "colab": {
          "base_uri": "https://localhost:8080/",
          "height": 514
        },
        "outputId": "0b64a857-fe12-4fd3-a24d-0352d1376ab2"
      },
      "source": [
        "# visualize data\n",
        "# YOUR CODE HERE\n",
        "plt.figure(figsize=(8,5))\n",
        "plt.hist(data_poisson, bins=10, density=True, alpha=0.6, color='skyblue', edgecolor='black', label='Histogram (Empirical)')"
      ],
      "execution_count": 86,
      "outputs": [
        {
          "output_type": "execute_result",
          "data": {
            "text/plain": [
              "(array([0.06853846, 0.11715385, 0.15338462, 0.26715385, 0.07876923,\n",
              "        0.04638462, 0.03069231, 0.004     , 0.00192308, 0.00123077]),\n",
              " array([ 0. ,  1.3,  2.6,  3.9,  5.2,  6.5,  7.8,  9.1, 10.4, 11.7, 13. ]),\n",
              " <BarContainer object of 10 artists>)"
            ]
          },
          "metadata": {},
          "execution_count": 86
        },
        {
          "output_type": "display_data",
          "data": {
            "text/plain": [
              "<Figure size 800x500 with 1 Axes>"
            ],
            "image/png": "[encoded data removed]"
          },
          "metadata": {}
        }
      ]
    },
    {
      "cell_type": "markdown",
      "source": [
        "#### Practical example for Poisson distribution"
      ],
      "metadata": {
        "id": "aksxK17E-bj6"
      }
    },
    {
      "cell_type": "markdown",
      "source": [
        "The number of work related injuries per month in a manufacturing plant is known to follow a Poisson distribution, with a mean of 2.5 work-related injuries a month.\n",
        "\n",
        "a) What is the probability that in a given month, no work-related injuries occur?\n",
        "\n",
        "b) That at least two work- related injury occurs?"
      ],
      "metadata": {
        "id": "oIkBRWLE-bj8"
      }
    },
    {
      "cell_type": "markdown",
      "source": [
        "**(a) What is the probability that in a given month, no work-related injuries occur?**\n",
        "\n",
        "Here we have to calculate the probablity that given month has,no work related injuries using probability mass function\n",
        "\n",
        "$$ P(X = 0) = \\frac{(e^{-2.5} * 2.5^{0})} {0!}\n",
        " $$\n",
        " $$ P(X = 0) = 0.08208 $$"
      ],
      "metadata": {
        "id": "uNmPPbmrC4Hh"
      }
    },
    {
      "cell_type": "code",
      "source": [
        "# Calculate probability using pmf\n",
        "# YOUR CODE HERE\n",
        "xi = 0\n",
        "pmf_poisson = stats.poisson.pmf(xi, 2.5)\n",
        "print(pmf_poisson)"
      ],
      "metadata": {
        "id": "Jym0quTc-bj-",
        "colab": {
          "base_uri": "https://localhost:8080/"
        },
        "outputId": "2e7e952c-27f6-434f-8907-125dd49cce2c"
      },
      "execution_count": 87,
      "outputs": [
        {
          "output_type": "stream",
          "name": "stdout",
          "text": [
            "0.0820849986238988\n"
          ]
        }
      ]
    },
    {
      "cell_type": "markdown",
      "source": [
        "To understand more about ***stats.poisson.pmf()*** method and its usage [click here](https://docs.scipy.org/doc/scipy/reference/generated/scipy.stats.poisson.html?highlight=stats%20poisson%20cdf)"
      ],
      "metadata": {
        "id": "IIlaLklUGZu8"
      }
    },
    {
      "cell_type": "markdown",
      "source": [
        "**b) That at least two work- related injury occurs?**\n",
        "\n",
        "Here we have to calculate the probablity that given month has,two or more related injuries\n",
        "\n",
        "$$ P(X >=2 ) = 1 - [P(X <2 ) $$\n",
        "$$ P(X >=2 ) = 1 - [P(X = 0) +P(X=1)] $$\n",
        "$$ P(X >=2 ) = 1 - [\\frac{(e^{-2.5} * 2.5^{0})} {0!}  +   \\frac{(e^{-2.5} * 2.5^{1})} {1!}]\n",
        " $$\n",
        " $$ P(X >=2 ) = 0.7127025048163542 $$"
      ],
      "metadata": {
        "id": "_xwbsVceEE6k"
      }
    },
    {
      "cell_type": "code",
      "source": [
        "# Calculating probability using CDF\n",
        "cumulative_binomial = 1 - sum([stats.poisson.pmf(xi, 2.5) for xi in range(0,2)])\n",
        "# YOUR CODE HERE # P(X>=2) or 1-P(X=0)-P(X=1)\n",
        "# YOUR CODE HERE\n",
        "print(cumulative_binomial)"
      ],
      "metadata": {
        "id": "USRlgPGN-bkA",
        "colab": {
          "base_uri": "https://localhost:8080/"
        },
        "outputId": "7407de94-467e-459a-c3ec-bfd5cb9a4ac2"
      },
      "execution_count": 88,
      "outputs": [
        {
          "output_type": "stream",
          "name": "stdout",
          "text": [
            "0.7127025048163542\n"
          ]
        }
      ]
    },
    {
      "cell_type": "markdown",
      "source": [
        "To understand more about ***stats.poisson.cdf()*** method and its usage [click here](https://docs.scipy.org/doc/scipy/reference/generated/scipy.stats.poisson.html?highlight=stats%20poisson%20cdf)"
      ],
      "metadata": {
        "id": "e8nbF46sGG0S"
      }
    },
    {
      "cell_type": "markdown",
      "metadata": {
        "id": "iZWE-hMeRpMJ"
      },
      "source": [
        "### Exponential Distribution"
      ]
    },
    {
      "cell_type": "markdown",
      "metadata": {
        "id": "aJflrxWsRrTr"
      },
      "source": [
        "**Exponential Distribution:-**A continuous random variable $X$ is said to have an exponential distribution with parameter $λ>0$, shown as $X∼Exponential(λ)$, if its PDF is given by \\begin{equation}\n",
        "             \\nonumber f_X(x;\\mu) = \\left\\{\n",
        "              \\begin{array}{l l}\n",
        "                \\lambda e^{-\\lambda x} & \\quad  x > 0\\\\\n",
        "                0 & \\quad \\textrm{otherwise}\n",
        "              \\end{array} \\right.\n",
        "            \\end{equation}\n",
        "To understand more, click [here](https://docs.scipy.org/doc/scipy/reference/generated/scipy.stats.expon.html)."
      ]
    },
    {
      "cell_type": "markdown",
      "metadata": {
        "id": "q5Vijtd8TN8G"
      },
      "source": [
        "**Exercise 4:-** Generate Exponential random data and plot it."
      ]
    },
    {
      "cell_type": "code",
      "metadata": {
        "id": "mL5zD7eaTldp"
      },
      "source": [
        "# Generate random normalised data\n",
        "data_expon = stats.expon.rvs(scale=1, size=10000)"
      ],
      "execution_count": 89,
      "outputs": []
    },
    {
      "cell_type": "code",
      "metadata": {
        "id": "3qDS-BMbTnsm",
        "colab": {
          "base_uri": "https://localhost:8080/",
          "height": 567
        },
        "outputId": "6096b46a-6909-4a6e-fe4d-a989c83664da"
      },
      "source": [
        "# YOUR CODE HERE\n",
        "plt.figure(figsize=(8,5))\n",
        "plt.hist(data_expon, bins=10, density=True, alpha=0.6, color='skyblue', edgecolor='black', label='Histogram (Empirical)')"
      ],
      "execution_count": 90,
      "outputs": [
        {
          "output_type": "execute_result",
          "data": {
            "text/plain": [
              "(array([5.85217598e-01, 1.97865517e-01, 6.03982965e-02, 2.04237014e-02,\n",
              "        5.93509272e-03, 1.65833473e-03, 7.85526977e-04, 3.49123101e-04,\n",
              "        8.72807752e-05, 8.72807752e-05]),\n",
              " array([5.42766344e-05, 1.14578196e+00, 2.29150963e+00, 3.43723731e+00,\n",
              "        4.58296499e+00, 5.72869267e+00, 6.87442035e+00, 8.02014803e+00,\n",
              "        9.16587571e+00, 1.03116034e+01, 1.14573311e+01]),\n",
              " <BarContainer object of 10 artists>)"
            ]
          },
          "metadata": {},
          "execution_count": 90
        },
        {
          "output_type": "display_data",
          "data": {
            "text/plain": [
              "<Figure size 800x500 with 1 Axes>"
            ],
            "image/png": "[encoded data removed]"
          },
          "metadata": {}
        }
      ]
    },
    {
      "cell_type": "markdown",
      "source": [
        "### Measures of Central Tendency and Variability\n",
        "\n",
        "There are three main measures of central tendency: the mode, the median and the mean. Each of these measures describes a different indication of the typical or central value in the distribution.\n",
        "\n",
        "\n",
        "**Mean**\n",
        "\n",
        "The mean is the sum of the value of each observation in a dataset divided by the number of observations. This is also known as the arithmetic average.\n",
        "\n",
        "**Advantage of the mean** : The mean can be used for both continuous and discrete numeric data.\n",
        "\n",
        "**Limitations of the mean** : The mean cannot be calculated for categorical data, as the values cannot be summed.\n",
        "\n",
        "As the mean includes every value in the distribution the mean is influenced by outliers and skewed distributions.\n",
        "\n",
        "\n",
        "**Median**\n",
        "\n",
        "The median is the middle value in distribution when the values are arranged in ascending or descending order.\n",
        "\n",
        "The median divides the distribution in half (there are 50% of observations on either side of the median value). In a distribution with an odd number of observations, the median value is the middle value.\n",
        "\n",
        "**Advantage of the median**: The median is less affected by outliers and skewed data than the mean, and is usually the preferred measure of central tendency when the distribution is not symmetrical.\n",
        "\n",
        "**Limitation of the median**: The median cannot be identified for categorical nominal data, as it cannot be logically ordered.\n",
        "\n",
        "\n",
        "**Mode**\n",
        "\n",
        "The mode is the most commonly occurring value in a distribution.\n",
        "\n",
        "**Advantage of the mode**: The mode has an advantage over the median and the mean as it can be found for both numerical and categorical (non-numerical) data.\n",
        "\n",
        "**Limitations of the mode**: The are some limitations to using the mode. In some distributions, the mode may not reflect the centre of the distribution very well.\n"
      ],
      "metadata": {
        "id": "48Aub8JE0CSV"
      }
    },
    {
      "cell_type": "markdown",
      "source": [
        " **1.** The retirement age of eleven people are 54, 54, 54, 55, 56, 57, 57, 58, 58, 60, and 60. Find the mean, median and mode for the retirement age."
      ],
      "metadata": {
        "id": "AE14RQFMtJ1a"
      }
    },
    {
      "cell_type": "code",
      "source": [
        "retirement_age = [54, 54, 54, 55, 56, 57, 57, 58, 58, 60, 60]"
      ],
      "metadata": {
        "id": "ju4xuumuWJQ5"
      },
      "execution_count": 92,
      "outputs": []
    },
    {
      "cell_type": "markdown",
      "source": [
        "The mean is calculated by adding together all the values **(54+54+54+55+56+57+57+58+58+60+60 = 623)** and dividing by the number of observations (11. But here we will directly use mean() method of numpy library."
      ],
      "metadata": {
        "id": "mdFvKd2aW-0v"
      }
    },
    {
      "cell_type": "code",
      "source": [
        "# YOUR CODE HERE\n",
        "mean = np.mean(retirement_age)\n",
        "print(mean)"
      ],
      "metadata": {
        "id": "gd1Az7-EWpeX",
        "colab": {
          "base_uri": "https://localhost:8080/"
        },
        "outputId": "43074b1a-3429-425d-942f-3b555bdef190"
      },
      "execution_count": 93,
      "outputs": [
        {
          "output_type": "stream",
          "name": "stdout",
          "text": [
            "56.63636363636363\n"
          ]
        }
      ]
    },
    {
      "cell_type": "code",
      "source": [
        "# YOUR CODE HERE\n",
        "median = np.median(retirement_age)\n",
        "print(median)"
      ],
      "metadata": {
        "id": "q-K5V2LuWqOv",
        "colab": {
          "base_uri": "https://localhost:8080/"
        },
        "outputId": "fc03d120-a1be-4c98-abc2-55e719933e8d"
      },
      "execution_count": 94,
      "outputs": [
        {
          "output_type": "stream",
          "name": "stdout",
          "text": [
            "57.0\n"
          ]
        }
      ]
    },
    {
      "cell_type": "markdown",
      "source": [
        "For the above data, the median is the middle value, which is 57 years.\n",
        "\n",
        "But, when the distribution has an even number of observations, the median value is the mean of the two middle values. Consider the following distribution, the two middle values are 56 and 57, therefore the median equals 56.5 years:\n",
        "\n",
        "52, 54, 54, 54, 55, 56, 57, 57, 58, 58, 60, 60"
      ],
      "metadata": {
        "id": "OJhR3Qo-dSo9"
      }
    },
    {
      "cell_type": "code",
      "source": [
        "# Use the mode() function from the statistics module\n",
        "# YOUR CODE HERE\n",
        "from scipy import stats\n",
        "mode = stats.mode(retirement_age)\n",
        "print(mode)"
      ],
      "metadata": {
        "id": "8-cxsq-eWpW7",
        "colab": {
          "base_uri": "https://localhost:8080/"
        },
        "outputId": "d42987f2-3d4a-444a-9797-27d16899b6ff"
      },
      "execution_count": 95,
      "outputs": [
        {
          "output_type": "stream",
          "name": "stdout",
          "text": [
            "ModeResult(mode=np.int64(54), count=np.int64(3))\n"
          ]
        }
      ]
    },
    {
      "cell_type": "markdown",
      "source": [
        "The above `stats.mode()` method returns\n",
        "\n",
        "`mode:` Array of modal values.\n",
        "\n",
        "`count:` Array of counts for each mode.\n",
        "\n",
        "\n",
        "The most commonly occurring value is 54, therefore the mode of this distribution is 54 years.\n",
        "\n",
        "When the distribution of retirement age is ordered from lowest to highest value, it is easy to see that the centre of the distribution is 57 years, but the mode is lower, at 54 years.\n",
        "\n",
        "54, 54, 54, 55, 56, 57, 57, 58, 58, 60, 60\n",
        "\n",
        "It is also possible for there to be more than one mode for the same distribution of data, (bi-modal, or multi-modal). The presence of more than one mode can limit the ability of the mode in describing the centre or typical value of the distribution because a single value to describe the centre cannot be identified.\n",
        "\n",
        "In some cases, particularly where the data are continuous, the distribution may have no mode at all (i.e. if all values are different).\n",
        "\n",
        "In cases such as these, it may be better to consider using the median or mean, or group the data in to appropriate intervals, and find the modal class.\n"
      ],
      "metadata": {
        "id": "Y5BM311hffAh"
      }
    },
    {
      "cell_type": "markdown",
      "source": [
        "**How do outliers influence the measures of central tendency?**\n",
        "\n",
        "**Outliers are extreme, or atypical data value(s) that are notably different from the rest of the data.**\n",
        "\n",
        "It is important to detect outliers within a distribution, because they can alter the results of the data analysis. The mean is more sensitive to the existence of outliers than the median or mode.\n",
        "\n",
        "Consider the initial retirement age dataset again, with one difference; the last observation of 60 years has been replaced with a retirement age of 81 years. This value is much higher than the other values, and could be considered an outlier. However, it has not changed the middle of the distribution, and therefore the median value is still 57 years.\n",
        "\n",
        "54, 54, 54, 55, 56, 57, 57, 58, 58, 60, 81\n",
        "\n",
        "As the all values are included in the calculation of the mean, the outlier will influence the mean value.\n",
        "\n",
        "(54+54+54+55+56+57+57+58+58+60+81 = 644), divided by 11 = 58.5 years\n",
        "\n",
        "In this distribution the outlier value has increased the mean value.\n",
        "\n",
        "Despite the existence of outliers in a distribution, the mean can still be an appropriate measure of central tendency, especially if the rest of the data is normally distributed. If the outlier is confirmed as a valid extreme value, it should not be removed from the dataset. Several common regression techniques can help reduce the influence of outliers on the mean value."
      ],
      "metadata": {
        "id": "sdEUcN88fz07"
      }
    },
    {
      "cell_type": "markdown",
      "source": [
        "### Expectation and Moments of Random Variables\n",
        "\n",
        "**Expectation:** The expected value of a random variable $X$, which is denoted $E(X)$, is a generalization of the weighted average. The expectation or expected value of a random variable is a single number and it tells us a lot about the behavior of the variable. In simple terms, the expectation is the average value of the random variable where each value is weighted according to its probability.\n",
        "\n",
        "For a discrete random variable that can take $n$ outcomes like $x_1, x_2, x_3, ..., x_n$ with probabilities $p_1, p_2, p_3,..., p_n$, the expectation is given by,\n",
        "\n",
        "$E(X) = \\Sigma_{i=1}^{n}p_i.x_i$\n",
        "\n",
        "For a continuous random variable we use integration in place of summation. The formula to remember is,\n",
        "\n",
        "$ E(X) = \\int_{x_{min}}^{x_{max}} x.f(x) \\,dx $\n",
        "\n",
        "Here $f(x)$ is the probability density function.\n",
        "\n",
        "Let us now check a simple python code for finding the expectation of a given discrete random variable. The random variable can take values of $\\{1, 4, 3\\}$ and have probabilities $\\{0.1, 0.5, 0.4\\}$.\n"
      ],
      "metadata": {
        "id": "n3bRvdoGcCm-"
      }
    },
    {
      "cell_type": "code",
      "source": [
        "# A simple function to calculate expectation in python. The function works for discrete random variables only.\n",
        "\n",
        "def expectation(outcomes, probs):\n",
        "    # YOUR CODE HERE\n",
        "    e = np.sum(np.array(outcomes) * np.array(probs))\n",
        "    return e\n",
        "\n",
        "# Let us define x and p's.\n",
        "x = [1, 4, 3]\n",
        "p = [0.1, 0.5, 0.4]\n",
        "\n",
        "print (\"Expectation of the given random experiment is: \", expectation(x, p))"
      ],
      "metadata": {
        "id": "x0yebVambabO",
        "colab": {
          "base_uri": "https://localhost:8080/"
        },
        "outputId": "bb369dde-1033-4ce0-e829-15d90feb2275"
      },
      "execution_count": 96,
      "outputs": [
        {
          "output_type": "stream",
          "name": "stdout",
          "text": [
            "Expectation of the given random experiment is:  3.3000000000000003\n"
          ]
        }
      ]
    },
    {
      "cell_type": "markdown",
      "source": [
        "**Moment:** In general, moment of a function are quantitative measures that depicts the shape of the function's graph. In a probability distribution, the first moment is the expectation (described above), the second central moment is the variance, the third standardized moment is the skewness, and the fourth standardized moment is the kurtosis, etc. The general formula for a $k^{th}$ moment in ``scipy`` is,\n",
        "\n",
        "![moment.png](data:image/png;base64,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)\n",
        "\n",
        "Here $n$ are the number of discrete examples and $\\overline{x}$ is the mean of the examples.\n",
        "\n",
        "To summarize moments,\n",
        "* 1st moment: expectation\n",
        "* 2nd moment: variance\n",
        "* 3rd moment: Skew\n",
        "\n",
        "We will conduct an experiment based on this information. First, we will sample 10,000 points from a normal distribution of know $\\mu$ and $\\sigma$. We will then use the function to calculate moments. Ideally, the 1st and 2nd moments should match those of $\\mu$ and $\\sigma$ respectively."
      ],
      "metadata": {
        "id": "R-LYLtb4cnH-"
      }
    },
    {
      "cell_type": "code",
      "source": [
        "# Declaring mu and sigma according to our choice\n",
        "mu = 10\n",
        "standard_dev = 5\n",
        "\n",
        "# 10000 points are sampled from the normal distribution with given mu and sigma.\n",
        "data_normal = stats.norm.rvs(loc=mu, scale=standard_dev, size=10000)\n",
        "\n",
        "# YOUR CODE HERE:\n",
        "est_mu = np.mean(data_normal)\n",
        "print(\"The 1st moment is \", est_mu)\n",
        "est_sigma = np.std(data_normal)\n",
        "print(\"The 2nd moment is \", est_sigma)"
      ],
      "metadata": {
        "id": "fwdTmWAXbafj",
        "colab": {
          "base_uri": "https://localhost:8080/"
        },
        "outputId": "2da2314c-2b7d-4882-ad13-6628e8611a84"
      },
      "execution_count": 97,
      "outputs": [
        {
          "output_type": "stream",
          "name": "stdout",
          "text": [
            "The 1st moment is  9.994135422096257\n",
            "The 2nd moment is  5.032577333186193\n"
          ]
        }
      ]
    },
    {
      "cell_type": "markdown",
      "metadata": {
        "id": "W4N56ItzNVE1"
      },
      "source": [
        "### Parameter Estimation"
      ]
    },
    {
      "cell_type": "markdown",
      "metadata": {
        "id": "ps5EQE0TNXQm"
      },
      "source": [
        "**Parameter Estimation:** Parameters are defined as the characteristics of the given data. Estimators are defined as the predictions of values with the help of the dataset.\n",
        "\n",
        "Any function of a random sample that is used to estimate the values of the parameter of a given dataset is called Parameter Estimation.\n",
        "\n",
        "If $x_1,x_2,x_3,....x_n$ is the sample size of size n, then\n",
        "\n",
        "$T_n(x_1,x_2,x_3,....x_n)$ will be the estimator of parameter."
      ]
    },
    {
      "cell_type": "markdown",
      "metadata": {
        "id": "FDwUsYHnNgOw"
      },
      "source": [
        "### Bias Estimation"
      ]
    },
    {
      "cell_type": "markdown",
      "metadata": {
        "id": "TnTNYElJNiMU"
      },
      "source": [
        "**Bias Estimation:**  Bias is a term that refers to any type of error or distortion that is found with the use of analysis. Bias Estimation is the difference between the parameter to be estimated and the mathematical expectation of the estimator.\n",
        "\n",
        "$bias(\\hatθ_n)$ = $E[\\hatθ_n]- \\hatθ_n$\n",
        "\n",
        "The estimator is said to be unbiased when expected parameter and the original parameter are same i.e $E[θ_n^|] = θ_n^|.$"
      ]
    },
    {
      "cell_type": "markdown",
      "metadata": {
        "id": "WjXvsuicNkjC"
      },
      "source": [
        "`1.` `Calculate the bias for the below given dataframe.`\n",
        "\n",
        "\n",
        "  `dataframe = {`\n",
        "\n",
        "  `'Expected_parameter':[2,3,1,5,6,7,8,9,6,5,4,3,2],`\n",
        "\n",
        "  `'Original_parameter':[3,4,3,2,2,4,5,6,9,6,6,4,5]`\n",
        "`}`\n",
        "\n",
        "\n"
      ]
    },
    {
      "cell_type": "code",
      "metadata": {
        "id": "xzterEgxNoii"
      },
      "source": [
        "data = {\n",
        "    'Expected_parameter':[2,3,1,5,6,7,8,9,6,5,4,3,2],\n",
        "    'Original_parameter':[3,4,3,2,2,4,5,6,9,6,6,4,5]\n",
        "}"
      ],
      "execution_count": 98,
      "outputs": []
    },
    {
      "cell_type": "code",
      "source": [
        "dataframe = pd.DataFrame(data)\n",
        "dataframe['Bias'] = dataframe['Expected_parameter'] - dataframe['Original_parameter']\n",
        "print(\"The bias is\\n\", dataframe[\"Bias\"])"
      ],
      "metadata": {
        "id": "lFSV2AN7s98Q",
        "colab": {
          "base_uri": "https://localhost:8080/"
        },
        "outputId": "facf67b5-ebdd-4d76-cf71-ccd3b6f002bc"
      },
      "execution_count": 100,
      "outputs": [
        {
          "output_type": "stream",
          "name": "stdout",
          "text": [
            "The bias is\n",
            " 0    -1\n",
            "1    -1\n",
            "2    -2\n",
            "3     3\n",
            "4     4\n",
            "5     3\n",
            "6     3\n",
            "7     3\n",
            "8    -3\n",
            "9    -1\n",
            "10   -2\n",
            "11   -1\n",
            "12   -3\n",
            "Name: Bias, dtype: int64\n"
          ]
        }
      ]
    },
    {
      "cell_type": "markdown",
      "metadata": {
        "id": "oBGn2dPCapoZ"
      },
      "source": [
        "### Bayesian inference"
      ]
    },
    {
      "cell_type": "markdown",
      "metadata": {
        "id": "jLsEzKdcar0Q"
      },
      "source": [
        "**Bayesian inference :**- Bayesian inference is a method of statistical inference in which Baye's theorem is used to update the probability for a hypothesis as more evidence or information becomes available. Bayesian inference is an important technique in statistics, and especially in mathematical statistics.\n",
        "\n",
        "The core of Bayesian Inference is to combine two different distributions (likelihood and prior) into one “smarter” distribution (posterior). Posterior is **“smarter” in the sense that the classic maximum likelihood estimation (MLE) doesn’t take into account a prior**. Once we calculate the posterior, we use it to find the “best” parameters and the **“best” is in terms of maximizing the posterior probability**, given the data. This process is called Maximum A Posteriori (MAP).\n",
        "\n",
        "Bayesian Inference has three steps.\n",
        "\n",
        "Step 1. **[Prior] Choose a PDF to model your parameter θ**, aka the prior distribution **P(θ)**. This is **your best guess** about parameters **before** seeing the data **X**.\n",
        "\n",
        "Step 2. **[Likelihood] Choose a PDF for $P(X|θ)$**. Basically you are modeling how the data **$X$** will look like given the parameter **$θ$**.\n",
        "\n",
        "Step 3. **[Posterior] Calculate the posterior** distribution **$P(θ|X)$** and pick the **$θ$ that has the highest $P(θ|X)$**.\n",
        "\n",
        "And the posterior becomes the new prior. Repeat step 3 as you get more data.\n",
        "\n",
        "\n",
        "**Formula for calculating Posterior**\n",
        "\n",
        "$P(θ|X) = \\frac{P(X|θ).P(θ)}{\\int P(X|θ).P(θ).dθ}$\n",
        "\n",
        "where, $P(θ|X)$ = Posterior, $P(X|θ)$ = Sampling, $P(θ)$ = Prior, $dθ$ = Normalizing constant\n",
        "\n",
        "**Note**: We will follow these steps to work on 11th question."
      ]
    },
    {
      "cell_type": "markdown",
      "metadata": {
        "id": "LeqpePDLaveP"
      },
      "source": [
        "2. Bob is selecting one marble from two bowls of marbles. The first bowl has 75 red marbles and 25 blue marbles. The second bowl has 50 red marbles and 50 blue marbles. Given that Bob is equally likely to choose from either bowl and does not discriminate between the marbles themselves, Bob in fact chooses a red marble. What is the probability Bob picked the marble from bowl 1 and bowl 2?"
      ]
    },
    {
      "cell_type": "code",
      "metadata": {
        "id": "g6-fP5raayPb",
        "colab": {
          "base_uri": "https://localhost:8080/"
        },
        "outputId": "7c40e831-2ec4-439d-f75b-0bd9c180b639"
      },
      "source": [
        "# Probability of fetching the marble from bowl\n",
        "P_H_1 = P_H_2 = 0.5\n",
        "\n",
        "# Probability of fetching the red marble from first bowl\n",
        "P_E_H_1 = 75/100\n",
        "\n",
        "# Probability of fetching the marble from second bowl\n",
        "P_E_H_2 = 50/100\n",
        "\n",
        "# Applying the Bayesian formula to pick the red marble from first bowl\n",
        "P_H_1_E = (P_E_H_1 * P_H_1) / (P_E_H_1 * P_H_1 + P_E_H_2 * P_H_2)\n",
        "P_H_2_E = 1 - P_H_1_E\n",
        "print(\"The probability of fetching the red marble from bowl 1 is \"+str(P_H_1_E)+ \" and from bowl 2 is \"+str(P_H_2_E))"
      ],
      "execution_count": 102,
      "outputs": [
        {
          "output_type": "stream",
          "name": "stdout",
          "text": [
            "The probability of fetching the red marble from bowl 1 is 0.6 and from bowl 2 is 0.4\n"
          ]
        }
      ]
    },
    {
      "cell_type": "markdown",
      "metadata": {
        "id": "bTCNpvaZa16i"
      },
      "source": [
        "### Prior and Posterior distribution"
      ]
    },
    {
      "cell_type": "markdown",
      "metadata": {
        "id": "I-2iTwz8a57C"
      },
      "source": [
        "**Prior distribution:**\n",
        "A Prior distribution represents your belief about the true or false value of a parameter. It shows your “best guess.”"
      ]
    },
    {
      "cell_type": "markdown",
      "metadata": {
        "id": "ZvgASXe4a77D"
      },
      "source": [
        "**Posterior distribution:**  The posterior distribution summarizes what you know after the data has been observed. The summary of the evidence from the new observations is the likelihood function.\n",
        "It is represented as $Posterior$ $Distribution$ $=$ $Prior$ $Distribution * Likelihood$ $Function (“new$ $evidence”)$"
      ]
    },
    {
      "cell_type": "markdown",
      "source": [
        "3. Consider a scenario, where, an education management company conducts free sessions on YouTube on various topics related to Deep Learning. Everytime a session is conducted, around 4000 people actively attends it. After the experts closes the session, a feedback is asked from the attendees. Some people liked the session and some don't. Now, we would like to make predictions about what percentage of people will engage and like when we conduct a session in the future, so that the company can understand about the potential participants willing to continue learning by enrolling in their professional courses.\n",
        "\n"
      ],
      "metadata": {
        "id": "yRLt6LchmNRz"
      }
    },
    {
      "cell_type": "markdown",
      "source": [
        "Let's generate the data X."
      ],
      "metadata": {
        "id": "GgJFH9rznfm4"
      }
    },
    {
      "cell_type": "code",
      "execution_count": 104,
      "metadata": {
        "id": "BP3hxvzLsebe"
      },
      "outputs": [],
      "source": [
        "np.set_printoptions(threshold=100)\n",
        "\n",
        "# Generating 4,000 participants reponse.\n",
        "# Assuming the 'likes' or 'dislikes' follow a Bernoulli process - a sequence of binary (success/failure) random variables.\n",
        "# 1 means liked. 0 means dislike.\n",
        "\n",
        "# We pick the success rate of 30%.\n",
        "liked_prob = 0.3\n",
        "\n",
        "# IID (independent and identically distributed) assumption\n",
        "liked_data = stats.bernoulli.rvs(p=liked_prob, size=4000)"
      ]
    },
    {
      "cell_type": "markdown",
      "source": [
        "Let us have a look at liked data."
      ],
      "metadata": {
        "id": "9Iu5QZzVogbk"
      }
    },
    {
      "cell_type": "code",
      "source": [
        "print(liked_data)"
      ],
      "metadata": {
        "id": "alGLsVtd1nkz",
        "colab": {
          "base_uri": "https://localhost:8080/"
        },
        "outputId": "0d4a4be4-a421-412c-be57-b65cdeb6a234"
      },
      "execution_count": 105,
      "outputs": [
        {
          "output_type": "stream",
          "name": "stdout",
          "text": [
            "[1 0 0 ... 1 1 0]\n"
          ]
        }
      ]
    },
    {
      "cell_type": "code",
      "source": [
        "len(liked_data)"
      ],
      "metadata": {
        "id": "gES95aP_1sGs",
        "colab": {
          "base_uri": "https://localhost:8080/"
        },
        "outputId": "93676ff0-0ccc-4a7e-ad08-237ac9949e39"
      },
      "execution_count": 106,
      "outputs": [
        {
          "output_type": "execute_result",
          "data": {
            "text/plain": [
              "4000"
            ]
          },
          "metadata": {},
          "execution_count": 106
        }
      ]
    },
    {
      "cell_type": "markdown",
      "source": [
        "Firstly, we will choose the PDF to model the parameter $\\theta$.\n",
        "\n",
        "Note : $\\theta$ is the **'liking'** probability.\n"
      ],
      "metadata": {
        "id": "5pxBSfnBqQzL"
      }
    },
    {
      "cell_type": "markdown",
      "source": [
        "`i) What kind of probability distributions should we use to model a probability?`\n",
        "\n",
        "**Explaination**: Since, we have only one thing to predict, we will use a Beta distribution. It has two parameters, $α$ & $β$, that we need to decide. You can think of $α$ as How many people liked (the number of successes) and $β$ as how many people did’t liked (the number of failures). These parameters — how big or small $α$ & $β$ are — will determine the shape of the distribution."
      ],
      "metadata": {
        "id": "KGtDV0WYvWk2"
      }
    },
    {
      "cell_type": "markdown",
      "source": [
        "`ii) Let us assume that we have 800 people out of 4000 who liked the session. Write this in terms of beta distribution and plot the prior distribution with respect to all` $\\theta$ `values`."
      ],
      "metadata": {
        "id": "TgMS9sfGvufx"
      }
    },
    {
      "cell_type": "code",
      "source": [
        "# Declaring alpha and beta\n",
        "alpha = 800\n",
        "beta = 4000 - alpha\n",
        "\n",
        "# domain θ\n",
        "theta_range = np.linspace(0, 1, 2000)\n",
        "\n",
        "# prior distribution P(θ)\n",
        "prior = stats.beta.pdf(x = theta_range, a=alpha, b=beta)"
      ],
      "metadata": {
        "id": "kkRa4KY21xA_"
      },
      "execution_count": 135,
      "outputs": []
    },
    {
      "cell_type": "markdown",
      "source": [
        "Plotting the distribution"
      ],
      "metadata": {
        "id": "ZYtL7DFkzTCz"
      }
    },
    {
      "cell_type": "code",
      "source": [
        "# Plotting the prior distribution\n",
        "# YOUR CODE HERE\n",
        "plt.plot(theta_range, prior, color='blue')\n",
        "# Add a title\n",
        "plt.title('[Prior] PDF of \"Probability of Claps\"', fontsize=20)\n",
        "\n",
        "# Add X and y Label\n",
        "plt.xlabel('θ', fontsize=16)\n",
        "plt.ylabel('Density', fontsize=16)\n",
        "\n",
        "# Add a grid\n",
        "plt.grid(alpha=.4, linestyle='--')\n",
        "# Show the plot\n",
        "plt.show()"
      ],
      "metadata": {
        "id": "hIA9sLIz10Ut",
        "colab": {
          "base_uri": "https://localhost:8080/",
          "height": 486
        },
        "outputId": "408e1902-0e08-4081-94fc-aa8b09a5f157"
      },
      "execution_count": 136,
      "outputs": [
        {
          "output_type": "display_data",
          "data": {
            "text/plain": [
              "<Figure size 640x480 with 1 Axes>"
            ],
            "image/png": "[encoded data removed]"
          },
          "metadata": {}
        }
      ]
    },
    {
      "cell_type": "markdown",
      "source": [
        "We can observe from the above plot that it spikes at 20% (800 likes / 4000 participants) as expected."
      ],
      "metadata": {
        "id": "mTj_2qES0f-m"
      }
    },
    {
      "cell_type": "markdown",
      "source": [
        "Further, lets get into step 2 which is Likelihood $P(X|θ)$.\n",
        "\n",
        "Choose a probability model for $P(X|θ)$, the probability of seeing the data $X$ given a particular parameter $θ$. We can also call Likelihood as a sampling distribution."
      ],
      "metadata": {
        "id": "fpobrWWr1pqC"
      }
    },
    {
      "cell_type": "markdown",
      "source": [
        "`iii) Find out which probability distribution should be used to model the sampling distribution and the likelihood?`\n",
        "\n",
        "\n"
      ],
      "metadata": {
        "id": "8fZtoqoK68eq"
      }
    },
    {
      "cell_type": "markdown",
      "source": [
        "\n",
        "\n",
        "```\n",
        "# This is formatted as code\n",
        "```\n",
        "\n",
        "**Hint:** Since $X$ is binary, and we also have the total number of participants $(n)$ and we want the probability of liked $(p)$. So, we can use Binomial Distribution with $n$ and $p$."
      ],
      "metadata": {
        "id": "L7b4_6F_3VC4"
      }
    },
    {
      "cell_type": "code",
      "source": [
        "# Calculate the total number of likes in the data\n",
        "num_likes = np.sum(liked_data)\n",
        "\n",
        "# The sampling dist P(X|θ) with a prior θ\n",
        "# Calculate the likelihood of observing 'num_likes' successes in 4000 trials for each value in theta_range\n",
        "\n",
        "likelihood = stats.binom.pmf(k=num_likes, n=4000, p=theta_range)\n",
        "print(likelihood)"
      ],
      "metadata": {
        "id": "htP_gOW_15NW",
        "colab": {
          "base_uri": "https://localhost:8080/"
        },
        "outputId": "ed3913ed-3d3a-4aed-ebdb-4b4c59603134"
      },
      "execution_count": 133,
      "outputs": [
        {
          "output_type": "stream",
          "name": "stdout",
          "text": [
            "[0. 0. 0. ... 0. 0. 0.]\n"
          ]
        }
      ]
    },
    {
      "cell_type": "markdown",
      "source": [
        "`iv)` `Plot the graph for` $P(X|θ)$ `for all possible` $θ$.\n",
        "\n",
        "\n",
        "\n",
        "\n",
        "\n",
        "\n",
        "\n",
        "\n",
        "\n",
        "\n"
      ],
      "metadata": {
        "id": "m17Tg1uV4BqI"
      }
    },
    {
      "cell_type": "code",
      "source": [
        "# Likelihood P(X|θ) for all θ's\n",
        "likelihood = likelihood / np.sum(likelihood)\n",
        "\n",
        "# Create the plot\n",
        "# YOUR CODE HERE\n",
        "plt.plot(theta_range, likelihood, color='red')\n",
        "\n",
        "# Add a title\n",
        "plt.title('[Likelihood] Probability of people who liked the session' , fontsize=20)\n",
        "\n",
        "# Add X and y Label\n",
        "# YOUR CODE HERE\n",
        "plt.xlabel('θ', fontsize=16)\n",
        "plt.ylabel('Density', fontsize=16)\n",
        "\n",
        "# Add a grid\n",
        "plt.grid(alpha=.4, linestyle='--')\n",
        "\n",
        "# Show the plot\n",
        "plt.show()"
      ],
      "metadata": {
        "id": "CGkQt0Fc2D9c",
        "colab": {
          "base_uri": "https://localhost:8080/",
          "height": 486
        },
        "outputId": "2e57a41c-84d0-4aa2-fbdb-c776d807fa45"
      },
      "execution_count": 137,
      "outputs": [
        {
          "output_type": "display_data",
          "data": {
            "text/plain": [
              "<Figure size 640x480 with 1 Axes>"
            ],
            "image/png": "[encoded data removed]"
          },
          "metadata": {}
        }
      ]
    },
    {
      "cell_type": "markdown",
      "source": [
        "Now, we will try to calculate the posterior distribution.\n",
        "\n",
        "Even though there are thousands of data points, we can convert them into a single scalar — the likelihood **$P(X|θ)$ — by plugging data into the model that you choose** (in this example, the binomial distribution).\n",
        "\n",
        "Then, we calculate **$P(θ)$ & $P(X|θ)$** for a specific **$θ$** and multiply them together. If you do this for every possible **$θ$**, you can pick the highest **$P(θ)$ * $P(X|θ)$** among different **$θ’s$**.\n",
        "\n",
        "Your initial guess about parameters was **$P(θ)$**. Now you are **upgrading a simple $P(θ)$ into something more informative — $P(θ|X)$ — as more data become available.**\n",
        "**$P(θ|X)$** is still the probability of **$θ$**, just like **$P(θ)$** is. However, **$P(θ|X)$** is a smarter version of **$P(θ)$**."
      ],
      "metadata": {
        "id": "OebbkziVDnMM"
      }
    },
    {
      "cell_type": "markdown",
      "source": [
        "`v). Calculate the Posterior Distribution` $P(θ|X)$?"
      ],
      "metadata": {
        "id": "k2CyayTtH_GV"
      }
    },
    {
      "cell_type": "code",
      "source": [
        "# Finding the Prior\n",
        "theta_range_e = theta_range + 0.001\n",
        "prior = stats.beta.pdf(x = theta_range_e, a=alpha, b=beta)\n",
        "prior = prior / np.sum(prior)\n",
        "# prior = stats.beta.pdf(x = theta_range, a=alpha, b=beta)\n",
        "\n",
        "# Finding likelihood\n",
        "likelihood = stats.binom.pmf(k=num_likes, n=2000, p=theta_range)\n",
        "\n",
        "# Element-wise multiplication\n",
        "posterior = likelihood * prior\n",
        "normalized_posterior = posterior / np.sum(posterior)"
      ],
      "metadata": {
        "id": "UdWj32-135ep"
      },
      "execution_count": 138,
      "outputs": []
    },
    {
      "cell_type": "markdown",
      "source": [
        "**Note:** We calculated the prior by subtracting two `stats.beta.cdf` instead of using `stats.beta.pdf` because the likelihood `stats.binom.pmf` is a probability while `stats.beta.pdf` returns a density. Even if we use the density to calculate the posterior, it won’t change the optimization result. However, if you want the units to match, converting a density into a probability is necessary."
      ],
      "metadata": {
        "id": "E6jczph5I3gs"
      }
    },
    {
      "cell_type": "markdown",
      "source": [
        "`vi). Plot the graph for Prior, Likelihood, and Posterior together.`"
      ],
      "metadata": {
        "id": "yjbzrjg6HL2u"
      }
    },
    {
      "cell_type": "code",
      "source": [
        "# Plotting all three together\n",
        "# YOUR CODE HERE\n",
        "plt.plot(theta_range, prior, color='blue', label='Prior')\n",
        "plt.plot(theta_range, likelihood, color='red', label='Likelihood')\n",
        "plt.plot(theta_range, normalized_posterior, color='green', label='Posterior')\n",
        "plt.legend()"
      ],
      "metadata": {
        "id": "wsr9LhoP4F4a",
        "colab": {
          "base_uri": "https://localhost:8080/",
          "height": 447
        },
        "outputId": "d4ff78f9-797e-4ace-cceb-6f260c2524a9"
      },
      "execution_count": 139,
      "outputs": [
        {
          "output_type": "execute_result",
          "data": {
            "text/plain": [
              "<matplotlib.legend.Legend at 0x79ccd7967690>"
            ]
          },
          "metadata": {},
          "execution_count": 139
        },
        {
          "output_type": "display_data",
          "data": {
            "text/plain": [
              "<Figure size 640x480 with 1 Axes>"
            ],
            "image/png": "[encoded data removed]"
          },
          "metadata": {}
        }
      ]
    },
    {
      "cell_type": "markdown",
      "source": [
        "When you look at the posterior graph (the 3rd one), **notice it is where the likelihood shifted toward the prior**. The **liked** probability for the prior was 20%. The **liked** probability for the data was given as 30%. Now, the posterior has its peak around 0.25%.\n",
        "\n",
        "Also, notice the width of the bell curves in prior/likelihood has shrunk in the posterior. Because we incorporated more information through sampling, the range of possible parameters is now narrower.\n",
        "\n",
        "The more data you gather, the graph of the posterior will look more like that of the likelihood and less like that of the prior. In other words, as you get more data, the original prior distribution matters less.\n",
        "\n",
        "Finally, we can pick **$\\theta$ that gives the highest posterior** computed by numerical optimization, such as the Gradient Descent or newton method. This whole iterative procedure is called **Maximum A Posteriori estimation (MAP)**."
      ],
      "metadata": {
        "id": "hn_DYtKLJOBh"
      }
    },
    {
      "cell_type": "markdown",
      "metadata": {
        "id": "Q0vkPqqia-RK"
      },
      "source": [
        "12. Construct a prior and posterior distribution with some binominal random distribution techniques."
      ]
    },
    {
      "cell_type": "code",
      "metadata": {
        "id": "8DQzNpiRbBXD"
      },
      "source": [
        "def bern_post(n_params=1000, n_sample=1000, true_p=.5, prior_p=.5, n_prior=1000):\n",
        "    # Creating the samples\n",
        "    params = np.linspace(0, 1, n_params)\n",
        "    sample = bernoulli.rvs(true_p, size=n_sample)\n",
        "    successes = np.sum(sample)\n",
        "\n",
        "    # Calculating the Likelihood\n",
        "    likelihood = stats.binom.pmf(k=successes, n=n_sample, p=params)\n",
        "    # YOUR CODE HERE\n",
        "    likelihood = likelihood / np.sum(likelihood)\n",
        "\n",
        "    # Prior sample\n",
        "    prior_sample = bernoulli.rvs(prior_p, size=n_prior)\n",
        "    prior_successes = np.sum(prior_sample)\n",
        "    prior_failures = n_prior - prior_successes\n",
        "\n",
        "    # Calculating the Prior\n",
        "    prior = stats.binom.pmf(k=prior_successes, n=n_prior, p=params)\n",
        "\n",
        "    # Finding the posterior\n",
        "    posterior = likelihood * prior\n",
        "    posterior = posterior / np.sum(posterior)\n",
        "\n",
        "    # Plotting the graph\n",
        "    plt.plot(params, likelihood, color='red', label='Likelihood')\n",
        "    plt.plot(params, prior, color='blue', label='Prior')\n",
        "    plt.plot(params, posterior, color='green', label='Posterior')\n",
        "    plt.legend()\n",
        "\n",
        "    return posterior"
      ],
      "execution_count": 143,
      "outputs": []
    },
    {
      "cell_type": "code",
      "metadata": {
        "id": "U9eRUzYobFcP",
        "colab": {
          "base_uri": "https://localhost:8080/",
          "height": 430
        },
        "outputId": "e384dac4-6673-46d7-fb3f-6988a4824b15"
      },
      "source": [
        "moredata_post = bern_post(n_sample=1000)"
      ],
      "execution_count": 146,
      "outputs": [
        {
          "output_type": "display_data",
          "data": {
            "text/plain": [
              "<Figure size 640x480 with 1 Axes>"
            ],
            "image/png": "[encoded data removed]"
          },
          "metadata": {}
        }
      ]
    },
    {
      "cell_type": "markdown",
      "metadata": {
        "id": "VHfHdGCP_n6Y"
      },
      "source": [
        "### Please answer the questions below to complete the experiment:\n",
        "\n",
        "\n"
      ]
    },
    {
      "cell_type": "code",
      "metadata": {
        "id": "kmvdJ4aNmGjR"
      },
      "source": [
        "#@title Q.1. In a hospital, research show that of patients suffering from a certain illness, 75% die of it. What is the probability that of 6 randomly selected patients, at least one will recover? { run: \"auto\", form-width: \"500px\", display-mode: \"form\" }\n",
        "Answer1 = \"\" #@param [\"\",\"0.822\", \"0.355\", \"0.2966\", \"0.004395\"]"
      ],
      "execution_count": null,
      "outputs": []
    },
    {
      "cell_type": "code",
      "metadata": {
        "id": "UX24XAeIJ6Nf"
      },
      "source": [
        "#@title Q.2. If X is a continuous random variable with pdf f(x), then what is the relationship between Variance and the Expected value of X? { run: \"auto\", form-width: \"500px\", display-mode: \"form\" }\n",
        "Answer2 = \"\" #@param [\"\",\"E[X]**2 - E[X**2]\", \"E[X**2] - E[X]**2\", \"E[X**2] - XE[X]\", \"None of the above\"]"
      ],
      "execution_count": null,
      "outputs": []
    },
    {
      "cell_type": "code",
      "metadata": {
        "id": "NMzKSbLIgFzQ"
      },
      "source": [
        "#@title How was the experiment? { run: \"auto\", form-width: \"500px\", display-mode: \"form\" }\n",
        "Complexity = \"\" #@param [\"\",\"Too Simple, I am wasting time\", \"Good, But Not Challenging for me\", \"Good and Challenging for me\", \"Was Tough, but I did it\", \"Too Difficult for me\"]\n"
      ],
      "execution_count": null,
      "outputs": []
    },
    {
      "cell_type": "code",
      "metadata": {
        "id": "DjcH1VWSFI2l"
      },
      "source": [
        "#@title If it was too easy, what more would you have liked to be added? If it was very difficult, what would you have liked to have been removed? { run: \"auto\", display-mode: \"form\" }\n",
        "Additional = \"\" #@param {type:\"string\"}\n"
      ],
      "execution_count": null,
      "outputs": []
    },
    {
      "cell_type": "code",
      "metadata": {
        "id": "4VBk_4VTAxCM"
      },
      "source": [
        "#@title Can you identify the concepts from the lecture which this experiment covered? { run: \"auto\", vertical-output: true, display-mode: \"form\" }\n",
        "Concepts = \"\" #@param [\"\",\"Yes\", \"No\"]\n"
      ],
      "execution_count": null,
      "outputs": []
    },
    {
      "cell_type": "code",
      "metadata": {
        "id": "XH91cL1JWH7m"
      },
      "source": [
        "#@title  Text and image description/explanation and code comments within the experiment: { run: \"auto\", vertical-output: true, display-mode: \"form\" }\n",
        "Comments = \"\" #@param [\"\",\"Very Useful\", \"Somewhat Useful\", \"Not Useful\", \"Didn't use\"]\n"
      ],
      "execution_count": null,
      "outputs": []
    },
    {
      "cell_type": "code",
      "metadata": {
        "id": "z8xLqj7VWIKW"
      },
      "source": [
        "#@title Mentor Support: { run: \"auto\", vertical-output: true, display-mode: \"form\" }\n",
        "Mentor_support = \"\" #@param [\"\",\"Very Useful\", \"Somewhat Useful\", \"Not Useful\", \"Didn't use\"]\n"
      ],
      "execution_count": null,
      "outputs": []
    },
    {
      "cell_type": "code",
      "metadata": {
        "id": "FzAZHt1zw-Y-",
        "cellView": "form"
      },
      "source": [
        "#@title Run this cell to submit your notebook for grading { vertical-output: true }\n",
        "try:\n",
        "  if submission_id:\n",
        "      return_id = submit_notebook()\n",
        "      if return_id : submission_id = return_id\n",
        "  else:\n",
        "      print(\"Please complete the setup first.\")\n",
        "except NameError:\n",
        "  print (\"Please complete the setup first.\")"
      ],
      "execution_count": null,
      "outputs": []
    }
  ]
}