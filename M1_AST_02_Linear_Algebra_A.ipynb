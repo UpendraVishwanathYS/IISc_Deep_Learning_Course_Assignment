{
  "nbformat": 4,
  "nbformat_minor": 0,
  "metadata": {
    "colab": {
      "provenance": [],
      "include_colab_link": true
    },
    "kernelspec": {
      "name": "python3",
      "display_name": "Python 3"
    },
    "language_info": {
      "name": "python"
    }
  },
  "cells": [
    {
      "cell_type": "markdown",
      "metadata": {
        "id": "view-in-github",
        "colab_type": "text"
      },
      "source": [
        "<a href=\"https://colab.research.google.com/github/UpendraVishwanathYS/IISc_Deep_Learning_Course_Assignment/blob/main/M1_AST_02_Linear_Algebra_A.ipynb\" target=\"_parent\"><img src=\"https://colab.research.google.com/assets/colab-badge.svg\" alt=\"Open In Colab\"/></a>"
      ]
    },
    {
      "cell_type": "markdown",
      "metadata": {
        "id": "p4Nwm4FK3wgU"
      },
      "source": [
        "# Advanced Programme in Deep Learning (Foundations and Applications)\n",
        "## A Program by IISc and TalentSprint\n",
        "### Assignment 2: Linear Algebra"
      ]
    },
    {
      "cell_type": "markdown",
      "metadata": {
        "id": "dHj34EaN5oa5"
      },
      "source": [
        "## Learning Objectives"
      ]
    },
    {
      "cell_type": "markdown",
      "metadata": {
        "id": "-vPeurvKNAEz"
      },
      "source": [
        "At the end of the assignment, you will be able to\n",
        "\n",
        "*   solve the system of linear equation using matrix solution\n",
        "*   implement concepts related to eigen vectors and values\n",
        "*   understand rank of a matrix\n",
        "*   implement SVD (Singular Value Decomposition) using Python\n",
        "*   understand vector and matrix norm\n",
        "*   perform various matrix calculus operations using Python\n",
        "\n"
      ]
    },
    {
      "cell_type": "markdown",
      "metadata": {
        "id": "BNLA8HiKxQhc"
      },
      "source": [
        "### Setup Steps:"
      ]
    },
    {
      "cell_type": "code",
      "metadata": {
        "id": "2YzfoPvJDiTX"
      },
      "source": [
        "#@title Please enter your registration id to start: { run: \"auto\", display-mode: \"form\" }\n",
        "Id = \"\" #@param {type:\"string\"}"
      ],
      "execution_count": null,
      "outputs": []
    },
    {
      "cell_type": "code",
      "metadata": {
        "id": "rEzlYL4CDrmE"
      },
      "source": [
        "#@title Please enter your password (normally your phone number) to continue: { run: \"auto\", display-mode: \"form\" }\n",
        "password = \"\" #@param {type:\"string\"}"
      ],
      "execution_count": null,
      "outputs": []
    },
    {
      "cell_type": "code",
      "metadata": {
        "cellView": "form",
        "id": "PTh2bRQ-fuis",
        "colab": {
          "base_uri": "https://localhost:8080/"
        },
        "outputId": "b4a1bda9-20f6-463d-eb8f-345d614722ba"
      },
      "source": [
        "#@title Run this cell to complete the setup for this Notebook\n",
        "from IPython import get_ipython\n",
        "import warnings\n",
        "warnings.filterwarnings(\"ignore\")\n",
        "\n",
        "ipython = get_ipython()\n",
        "\n",
        "notebook= \"M1_AST_02_Linear_Algebra_A\" #name of the notebook\n",
        "\n",
        "def setup():\n",
        "    from IPython.display import HTML, display\n",
        "    display(HTML('<script src=\"https://dashboard.talentsprint.com/aiml/record_ip.html?traineeId={0}&recordId={1}\"></script>'.format(getId(),submission_id)))\n",
        "    print(\"Setup completed successfully\")\n",
        "    return\n",
        "\n",
        "def submit_notebook():\n",
        "    ipython.magic(\"notebook -e \"+ notebook + \".ipynb\")\n",
        "\n",
        "    import requests, json, base64, datetime\n",
        "\n",
        "    url = \"https://dashboard.talentsprint.com/xp/app/save_notebook_attempts\"\n",
        "    if not submission_id:\n",
        "      data = {\"id\" : getId(), \"notebook\" : notebook, \"mobile\" : getPassword()}\n",
        "      r = requests.post(url, data = data)\n",
        "      r = json.loads(r.text)\n",
        "\n",
        "      if r[\"status\"] == \"Success\":\n",
        "          return r[\"record_id\"]\n",
        "      elif \"err\" in r:\n",
        "        print(r[\"err\"])\n",
        "        return None\n",
        "      else:\n",
        "        print (\"Something is wrong, the notebook will not be submitted for grading\")\n",
        "        return None\n",
        "\n",
        "    elif getAnswer1() and getAnswer2() and getComplexity() and getAdditional() and getConcepts() and getComments() and getMentorSupport():\n",
        "      f = open(notebook + \".ipynb\", \"rb\")\n",
        "      file_hash = base64.b64encode(f.read())\n",
        "\n",
        "      data = {\"complexity\" : Complexity, \"additional\" :Additional,\n",
        "              \"concepts\" : Concepts, \"record_id\" : submission_id,\n",
        "              \"answer1\" : Answer1, \"answer2\" : Answer2, \"id\" : Id, \"file_hash\" : file_hash,\n",
        "              \"notebook\" : notebook,\n",
        "              \"feedback_experiments_input\" : Comments,\n",
        "              \"feedback_mentor_support\": Mentor_support}\n",
        "      r = requests.post(url, data = data)\n",
        "      r = json.loads(r.text)\n",
        "      if \"err\" in r:\n",
        "        print(r[\"err\"])\n",
        "        return None\n",
        "      else:\n",
        "        print(\"Your submission is successful.\")\n",
        "        print(\"Ref Id:\", submission_id)\n",
        "        print(\"Date of submission: \", r[\"date\"])\n",
        "        print(\"Time of submission: \", r[\"time\"])\n",
        "        print(\"View your submissions: https://learn-iisc.talentsprint.com/notebook_submissions\")\n",
        "        #print(\"For any queries/discrepancies, please connect with mentors through the chat icon in LMS dashboard.\")\n",
        "        return submission_id\n",
        "    else: submission_id\n",
        "\n",
        "\n",
        "def getAdditional():\n",
        "  try:\n",
        "    if not Additional:\n",
        "      raise NameError\n",
        "    else:\n",
        "      return Additional\n",
        "  except NameError:\n",
        "    print (\"Please answer Additional Question\")\n",
        "    return None\n",
        "\n",
        "def getComplexity():\n",
        "  try:\n",
        "    if not Complexity:\n",
        "      raise NameError\n",
        "    else:\n",
        "      return Complexity\n",
        "  except NameError:\n",
        "    print (\"Please answer Complexity Question\")\n",
        "    return None\n",
        "\n",
        "def getConcepts():\n",
        "  try:\n",
        "    if not Concepts:\n",
        "      raise NameError\n",
        "    else:\n",
        "      return Concepts\n",
        "  except NameError:\n",
        "    print (\"Please answer Concepts Question\")\n",
        "    return None\n",
        "\n",
        "\n",
        "# def getWalkthrough():\n",
        "#   try:\n",
        "#     if not Walkthrough:\n",
        "#       raise NameError\n",
        "#     else:\n",
        "#       return Walkthrough\n",
        "#   except NameError:\n",
        "#     print (\"Please answer Walkthrough Question\")\n",
        "#     return None\n",
        "\n",
        "def getComments():\n",
        "  try:\n",
        "    if not Comments:\n",
        "      raise NameError\n",
        "    else:\n",
        "      return Comments\n",
        "  except NameError:\n",
        "    print (\"Please answer Comments Question\")\n",
        "    return None\n",
        "\n",
        "\n",
        "def getMentorSupport():\n",
        "  try:\n",
        "    if not Mentor_support:\n",
        "      raise NameError\n",
        "    else:\n",
        "      return Mentor_support\n",
        "  except NameError:\n",
        "    print (\"Please answer Mentor support Question\")\n",
        "    return None\n",
        "\n",
        "def getAnswer1():\n",
        "  try:\n",
        "    if not Answer1:\n",
        "      raise NameError\n",
        "    else:\n",
        "      return Answer1\n",
        "  except NameError:\n",
        "    print (\"Please answer Question 1\")\n",
        "    return None\n",
        "\n",
        "def getAnswer2():\n",
        "  try:\n",
        "    if not Answer2:\n",
        "      raise NameError\n",
        "    else:\n",
        "      return Answer2\n",
        "  except NameError:\n",
        "    print (\"Please answer Question 2\")\n",
        "    return None\n",
        "\n",
        "\n",
        "def getId():\n",
        "  try:\n",
        "    return Id if Id else None\n",
        "  except NameError:\n",
        "    return None\n",
        "\n",
        "def getPassword():\n",
        "  try:\n",
        "    return password if password else None\n",
        "  except NameError:\n",
        "    return None\n",
        "\n",
        "submission_id = None\n",
        "### Setup\n",
        "if getPassword() and getId():\n",
        "  submission_id = submit_notebook()\n",
        "  if submission_id:\n",
        "    setup()\n",
        "else:\n",
        "  print (\"Please complete Id and Password cells before running setup\")\n",
        "\n"
      ],
      "execution_count": 1,
      "outputs": [
        {
          "output_type": "stream",
          "name": "stdout",
          "text": [
            "Please complete Id and Password cells before running setup\n"
          ]
        }
      ]
    },
    {
      "cell_type": "markdown",
      "metadata": {
        "id": "083wvqEfY2Xx"
      },
      "source": [
        "### Importing the required libraries"
      ]
    },
    {
      "cell_type": "code",
      "metadata": {
        "id": "UunDIGcdu8nX"
      },
      "source": [
        "import numpy as np\n",
        "import scipy\n",
        "import sympy as sym\n",
        "import matplotlib.pyplot as plt\n",
        "from sympy.abc import x, y,z\n",
        "from scipy import linalg\n",
        "from numpy.linalg import eig\n",
        "import torch"
      ],
      "execution_count": 10,
      "outputs": []
    },
    {
      "cell_type": "markdown",
      "metadata": {
        "id": "EMzPFzf8KjDu"
      },
      "source": [
        "\n",
        "### Cross Product & Dot Product of Vector and Matrices"
      ]
    },
    {
      "cell_type": "markdown",
      "metadata": {
        "id": "GDbs-xfRjSDC"
      },
      "source": [
        "\n",
        "*   **Cross Product** : In three-dimensional space, the cross product is a binary operation between two vectors. It produces a perpendicular vector to both vectors.\n",
        "\n",
        "<center><img src=\"https://cdn.iisc.talentsprint.com/DLFA/Experiment_related_data/cross_product.png\" alt=\"Drawing\" height=\"300\" width=\"280\"/></center>\n",
        "\n",
        "*   **Dot Product** : The dot product is defined algebraically as the sum of the products of the corresponding entries of the two number sequences. Moreover, it is the product of the Euclidean magnitudes and the cosine of the angle between them.\n",
        "\n",
        "<br>\n",
        "<center>\n",
        "<img src=\"https://cdn.iisc.talentsprint.com/DLFA/Experiment_related_data/dot_product-01.png\" alt=\"Drawing\" height=\"300\" width=\"300\"/></center>\n"
      ]
    },
    {
      "cell_type": "markdown",
      "metadata": {
        "id": "za3FdZvNnOhQ"
      },
      "source": [
        "1. Create two matrices and perform cross product on them."
      ]
    },
    {
      "cell_type": "code",
      "metadata": {
        "id": "JVkXImIoGbTE",
        "colab": {
          "base_uri": "https://localhost:8080/"
        },
        "outputId": "a4b6a2a7-6db7-4152-8a13-cfd1b283a909"
      },
      "source": [
        "mat1 = torch.randn(3,3)\n",
        "mat2 = torch.randn(3,3)\n",
        "cross_product = torch.cross(mat1,mat2)\n",
        "print(\"Cross Product:\\n\",cross_product)"
      ],
      "execution_count": 12,
      "outputs": [
        {
          "output_type": "stream",
          "name": "stdout",
          "text": [
            "Cross Product:\n",
            " tensor([[-0.4327,  1.7927,  1.4338],\n",
            "        [ 0.2221, -2.0131,  0.1050],\n",
            "        [-0.3058, -2.1318,  0.3956]])\n"
          ]
        }
      ]
    },
    {
      "cell_type": "markdown",
      "metadata": {
        "id": "s4xF_3dfZ8dt"
      },
      "source": [
        "2. Apply dot product on the below given vectors:\n",
        "\n",
        "    i). x = sin45 i + 6j\n",
        "    \n",
        "    ii).   y = 42i + 7j\n",
        "\n"
      ]
    },
    {
      "cell_type": "code",
      "metadata": {
        "id": "yW0pBqSEbofX",
        "colab": {
          "base_uri": "https://localhost:8080/"
        },
        "outputId": "95ecb1f3-8b89-43bd-94f0-64be11a1b989"
      },
      "source": [
        "# Taking two 1D arrays\n",
        "y = [42,7]\n",
        "x = [np.sin(np.pi/4),6]\n",
        "\n",
        "# Calculating dot product using dot() method\n",
        "# YOUR CODE HERE\n",
        "dot_product = torch.dot(torch.tensor(x,dtype=torch.float),torch.tensor(y,dtype=torch.float))\n",
        "print(\"Dot Product:\\n\",dot_product)"
      ],
      "execution_count": 15,
      "outputs": [
        {
          "output_type": "stream",
          "name": "stdout",
          "text": [
            "Dot Product:\n",
            " tensor(71.6985)\n"
          ]
        }
      ]
    },
    {
      "cell_type": "markdown",
      "metadata": {
        "id": "6tlWT-YPnHye"
      },
      "source": [
        "3. Create two vectors and perform cross product operation on them.\n"
      ]
    },
    {
      "cell_type": "code",
      "metadata": {
        "id": "S0CAppkuKmX1",
        "colab": {
          "base_uri": "https://localhost:8080/"
        },
        "outputId": "24457c91-8a87-4240-89e7-c08fc89f1acf"
      },
      "source": [
        "# Creating matrices\n",
        "# YOUR CODE HERE\n",
        "mat1 = torch.randn(3,3)\n",
        "mat2 = torch.randn(3,3)\n",
        "\n",
        "# Cross product of matrices\n",
        "# YOUR CODE HERE\n",
        "cross_product = torch.cross(mat1,mat2)\n",
        "print(\"Cross Product:\\n\",cross_product)"
      ],
      "execution_count": 16,
      "outputs": [
        {
          "output_type": "stream",
          "name": "stdout",
          "text": [
            "Cross Product:\n",
            " tensor([[-1.8760, -0.7952, -0.1557],\n",
            "        [-0.5441, -0.9125,  2.4691],\n",
            "        [ 3.7190,  1.0171,  0.6952]])\n"
          ]
        }
      ]
    },
    {
      "cell_type": "markdown",
      "metadata": {
        "id": "k2xogQ7flkR_"
      },
      "source": [
        "### System of Linear Equations"
      ]
    },
    {
      "cell_type": "markdown",
      "metadata": {
        "id": "kq3TzflvKRgg"
      },
      "source": [
        "1. Solve the following linear equation for x and y using matrix solution.\n",
        "\n",
        "  i). 7x + 3y = 34\n",
        "\n",
        "  ii). 8x + 9y = 50\n",
        "\n",
        "    Hint: Use the equation for AX = B to solve the equation where A & B are the matrices for values of LHS and RHS of the equation and X consist of x & y variables.\n",
        "    \n",
        "    To know more about Python libraries, [here ](https://numpy.org/doc/stable/reference/generated/numpy.linalg.inv.html)\n",
        "\n",
        "\n",
        "\n",
        "\n",
        "\n",
        "\n"
      ]
    },
    {
      "cell_type": "markdown",
      "metadata": {
        "id": "imNDo0Y31bat"
      },
      "source": [
        "Steps to solve:\n",
        "\n",
        "1. Write the equation in the form of $AX = B$\n",
        "2. Then, you can write it as -> $X = A^{-1}.B$"
      ]
    },
    {
      "cell_type": "code",
      "metadata": {
        "id": "HqAHQniMK5PY",
        "colab": {
          "base_uri": "https://localhost:8080/"
        },
        "outputId": "f9ac110d-0d4e-4fd3-8a07-7f1f9da8d3f9"
      },
      "source": [
        "# Creating matrices\n",
        "# YOUR CODE HERE\n",
        "A = torch.tensor([[7,3],[8,9]],dtype=torch.float)\n",
        "B = torch.tensor([34,50],dtype=torch.float)\n",
        "\n",
        "# Inverse of matrix A\n",
        "# YOUR CODE HERE\n",
        "A_inv = torch.inverse(A)\n",
        "\n",
        "# Dot product of matrix A1 and B\n",
        "# YOUR CODE HERE\n",
        "X = torch.matmul(A_inv,B)\n",
        "print(\"Solution:\\n\",X)\n",
        "\n",
        "#verify:\n",
        "B_hat = torch.matmul(A,X)\n",
        "if torch.allclose(B,B_hat):\n",
        "  print(\"Solution is correct\")\n",
        "else:\n",
        "  print(\"Solution is incorrect\")"
      ],
      "execution_count": 22,
      "outputs": [
        {
          "output_type": "stream",
          "name": "stdout",
          "text": [
            "Solution:\n",
            " tensor([4.0000, 2.0000])\n",
            "Solution is correct\n"
          ]
        }
      ]
    },
    {
      "cell_type": "markdown",
      "metadata": {
        "id": "5YIW-fnBlqRP"
      },
      "source": [
        "2. Find the values of x and y from the system of linear equations given below and verify the solution:\n",
        "\n",
        "  i). 6x + 5y = 19\n",
        "\n",
        "  ii). 7x + 9y = 32\n",
        "\n",
        "\n",
        "\n",
        "\n",
        "\n"
      ]
    },
    {
      "cell_type": "markdown",
      "metadata": {
        "id": "XCwXk-I6jS8X"
      },
      "source": [
        "Steps to solve:\n",
        "\n",
        "1. Create two arrays.\n",
        "\n",
        "2. Solve for x and y.\n",
        "\n",
        "3. Compute the dot product of the matrix equation(array) and the solution\n",
        "\n",
        "4. Use allclose() method to check whether the matrices are element-wise equal or not."
      ]
    },
    {
      "cell_type": "code",
      "metadata": {
        "id": "uAGP_LhElo5t",
        "colab": {
          "base_uri": "https://localhost:8080/"
        },
        "outputId": "7df1fc9e-d32b-45bd-bf9b-24f6a31af4b2"
      },
      "source": [
        "# Creating arrays\n",
        "# YOUR CODE HERE\n",
        "A = torch.tensor([[6,5],[7,9]],dtype=torch.float)\n",
        "B = torch.tensor([19,32],dtype=torch.float)\n",
        "\n",
        "# Inverse of matrix A\n",
        "# YOUR CODE HERE\n",
        "A_inv = torch.inverse(A)\n",
        "\n",
        "# Solve a linear matrix equation\n",
        "# YOUR CODE HERE\n",
        "X = torch.matmul(A_inv,B)\n",
        "print(\"Solution:\\n\",X)\n",
        "\n",
        "# Verify the solution\n",
        "# Creating matrices\n",
        "ver_sol = torch.matmul(A,X)\n",
        "if torch.allclose(B,ver_sol):\n",
        "  print(\"Solution is correct\")\n",
        "else:\n",
        "  print(\"Solution is incorrect\")"
      ],
      "execution_count": 23,
      "outputs": [
        {
          "output_type": "stream",
          "name": "stdout",
          "text": [
            "Solution:\n",
            " tensor([0.5789, 3.1053])\n",
            "Solution is correct\n"
          ]
        }
      ]
    },
    {
      "cell_type": "markdown",
      "metadata": {
        "id": "mNtFMhYuqO3n"
      },
      "source": [
        "3. Below are pair of three linear equations. Find the values of x, y, & z.\n",
        "\n",
        "  i). 8x + 3y + 5z = 29\n",
        "\n",
        "  ii). 4x + 7y + 12z = 54\n",
        "\n",
        "  iii). 9x + 5y + 11z = 52\n",
        "\n",
        "\n",
        "\n",
        "\n",
        "\n"
      ]
    },
    {
      "cell_type": "code",
      "metadata": {
        "id": "hF_oDNegocwE",
        "colab": {
          "base_uri": "https://localhost:8080/"
        },
        "outputId": "12770ece-f582-4405-f877-6b6139a40905"
      },
      "source": [
        "# Creating matrices\n",
        "# YOUR CODE HERE\n",
        "A = torch.tensor([[8,3,5],[4,7,12],[9,5,11]],dtype=torch.float)\n",
        "B = torch.tensor([29,54,52],dtype=torch.float)\n",
        "# Inverse of matrix A\n",
        "# YOUR CODE HERE\n",
        "A_inv = torch.inverse(A)\n",
        "# Dot product of A1 and B\n",
        "# YOUR CODE HERE\n",
        "X = torch.matmul(A_inv,B)\n",
        "print(\"Solution:\\n\",X)"
      ],
      "execution_count": 24,
      "outputs": [
        {
          "output_type": "stream",
          "name": "stdout",
          "text": [
            "Solution:\n",
            " tensor([1.0000, 2.0000, 3.0000])\n"
          ]
        }
      ]
    },
    {
      "cell_type": "markdown",
      "metadata": {
        "id": "5ui2dyQfQ33u"
      },
      "source": [
        "4. Suppose an automobile company sells 25 bikes and 32 scooties in January. In the next month the sale goes up to 30 bikes and 41 scooties. The total revenue generated is Rs. 506,000 and Rs.620,000 for the respective months.\n",
        "Find the cost of bike and scooty using matrix solution.\n",
        "\n",
        "  Hint: Form the pair of linear equations using the below problem statement and solve the equations to get the answer.\n",
        "\n",
        "    Assume the cost of bike and scooty as x and y. Moreover, we can create the equation:\n",
        "\n",
        "       i)   25x + 32y = 506000\n",
        "\n",
        "       ii)  30x + 41y = 628000\n",
        "\n"
      ]
    },
    {
      "cell_type": "code",
      "metadata": {
        "id": "S5tugRJHTF4w",
        "colab": {
          "base_uri": "https://localhost:8080/"
        },
        "outputId": "c5619c99-e8a3-4f1d-d5b1-a818b33cf65b"
      },
      "source": [
        "# Create matrices using the values from the equation\n",
        "# YOUR CODE HERE\n",
        "A = torch.tensor([[25,32],[30,41]],dtype=torch.float)\n",
        "B = torch.tensor([506000,628000],dtype=torch.float)\n",
        "# Inverse of matrix A\n",
        "# YOUR CODE HERE\n",
        "A_inv = torch.inverse(A)\n",
        "# Dot product of A1 and B\n",
        "# YOUR CODE HERE\n",
        "X = torch.matmul(A_inv,B)\n",
        "print(\"Solution:\\n\",X)"
      ],
      "execution_count": 26,
      "outputs": [
        {
          "output_type": "stream",
          "name": "stdout",
          "text": [
            "Solution:\n",
            " tensor([10000.0186,  7999.9814])\n"
          ]
        }
      ]
    },
    {
      "cell_type": "markdown",
      "metadata": {
        "id": "JM6EeJ-EhM68"
      },
      "source": [
        "### Checking the Linear Dependence and Independence\n",
        "\n",
        "We use linear dependence and independence to check the relation of the variables in the real-world dataset."
      ]
    },
    {
      "cell_type": "markdown",
      "metadata": {
        "id": "KFe9f84vhlqj"
      },
      "source": [
        "1. Check linear dependence for the following equations.\n",
        "\n",
        "  i). 6x + 3y + 5z = 19\n",
        "\n",
        "  ii). 2x + y + 7z = 17  \n",
        "\n",
        "  iii). 16x + 8y + 40z = 104  \n",
        "\n",
        "  Hint : If the determinant is 0 then it is linearly dependent.\n",
        "\n",
        "\n",
        "\n"
      ]
    },
    {
      "cell_type": "code",
      "metadata": {
        "id": "95qHUZSghmMd",
        "colab": {
          "base_uri": "https://localhost:8080/"
        },
        "outputId": "9fd98cf9-f92c-4204-fd40-053c0820c862"
      },
      "source": [
        "# Creating arrays\n",
        "# YOUR CODE HERE\n",
        "A = torch.tensor([[6,3,5],[2,1,7],[16,8,40]],dtype=torch.float)\n",
        "B = torch.tensor([19,17,104],dtype=torch.float)\n",
        "# Finding determinant\n",
        "# YOUR CODE HERE\n",
        "det = torch.linalg.det(A)\n",
        "print(\"Determinant:\\n\",det)\n",
        "\n",
        "# Applying condition\n",
        "# YOUR CODE HERE\n",
        "if det == 0:\n",
        "  print(\"Linearly Dependent\")\n",
        "else:\n",
        "  print(\"Linearly Independent\")"
      ],
      "execution_count": 27,
      "outputs": [
        {
          "output_type": "stream",
          "name": "stdout",
          "text": [
            "Determinant:\n",
            " tensor(-0.)\n",
            "Linearly Dependent\n"
          ]
        }
      ]
    },
    {
      "cell_type": "markdown",
      "metadata": {
        "id": "gEYYXTH7qMrK"
      },
      "source": [
        "2. Find whether the below linear equations are linearly dependent or independent.\n",
        "\n",
        "  i). 4x + 2y = 6\n",
        "\n",
        "  ii). y = -x-2\n"
      ]
    },
    {
      "cell_type": "code",
      "metadata": {
        "id": "jvlTd_2dxZOw",
        "colab": {
          "base_uri": "https://localhost:8080/"
        },
        "outputId": "e0d8cb5c-8089-4e01-a957-2a6911e8743a"
      },
      "source": [
        "a = np.array([[4,2],[1,1]])\n",
        "print(a)\n",
        "# Finding determinant\n",
        "# YOUR CODE HERE\n",
        "det = np.linalg.det(a)\n",
        "print(\"Determinant:\\n\",det)\n",
        "\n",
        "# Applying the condition\n",
        "# YOUR CODE HERE\n",
        "if det == 0:\n",
        "  print(\"Linearly Dependent\")\n",
        "else:\n",
        "  print(\"Linearly Independent\")"
      ],
      "execution_count": 28,
      "outputs": [
        {
          "output_type": "stream",
          "name": "stdout",
          "text": [
            "[[4 2]\n",
            " [1 1]]\n",
            "Determinant:\n",
            " 2.0\n",
            "Linearly Independent\n"
          ]
        }
      ]
    },
    {
      "cell_type": "markdown",
      "metadata": {
        "id": "NssNapM_Yukt"
      },
      "source": [
        "### Eigen Vectors and Values"
      ]
    },
    {
      "cell_type": "markdown",
      "metadata": {
        "id": "N6dvAuLeiYdp"
      },
      "source": [
        "Eigen values and vectors are specifically used to define the characterstics of a matrix which is a form of representing data. So, when we train a Machine Learning or Deep Learning model there are chances where unncessary data is punched for training. Thus, using eigen vectors and values we can reduce the training data by knowing its characterstics."
      ]
    },
    {
      "cell_type": "markdown",
      "metadata": {
        "id": "K6LLUsmojOZf"
      },
      "source": [
        "\n",
        "**Eigen Vector**: A non-zero vector that changes by a scalar factor when a linear transformation is applied is known as an eigenvector.\n",
        "\n",
        "**Eigen Values**: When a linear transformation is applied to an eigenvector, the eigenvector is scaled by a particular value which is called eigenvalue."
      ]
    },
    {
      "cell_type": "markdown",
      "metadata": {
        "id": "Pfe2HBrTdxG1"
      },
      "source": [
        "1. Create a matrix and find the eigen vectors and eigen values for it."
      ]
    },
    {
      "cell_type": "code",
      "metadata": {
        "id": "8PiuW7OKdwhV",
        "colab": {
          "base_uri": "https://localhost:8080/"
        },
        "outputId": "59414b1f-3a26-47ee-ce34-92a3c5519b09"
      },
      "source": [
        "# Create a matrix\n",
        "A = torch.tensor(A,dtype=torch.float)\n",
        "print(\"Array:\\n\",A)\n",
        "# Calculating eigen vectors and eigen values\n",
        "val,vec = torch.linalg.eig(A)\n",
        "print(\"Eigen Value:\\n\",val)\n",
        "print(\"Eigen Vector:\\n\",vec)"
      ],
      "execution_count": 30,
      "outputs": [
        {
          "output_type": "stream",
          "name": "stdout",
          "text": [
            "Array:\n",
            " tensor([[ 6.,  3.,  5.],\n",
            "        [ 2.,  1.,  7.],\n",
            "        [16.,  8., 40.]])\n",
            "Eigen Value:\n",
            " tensor([4.3705e+01+0.j, 3.2948e+00+0.j, 9.1396e-07+0.j])\n",
            "Eigen Vector:\n",
            " tensor([[-1.4263e-01+0.j, -9.0645e-01+0.j,  4.4721e-01+0.j],\n",
            "        [-1.6660e-01+0.j,  2.4944e-01+0.j, -8.9443e-01+0.j],\n",
            "        [-9.7565e-01+0.j,  3.4076e-01+0.j, -9.2339e-08+0.j]])\n"
          ]
        }
      ]
    },
    {
      "cell_type": "markdown",
      "metadata": {
        "id": "n5-OGw4QIOLU"
      },
      "source": [
        "2. Confirm that the vector for the below matrix is an eigen vector of the matrix.\n",
        "\n",
        "  Hint: Equate the multiplication of first eigen\n",
        "vector with multiplication of first eigen vector and first eigen value.\n",
        "\n",
        "\n",
        "\n",
        "\n"
      ]
    },
    {
      "cell_type": "code",
      "metadata": {
        "id": "O00vH_DkIgVK",
        "colab": {
          "base_uri": "https://localhost:8080/"
        },
        "outputId": "452f31f9-10f2-4f62-cbd5-8a875a085189"
      },
      "source": [
        "# Defining a matrix\n",
        "M = np.array([[3,2,7],[5,8,9],[9,3,7]])\n",
        "\n",
        "# Finding eigen vectors and values\n",
        "val,vec = torch.linalg.eig(torch.tensor(M,dtype=torch.float))\n",
        "\n",
        "# Finding first vector\n",
        "N = vec[:,0]\n",
        "print(\"First Vector:\\n\", N)\n",
        "\n",
        "# Finding second vector\n",
        "P = vec[:1]\n",
        "print(\"Second Vector:\\n\",P)"
      ],
      "execution_count": 33,
      "outputs": [
        {
          "output_type": "stream",
          "name": "stdout",
          "text": [
            "First Vector:\n",
            " tensor([-0.3767+0.j, -0.7443+0.j, -0.5514+0.j])\n",
            "Second Vector:\n",
            " tensor([[-0.3767+0.j, -0.6923+0.j,  0.2117+0.j]])\n"
          ]
        }
      ]
    },
    {
      "cell_type": "markdown",
      "metadata": {
        "id": "zuErvjJ3Weae"
      },
      "source": [
        "3. Create a matrix and try to reconstruct the original matrix using the eigen values and vectors.\n",
        "\n",
        " Steps to reconstruct the matrix using eigen values and vectors:\n",
        "\n",
        "  i).  Create inverse of eigen vector matrix\n",
        "\n",
        "  ii). Create diagonal matrix from eigen values\n",
        "\n",
        "  iii). Get the original matrix by dot product of eigen vector matrix, diagonal matrix, and inverse of eigen vector matrix.\n",
        "\n",
        "\n",
        "\n",
        "\n"
      ]
    },
    {
      "cell_type": "code",
      "metadata": {
        "id": "jrMSnUQmYe-c",
        "colab": {
          "base_uri": "https://localhost:8080/"
        },
        "outputId": "0cb5544a-2457-4b4a-d860-576e5a89ca37"
      },
      "source": [
        "# Defining matrix\n",
        "M = np.array([[6, 8, 5], [4, 7, 1], [9, 2, 6]])\n",
        "print(\"Initial Matrix:\\n\",M)\n",
        "val, vec = torch.linalg.eig(torch.tensor(M,dtype=torch.float))\n",
        "print(\"Eigen Values:\\n\",val)\n",
        "print(\"Eigen Vectors:\\n\",vec)\n",
        "\n",
        "# Create matrix from eigenvectors\n",
        "P = vec\n",
        "\n",
        "# Create inverse of eigenvectors matrix\n",
        "Q = torch.inverse(torch.tensor(P,dtype=torch.float))\n",
        "\n",
        "# Create diagonal matrix from eigenvalues\n",
        "R = torch.diag(val)\n",
        "\n",
        "# Convert complex tensors to real tensors\n",
        "P = P.real\n",
        "R = R.real\n",
        "Q = Q.real\n",
        "\n",
        "# Reconstruct the original matrix. Note: Here the dot product is not communtative\n",
        "N = torch.matmul(torch.matmul(P,R),Q)\n",
        "print(\"Final Matrix:\\n\",N)"
      ],
      "execution_count": 37,
      "outputs": [
        {
          "output_type": "stream",
          "name": "stdout",
          "text": [
            "Initial Matrix:\n",
            " [[6 8 5]\n",
            " [4 7 1]\n",
            " [9 2 6]]\n",
            "Eigen Values:\n",
            " tensor([15.7791+0.j, -1.9133+0.j,  5.1342+0.j])\n",
            "Eigen Vectors:\n",
            " tensor([[ 0.6447+0.j,  0.6712+0.j,  0.0370+0.j],\n",
            "        [ 0.3699+0.j, -0.2219+0.j, -0.5325+0.j],\n",
            "        [ 0.6690+0.j, -0.7073+0.j,  0.8456+0.j]])\n",
            "Final Matrix:\n",
            " tensor([[6.0000, 8.0000, 5.0000],\n",
            "        [4.0000, 7.0000, 1.0000],\n",
            "        [9.0000, 2.0000, 6.0000]])\n"
          ]
        }
      ]
    },
    {
      "cell_type": "markdown",
      "metadata": {
        "id": "0L6YTeFg96hT"
      },
      "source": [
        "### Rank of a Matrix\n"
      ]
    },
    {
      "cell_type": "markdown",
      "metadata": {
        "id": "nxQnd0Dg0nSQ"
      },
      "source": [
        "**Rank of a matrix**: - The rank of a matrix is defined as the maximum number of linearly independent column vectors in the matrix or the maximum number of linearly independent row vectors in the matrix.\n",
        "\n",
        "\n",
        "\n",
        "**Full Row Rank**:- If the rank of a matrix is equal to the number of row in the matrix, then matrix has a Full Row Rank.\n",
        "\n",
        "**Full Column Rank**:- If the rank of a matrix is equal to the number of columns in the matrix, then matrix has Full Column Rank.\n",
        "\n",
        "\n",
        "**Rank Deficient**:-When the rank of a matrix is less than the number of rows and columns in the matrix, then the matrix is Rank Deficient.\n",
        "\n",
        "**Uses**:-\n",
        "It is useful in understanding whether we have a chance of solving a system of linear equations or not. Further, if rank is equal to the number of variables we will be able to find a unique solution.\n"
      ]
    },
    {
      "cell_type": "markdown",
      "metadata": {
        "id": "8sE8FRRvKpDA"
      },
      "source": [
        "1. Create a random matrix and find the rank of it.\n",
        "\n",
        "    Refer to the following [link](https://numpy.org/doc/stable/reference/generated/numpy.linalg.matrix_rank.html) to find the rank of a matrix"
      ]
    },
    {
      "cell_type": "code",
      "metadata": {
        "id": "qunZ6tCwKpDD",
        "colab": {
          "base_uri": "https://localhost:8080/"
        },
        "outputId": "1eef8759-6f97-47e1-8b0f-50000241646b"
      },
      "source": [
        "# YOUR CODE HERE: To create a matrix\n",
        "mat = torch.randn(3,3)\n",
        "\n",
        "# YOUR CODE HERE: To find the rank of a matrix\n",
        "rank = torch.linalg.matrix_rank(mat)\n",
        "print(\"Rank:\\n\",rank)"
      ],
      "execution_count": 38,
      "outputs": [
        {
          "output_type": "stream",
          "name": "stdout",
          "text": [
            "Rank:\n",
            " tensor(3)\n"
          ]
        }
      ]
    },
    {
      "cell_type": "markdown",
      "metadata": {
        "id": "C5xe3R-RKwMg"
      },
      "source": [
        "### Singular Value Decomposition"
      ]
    },
    {
      "cell_type": "markdown",
      "metadata": {
        "id": "l6GEXa-3KwMi"
      },
      "source": [
        "The Singular-Value Decomposition, or SVD is a matrix decomposition method for reducing a matrix to its constituent parts in order to make certain subsequent matrix calculations simpler. The singular value decomposition (SVD) provides another way to factorize a matrix, into singular vectors and singular values. The SVD allows us to discover some of the same kind of information as the eigendecomposition.\n",
        "\n",
        "Steps to follow for Singular Value Decomposition\n",
        "\n",
        "  A. Factorize a matrix using SVD\n",
        "\n",
        "  B. Reconstruct the original matrix"
      ]
    },
    {
      "cell_type": "markdown",
      "source": [
        "**A. Matrix Factorization:**\n",
        "\n",
        "In simple terms, SVD is the factorization of a matrix into 3 matrices. So if we have a matrix A, then its SVD is represented by:\n",
        "<center>\n",
        "$A = U ∑ V^{T}$\n",
        "</center>\n",
        "\n",
        "Where A is an $m$ x $n$ matrix,  \n",
        "\n",
        "*   $U$ is an $m$ x $m$ orthogonal matrix\n",
        "*   $∑$ is an $m$ x $n$ diagonal matrix with non-negative real numbers.\n",
        "*   $V$ is an $n$ x $n$ orthogonal matrix.\n",
        "\n",
        "\n",
        "$U$ is also referred to as the left singular vectors, $∑$ the singular values, and $V$ the right singular vectors.\n",
        "\n",
        "**B. Reconstruct the original matrix from SVD:**\n",
        "\n",
        "The original matrix can be reconstructed from the $U$, Sigma, and $V^{T}$ elements.\n",
        "\n"
      ],
      "metadata": {
        "id": "gh2_Kkmfqz9C"
      }
    },
    {
      "cell_type": "markdown",
      "metadata": {
        "id": "l4Wv5rDZbZ0_"
      },
      "source": [
        "1. Create an array of $2$ x $3$ matrix and apply singular value decompostition on it.\n",
        "\n",
        "\n",
        "\n",
        "\n",
        "> The SVD can be calculated by calling the `svd()` function from `numpy.linalg`.\n",
        "\n",
        "> The function takes a matrix and returns the $U$, Sigma and $V^{T}$ elements. The Sigma diagonal matrix is returned as a vector of singular values. The $V$ matrix is returned in a transposed form, e.g. $V^{T}$.\n",
        "\n",
        "\n",
        "\n",
        "\n",
        "\n",
        "\n",
        "\n",
        "\n",
        "\n"
      ]
    },
    {
      "cell_type": "code",
      "metadata": {
        "id": "gQ0Mjp07KwND",
        "colab": {
          "base_uri": "https://localhost:8080/"
        },
        "outputId": "8fd3f305-9334-49b9-b12e-a63195283873"
      },
      "source": [
        "# YOUR CODE HERE: Define a matrix\n",
        "M = torch.randn(2,3)\n",
        "print(\"Matrix:\\n\",M)\n",
        "# YOUR CODE HERE: To apply ingular Value Decomposition on the matrix\n",
        "U,S,V = torch.linalg.svd(M)\n",
        "print(\"U:\\n\",U)\n",
        "print(\"S:\\n\",S)\n",
        "print(\"V:\\n\",V)\n",
        "# YOUR CODE HERE: Create m x n matrix called sigma\n",
        "sigma = S\n",
        "# YOUR CODE HERE: Populate sigma with n x n diagonal matrix\n",
        "sigma = torch.zeros(2,3)\n",
        "sigma[:2,:2] = torch.diag(S)\n",
        "print(sigma)\n",
        "# YOUR CODE HERE: To Reconstruct the original matrix\n",
        "B = torch.matmul(torch.matmul(U,sigma),V)\n",
        "print(\"Reconstruct Matrix:\\n\",B)"
      ],
      "execution_count": 45,
      "outputs": [
        {
          "output_type": "stream",
          "name": "stdout",
          "text": [
            "Matrix:\n",
            " tensor([[ 1.7785,  0.0403, -0.0139],\n",
            "        [ 1.1497,  0.6674, -0.3347]])\n",
            "U:\n",
            " tensor([[ 0.8049, -0.5934],\n",
            "        [ 0.5934,  0.8049]])\n",
            "S:\n",
            " tensor([2.1669, 0.5904])\n",
            "V:\n",
            " tensor([[ 0.9755,  0.1977, -0.0968],\n",
            "        [-0.2201,  0.8694, -0.4423],\n",
            "        [-0.0033,  0.4528,  0.8916]])\n",
            "tensor([[2.1669, 0.0000, 0.0000],\n",
            "        [0.0000, 0.5904, 0.0000]])\n",
            "Reconstruct Matrix:\n",
            " tensor([[ 1.7785,  0.0403, -0.0139],\n",
            "        [ 1.1497,  0.6674, -0.3347]])\n"
          ]
        }
      ]
    },
    {
      "cell_type": "markdown",
      "metadata": {
        "id": "ifAcBflhWt6X"
      },
      "source": [
        "### Matrix and Vector Norms"
      ]
    },
    {
      "cell_type": "markdown",
      "metadata": {
        "id": "12caBznEWwx9"
      },
      "source": [
        "**Matrix Norm**: The norm of a matrix is a measure of how large its elements are. It is a way of determining the “size” of a matrix that is not necessarily related to how many rows or columns the matrix has.\n",
        "\n",
        "The norm of a square matrix A is a non-negative real number denoted $\\left \\| A \\right \\|$. There are several\n",
        "different ways of defining a matrix norm, but they all share the following properties:\n",
        "1. $\\left \\| A \\right \\|$ ≥ 0 for any square matrix A.\n",
        "2. $\\left \\| A \\right \\|$ = 0 if and only if the matrix A = 0.\n",
        "3. $\\left \\| kA \\right \\|$ = |k| $\\left \\| A \\right \\|$, for any scalar k.\n",
        "4. $\\left \\| A+B \\right \\|$ ≤ $\\left \\| A \\right \\|$ + $\\left \\| B \\right \\|$.\n",
        "5. $\\left \\| AB \\right \\|$ ≤ $\\left \\| A \\right \\|$ $\\left \\| B \\right \\|$.\n",
        "\n",
        "Below is the formula to calculate 1 norm of a matrix:\n",
        "\n",
        "$\\left \\| A \\right \\|_{1} = \\max_{1≤j≤n} (\\sum_{i}^{n} \\left | a_{ij} \\right |)$\n",
        "\n",
        "By using this formula we compute the sum of absolute values down each column\n",
        "and then take the largest number.\n",
        "\n"
      ]
    },
    {
      "cell_type": "markdown",
      "metadata": {
        "id": "7owrRbT4N1nW"
      },
      "source": [
        "1. Calculate the 1-norm of a matrix $A =\\begin{pmatrix}\n",
        "    5 & -4 & 2\\\\\n",
        "    -1 & 2 & 3\\\\\n",
        "    -2 & 1 & 0\\\\\n",
        "   \\end{pmatrix}$.\n",
        "\n",
        "   Refer to the following [link ](https://numpy.org/doc/stable/reference/generated/numpy.linalg.norm.html) to understand norm function in numpy's linalg module\n"
      ]
    },
    {
      "cell_type": "code",
      "metadata": {
        "id": "zZRixut5W1UR",
        "colab": {
          "base_uri": "https://localhost:8080/"
        },
        "outputId": "34c6d8af-5d09-4b8a-fbd5-abea882fc883"
      },
      "source": [
        "# Creating a matrix\n",
        "# YOUR CODE HERE\n",
        "A = torch.tensor([[5,-4,2],[-1,2,3],[-2,1,0]],dtype=torch.float)\n",
        "\n",
        "# 1-Norm of a matrix\n",
        "# The 1-Norm of a matrix is the maximum of the sum of each column\n",
        "# Pass the matrix to the norm function and specify the order\n",
        "# YOUR CODE HERE\n",
        "norm = torch.linalg.norm(A,1)\n",
        "print(\"1-Norm:\\n\",norm)"
      ],
      "execution_count": 46,
      "outputs": [
        {
          "output_type": "stream",
          "name": "stdout",
          "text": [
            "1-Norm:\n",
            " tensor(8.)\n"
          ]
        }
      ]
    },
    {
      "cell_type": "markdown",
      "metadata": {
        "id": "2BG2YUhje5ML"
      },
      "source": [
        "**Vector Norm**: The norm of a vector in vector space is a real non-negative value representing intuitively the length, size, or magnitude of the vector.\n",
        "\n",
        "The most commonly used vector norms belong to the family of $p$-norms, or $l_{p}$-norms, which\n",
        "are defined by:\n",
        "<center>\n",
        "$\\left \\| x \\right \\|_{p} = (\\sum_{i = 1}^{n} |x_{i}|^{p}) ^ {1/p}$\n",
        "</center>\n",
        "\n",
        "It can be shown that for any $p > 0$,  $∥ ⋅ ∥_{p}$ defines a vector norm. The following $p$-norms are of\n",
        "particular interest:\n",
        "\n",
        "\n",
        "*   $p = 1$: The $l_{1}$-norm\n",
        "<center>\n",
        "$∥ x ∥_{1} =  |x_{1}| +  |x_{2}| +....+ |x_{n}| $\n",
        "</center>\n",
        "\n",
        "*   $p = 2$: The $l_{2}$-norm or Euclidean norm\n",
        "<center>\n",
        "$\\left \\| x \\right \\|_{2}= \\sqrt{x_{1}^{2}+x_{2}^{2}+...+x_{n}^{2}}$\n",
        "</center>\n",
        "\n",
        "* $p = ∞$: The $l_{∞}$-norm\n",
        "<center>\n",
        "$\\left \\| x \\right \\|_{∞}= \\max_{1\\leq i \\leq n} |x_{i}|$.\n",
        "</center>\n"
      ]
    },
    {
      "cell_type": "markdown",
      "metadata": {
        "id": "x-AMuRwJY8NY"
      },
      "source": [
        "1. Compute the norm of a given vector $A = [5,12]$."
      ]
    },
    {
      "cell_type": "code",
      "metadata": {
        "id": "LOb6OM5_Y9JY",
        "colab": {
          "base_uri": "https://localhost:8080/"
        },
        "outputId": "ab98f396-0811-4a95-8e69-39bebf1c4ddf"
      },
      "source": [
        "# Creating a matrix\n",
        "# YOUR CODE HERE\n",
        "A = torch.tensor([5,12],dtype=torch.float)\n",
        "\n",
        "# L2-Norm of a vector\n",
        "# YOUR CODE HERE\n",
        "norm = torch.linalg.norm(A,2)\n",
        "print(\"L2-Norm:\\n\",norm)"
      ],
      "execution_count": 47,
      "outputs": [
        {
          "output_type": "stream",
          "name": "stdout",
          "text": [
            "L2-Norm:\n",
            " tensor(13.)\n"
          ]
        }
      ]
    },
    {
      "cell_type": "markdown",
      "metadata": {
        "id": "ufOQtLlEm0Ai"
      },
      "source": [
        "### Matrix Calculus\n",
        "\n"
      ]
    },
    {
      "cell_type": "markdown",
      "metadata": {
        "id": "5hqlLxHdyL8Q"
      },
      "source": [
        "### 1. Dervatives w.r.t. Scalar"
      ]
    },
    {
      "cell_type": "markdown",
      "metadata": {
        "id": "-PjTs_X1nEUK"
      },
      "source": [
        "#### Scalar w.r.t Scalar\n",
        "\n",
        "\n",
        "\n"
      ]
    },
    {
      "cell_type": "markdown",
      "metadata": {
        "id": "Yz4DE0pFeHCd"
      },
      "source": [
        "1. Differentiate the below given scalar function $f(x)$ w.r.t. to a scalar $x$.\n",
        "\n",
        "  $ f(x) = \\cos x + \\sin x + x^2 $"
      ]
    },
    {
      "cell_type": "code",
      "metadata": {
        "id": "2zzf-9PNlVu_",
        "colab": {
          "base_uri": "https://localhost:8080/"
        },
        "outputId": "324584b4-9a56-47cc-8da6-47e32afc4077"
      },
      "source": [
        "# Declaring symbols that can be used as variables in the function\n",
        "# YOUR CODE HERE\n",
        "import sympy as sym\n",
        "x = sym.Symbol('x')\n",
        "\n",
        "# Defining a function 'f'\n",
        "# YOUR CODE HERE\n",
        "f = sym.cos(x) + sym.sin(x) + x**2\n",
        "\n",
        "# Derivative of the scalar function w.r.t. a scalar x using the 'diff' function of Sympy\n",
        "# YOUR CODE HERE\n",
        "df = sym.diff(f,x)\n",
        "print(\"Derivative:\\n\",df)"
      ],
      "execution_count": 51,
      "outputs": [
        {
          "output_type": "stream",
          "name": "stdout",
          "text": [
            "Derivative:\n",
            " 2*x - sin(x) + cos(x)\n"
          ]
        }
      ]
    },
    {
      "cell_type": "markdown",
      "metadata": {
        "id": "55g8OVbanL3N"
      },
      "source": [
        "#### Vector w.r.t. Scalar"
      ]
    },
    {
      "cell_type": "markdown",
      "metadata": {
        "id": "vYgGRTb8lXko"
      },
      "source": [
        "2. Differentiate the given vector $\\vec{y}^{\\,} = \\begin{pmatrix}\n",
        "    x^2 + 2x \\\\\n",
        "    sinx \\\\\n",
        "    cosx \\\\\n",
        "   \\end{pmatrix}$ w.r.t. a scalar $x$.\n",
        "\n",
        "  Note: `Vector` is a special case of `Matrix`\n",
        "\n",
        "\n"
      ]
    },
    {
      "cell_type": "code",
      "metadata": {
        "id": "nUookz0w9Dcl",
        "colab": {
          "base_uri": "https://localhost:8080/"
        },
        "outputId": "8603a23a-161c-4c31-bbce-68934a3f7821"
      },
      "source": [
        "# YOUR CODE HERE\n",
        "y = sym.Matrix([x**2 + 2*x, sym.sin(x), sym.cos(x)])\n",
        "dy = y.diff(x)\n",
        "print(\"Derivative:\\n\",dy)"
      ],
      "execution_count": 54,
      "outputs": [
        {
          "output_type": "stream",
          "name": "stdout",
          "text": [
            "Derivative:\n",
            " Matrix([[2*x + 2], [cos(x)], [-sin(x)]])\n"
          ]
        }
      ]
    },
    {
      "cell_type": "markdown",
      "metadata": {
        "id": "eaayllM0nWJC"
      },
      "source": [
        "#### Matrix w.r.t. Scalar"
      ]
    },
    {
      "cell_type": "markdown",
      "metadata": {
        "id": "azXztOk_t-yv"
      },
      "source": [
        "3. Find the derivative of the matrix $M = \\begin{pmatrix}\n",
        "    x^2 + 2x & cos(x)\\\\\n",
        "    sin(x) & x^3+2x\\\\\n",
        "   \\end{pmatrix}$ w.r.t. a scalar $x$.\n",
        "\n",
        "\n"
      ]
    },
    {
      "cell_type": "code",
      "metadata": {
        "id": "9rkw6hfeyBNX",
        "colab": {
          "base_uri": "https://localhost:8080/"
        },
        "outputId": "350b48de-ec8b-4e90-be4f-578de363ad01"
      },
      "source": [
        "# YOUR CODE HERE\n",
        "M = sym.Matrix([[x**2 + 2*x, sym.cos(x)],[sym.sin(x), x**3 + 2*x]])\n",
        "dM = M.diff(x)\n",
        "print(\"Derivative:\\n\",dM)"
      ],
      "execution_count": 55,
      "outputs": [
        {
          "output_type": "stream",
          "name": "stdout",
          "text": [
            "Derivative:\n",
            " Matrix([[2*x + 2, -sin(x)], [cos(x), 3*x**2 + 2]])\n"
          ]
        }
      ]
    },
    {
      "cell_type": "markdown",
      "metadata": {
        "id": "8eIkLrJQx-ei"
      },
      "source": [
        "Before moving ahead with more questions on derivatives w.r.t. vectors and matrices, you should have knowledge of \"Partial Derivatives\", \"Jacobian Matrix\" and \"Numerator Layout Notation\"."
      ]
    },
    {
      "cell_type": "markdown",
      "metadata": {
        "id": "n47lC4rO1QEd"
      },
      "source": [
        "### Partial Derivatives"
      ]
    },
    {
      "cell_type": "markdown",
      "metadata": {
        "id": "historical-optics"
      },
      "source": [
        "Let us consider a function $f(x,y) = x^2 + y^2$ we can take a derivative of the changes in the function with respect to either x or y. We call these derivatives with respect to one variable partial derivatives. Let's give this a try by taking the derivative of $f(x,y)$ with respect to x. We write this partial derivative as follows.\n",
        "\n",
        "$$\\frac{\\partial f(x,y)}{\\partial x} = \\frac{\\partial (x^2 + y^2)}{\\partial x}$$\n",
        "\n",
        "Since $f(x,y)$ is the sum of several simpler functions we need to take the partial derivative of each of these and sum the result. The first two parts are easy. $\\frac{\\partial x^2}{\\partial x} = 2x$. Notice that we are following the usual rules of differentiation for any function of x here.\n",
        "\n",
        "Now we need to take the partial derivative of the last part of $f(x,y)$, which does not depend on x at all. In these case we get the following $\\frac{\\partial y^2}{\\partial x} = 0$.\n",
        "Now we can add up the parts to get the complete partial derivative of $f(x,y)$.\n",
        "\n",
        "$$\\frac{\\partial f(x,y)}{\\partial x} = 2x + 0 = 2x$$\n",
        "We can also take the partial derivative of $f(x,y)$ with respect to y. The process proceeds in the following manner $\\frac{\\partial f(x,y)}{\\partial y} = 0 + 2y = 2y$"
      ]
    },
    {
      "cell_type": "markdown",
      "metadata": {
        "id": "accredited-jewel"
      },
      "source": [
        "### Jacobian Matrix"
      ]
    },
    {
      "cell_type": "markdown",
      "metadata": {
        "id": "adequate-retail"
      },
      "source": [
        "To test for functional dependence (both linear and non linear equations) between different equations we use Jacobian determinant shown by |j|. The Jacobian matrix is the first order derivatives of a vector valued function. Vector valued functions are defined as $f: \\mathbb{R}^n \\to \\mathbb{R}^m$.\n",
        "\n",
        "Given $x \\in \\mathbb{R}^n$ and $f_j : \\mathbb{R}^n \\to \\mathbb{R}$ we have\n",
        "\n",
        "$$f(x) = \\begin{bmatrix}\n",
        "    f_1(x) \\\\\n",
        "    f_2(x) \\\\\n",
        "    \\vdots \\\\\n",
        "    f_m(x)\n",
        "\\end{bmatrix}$$\n",
        "\n",
        " We could then define the jaccobian  as\n",
        "\n",
        " $$J(x) = \\begin{bmatrix}\n",
        "    \\frac{\\partial f_1}{\\partial x_1} & \\frac{\\partial f_1}{\\partial x_2}  & \\dots  & \\frac{\\partial f_1}{\\partial x_n} \\\\\n",
        "    \\frac{\\partial f_2}{\\partial x_1} & \\frac{\\partial f_2}{\\partial x_2}  & \\dots  & \\frac{\\partial f_2}{\\partial x_n}  \\\\\n",
        "    \\vdots & \\vdots & \\ddots & \\vdots \\\\\n",
        "    \\frac{\\partial f_m}{\\partial x_1} & \\frac{\\partial f_m}{\\partial x_2}  & \\dots  & \\frac{\\partial f_m}{\\partial x_n}\n",
        "\\end{bmatrix} $$\n",
        "\n",
        "Hence each row represents the derivative of a real valued function with input vectors. Note that using shape convention we must reshape that to have the same output as the vector input.\n",
        "\n",
        "Let's find the derviate of function $f(x, y) = x + sin(y) $ with respect to x and y"
      ]
    },
    {
      "cell_type": "code",
      "metadata": {
        "id": "micro-gazette",
        "colab": {
          "base_uri": "https://localhost:8080/"
        },
        "outputId": "5ffe138f-e093-4001-c133-409bd0290b98"
      },
      "source": [
        "# Defining x and y as symbols\n",
        "# YOUR CODE HERE\n",
        "x, y = sym.symbols('x y')\n",
        "\n",
        "# Defining the function f(x, y)\n",
        "# YOUR CODE HERE\n",
        "f = x + sym.sin(y)\n",
        "print(f)"
      ],
      "execution_count": 57,
      "outputs": [
        {
          "output_type": "stream",
          "name": "stdout",
          "text": [
            "x + sin(y)\n"
          ]
        }
      ]
    },
    {
      "cell_type": "code",
      "metadata": {
        "id": "protective-bosnia",
        "colab": {
          "base_uri": "https://localhost:8080/"
        },
        "outputId": "ff6c4bef-e991-42a6-c84f-c980d6e9fa05"
      },
      "source": [
        "# Derivate w.r.t to 'x'\n",
        "# YOUR CODE HERE\n",
        "df_dx = sym.diff(f,x)\n",
        "print(\"Derivative w.r.t x:\\n\",df_dx)\n",
        "\n",
        "# Derivate w.r.t to 'y'\n",
        "# YOUR CODE HERE\n",
        "df_dy = sym.diff(f,y)\n",
        "print(\"Derivative w.r.t y:\\n\",df_dy)"
      ],
      "execution_count": 58,
      "outputs": [
        {
          "output_type": "stream",
          "name": "stdout",
          "text": [
            "Derivative w.r.t x:\n",
            " 1\n",
            "Derivative w.r.t y:\n",
            " cos(y)\n"
          ]
        }
      ]
    },
    {
      "cell_type": "markdown",
      "metadata": {
        "id": "liberal-shower"
      },
      "source": [
        "If we organize these partials into a horizontal vector, we get the gradient of $f(x, y)$, or $\\Delta f(x, y)$ :\n",
        "\n",
        "$ \\Delta f(x,y)  = [\\frac{\\partial f(x,y)}{\\partial x}, \\frac{\\partial f(x,y)}{\\partial y}] = [1, cos(y)] $"
      ]
    },
    {
      "cell_type": "code",
      "metadata": {
        "id": "meaning-puzzle",
        "colab": {
          "base_uri": "https://localhost:8080/"
        },
        "outputId": "30d14aeb-86fe-4ef3-e08f-07f4d315b3b2"
      },
      "source": [
        "# YOUR CODE HERE\n",
        "vec_par_df = sym.Matrix([df_dx,df_dy])\n",
        "print(\"Gradient of f(x,y):\\n\",vec_par_df)"
      ],
      "execution_count": 61,
      "outputs": [
        {
          "output_type": "stream",
          "name": "stdout",
          "text": [
            "Gradient of f(x,y):\n",
            " Matrix([[1], [cos(y)]])\n"
          ]
        }
      ]
    },
    {
      "cell_type": "markdown",
      "metadata": {
        "id": "fatty-courage"
      },
      "source": [
        "Now let's find the derviate of function $g(x, y) = sin(x) + y $ with respect to x and y"
      ]
    },
    {
      "cell_type": "code",
      "metadata": {
        "id": "noble-removal",
        "colab": {
          "base_uri": "https://localhost:8080/"
        },
        "outputId": "4a445bb5-e04d-41ce-ea82-dde04fdd65ff"
      },
      "source": [
        "# Defining the function g(x, y)\n",
        "# YOUR CODE HERE\n",
        "g = sym.sin(x) + y\n",
        "print(g)"
      ],
      "execution_count": 62,
      "outputs": [
        {
          "output_type": "stream",
          "name": "stdout",
          "text": [
            "y + sin(x)\n"
          ]
        }
      ]
    },
    {
      "cell_type": "code",
      "metadata": {
        "id": "shaped-integrity",
        "colab": {
          "base_uri": "https://localhost:8080/"
        },
        "outputId": "7e6636a6-99ea-4d94-cc37-8b2c7762fe80"
      },
      "source": [
        "# Derivate w.r.t to 'x'\n",
        "# YOUR CODE HERE\n",
        "df_dx = sym.diff(g,x)\n",
        "print(\"Derivative w.r.t x:\\n\",df_dx)\n",
        "\n",
        "# Derivate w.r.t to 'y'\n",
        "# YOUR CODE HERE\n",
        "df_dy = sym.diff(g,y)\n",
        "print(\"Derivative w.r.t y:\\n\",df_dy)"
      ],
      "execution_count": 63,
      "outputs": [
        {
          "output_type": "stream",
          "name": "stdout",
          "text": [
            "Derivative w.r.t x:\n",
            " cos(x)\n",
            "Derivative w.r.t y:\n",
            " 1\n"
          ]
        }
      ]
    },
    {
      "cell_type": "markdown",
      "metadata": {
        "id": "knowing-engineering"
      },
      "source": [
        "If we organize these partials into a horizontal vector, we get the gradient of $g(x, y)$, or  $Δg(x,y)$:\n",
        "\n",
        "$ \\Delta g(x,y)  = [\\frac{\\partial g(x,y)}{\\partial x}, \\frac{\\partial g(x,y)}{\\partial y}] = [cos(x), 1] $"
      ]
    },
    {
      "cell_type": "code",
      "metadata": {
        "id": "framed-auckland",
        "colab": {
          "base_uri": "https://localhost:8080/"
        },
        "outputId": "6a0b7078-1118-44a4-b1d4-543e2a94b5d0"
      },
      "source": [
        "# YOUR CODE HERE\n",
        "vec_par_dg = sym.Matrix([df_dx,df_dy])\n",
        "print(\"Gradient of g(x,y):\\n\",vec_par_dg)"
      ],
      "execution_count": 64,
      "outputs": [
        {
          "output_type": "stream",
          "name": "stdout",
          "text": [
            "Gradient of g(x,y):\n",
            " Matrix([[cos(x)], [1]])\n"
          ]
        }
      ]
    },
    {
      "cell_type": "markdown",
      "metadata": {
        "id": "8TlGPqtfPslZ"
      },
      "source": [
        "If we organize the gradients of $f(x, y)$ and $g(x, y)$ into a single matrix, we move from vector calculus into matrix calculus. This matrix, and organization of the gradients of multiple functions with multiple variables, is known as the Jacobian matrix.\n",
        "\n",
        "$ J = \\begin{bmatrix}\n",
        "\\Delta f(x,y) \\\\\n",
        "\\Delta g(x,y) \\end{bmatrix} =\\begin{bmatrix}\n",
        "\\frac{\\partial f(x, y)}{\\partial x} & \\frac{\\partial f(x, y)}{\\partial y}\\\\\n",
        "\\frac{\\partial g(x, y)}{\\partial x} & \\frac{\\partial g(x, y)}{\\partial y}\n",
        "\\end{bmatrix} = \\begin{bmatrix}\n",
        "1 & cos(y) \\\\\n",
        "cos(x) & 1\n",
        "\\end{bmatrix} $\n",
        "\n",
        "To know more about the Jacobian Matrix read [here](https://towardsdatascience.com/step-by-step-the-math-behind-neural-networks-d002440227fb)"
      ]
    },
    {
      "cell_type": "code",
      "metadata": {
        "id": "olive-basics",
        "colab": {
          "base_uri": "https://localhost:8080/"
        },
        "outputId": "d92078b1-e909-4c13-d87b-d28693a86b28"
      },
      "source": [
        "# YOUR CODE HERE\n",
        "J = sym.Matrix([vec_par_df,vec_par_dg])\n",
        "print(\"Jacobian Matrix:\\n\",J)"
      ],
      "execution_count": 65,
      "outputs": [
        {
          "output_type": "stream",
          "name": "stdout",
          "text": [
            "Jacobian Matrix:\n",
            " Matrix([[1], [cos(y)], [cos(x)], [1]])\n"
          ]
        }
      ]
    },
    {
      "cell_type": "markdown",
      "metadata": {
        "id": "co-G035UYana"
      },
      "source": [
        "### Numerator Layout Notation:\n",
        "\n",
        "This approach is used when we have to find the derivative w.r.t. a vector. Using Numerator Layout Notation, we find the partial derivative of a scalar, matrix, or a vector w.r.t. each element of the vector.\n",
        "<br>Suppose, there is a vector $\\vec{x}^{\\,}$ = ($x_{1}$, $x_{2}$, $x_{3}$,.... $x_{n}$) w.r.t. which we have to find the derivative of a scalar function or a matrix.\n",
        "<br>For this, we will take the partial derivative of the scalar function or a matrix w.r.t. each element of the vector as shown below:\n",
        "\n",
        "$\\frac{\\partial}{\\partial_x}$ = $\\left (\\frac{\\partial}{\\partial_(x_{1})}, \\frac{\\partial}{\\partial_(x_{2})}, \\frac{\\partial}{\\partial_(x_{3})}  \\right )$\n"
      ]
    },
    {
      "cell_type": "markdown",
      "metadata": {
        "id": "TfYClyOtySLc"
      },
      "source": [
        "### 2. Dervatives w.r.t. Vector"
      ]
    },
    {
      "cell_type": "markdown",
      "metadata": {
        "id": "NTim7j2VnIrA"
      },
      "source": [
        "#### Scalar by Vector"
      ]
    },
    {
      "cell_type": "markdown",
      "metadata": {
        "id": "8fju3uJzzGmc"
      },
      "source": [
        "1. Given a scalar function $y = \\tan(x^2+yz)$. Find the derivative of $y$ w.r.t. the below vector:\n",
        "\n",
        "  $\\vec{v}^{\\,}(x,y,z)$ = $xyz$\n",
        "\n",
        "  Hint: Apply numerator layout notation where we take derivative of the function w.r.t. every element of the vector.\n",
        "\n"
      ]
    },
    {
      "cell_type": "code",
      "metadata": {
        "id": "05nU8gCjzH7j"
      },
      "source": [
        "# Defining symbols that will be used as variables in the function\n",
        "# YOUR CODE HERE\n",
        "x, y, z = sym.symbols('x y z')\n",
        "# Defining a scalar function using the symbols x, y and z\n",
        "# YOUR CODE HERE\n",
        "y1 = sym.tan(x**2 + y*z)\n",
        "v = sym.Matrix([x,y,z])"
      ],
      "execution_count": 72,
      "outputs": []
    },
    {
      "cell_type": "markdown",
      "metadata": {
        "id": "0Whu-882ghj4"
      },
      "source": [
        "Differentiating the scalar function w.r.t. each element of the vector i.e. x, y, and z"
      ]
    },
    {
      "cell_type": "code",
      "metadata": {
        "id": "JBAyVaK6ghGE",
        "colab": {
          "base_uri": "https://localhost:8080/"
        },
        "outputId": "a42dfe47-27b0-46ba-9020-3e88d896047d"
      },
      "source": [
        "# YOUR CODE HERE\n",
        "dy1_dv = y1.diff(v)\n",
        "print(\"Derivative:\\n\",dy1_dv)"
      ],
      "execution_count": 78,
      "outputs": [
        {
          "output_type": "stream",
          "name": "stdout",
          "text": [
            "Derivative:\n",
            " Matrix([[2*x*(tan(x**2 + y*z)**2 + 1)], [z*(tan(x**2 + y*z)**2 + 1)], [y*(tan(x**2 + y*z)**2 + 1)]])\n"
          ]
        }
      ]
    },
    {
      "cell_type": "markdown",
      "metadata": {
        "id": "XyZVHDPunhhQ"
      },
      "source": [
        "#### Matrix by Vector"
      ]
    },
    {
      "cell_type": "markdown",
      "metadata": {
        "id": "ffY9qWFIzJEY"
      },
      "source": [
        "2. Find the derivative of the below matrix $M$ w.r.t. vector $\\vec{v}^{\\,}$ = $ xyz$:\n",
        "\n",
        "\\begin{pmatrix}\n",
        "    x+x^2z & cosx\\\\\n",
        "    xyz & 3y+x^2\\\\\n",
        "   \\end{pmatrix}\n",
        "\n"
      ]
    },
    {
      "cell_type": "code",
      "metadata": {
        "id": "iCFXzLKrzJ-d",
        "colab": {
          "base_uri": "https://localhost:8080/"
        },
        "outputId": "f8b34ff6-ab0f-4c79-cab0-b8260bb9f04c"
      },
      "source": [
        "# Defining the matrix M\n",
        "# YOUR CODE HERE\n",
        "M = sym.Matrix([[x + x**2*z, sym.cos(x)],[x*y*z, 3*y + x**2]])\n",
        "\n",
        "# Differentiating matrix 'M' w.r.t. each element of the vector v that are x, y, z\n",
        "# YOUR CODE HERE\n",
        "dM_dv = M.diff(v)\n",
        "print(\"Derivative:\\n\",dM_dv)\n",
        "\n",
        "# Result -> Organizing the result of partial derivatives into a single matrix\n",
        "# YOUR CODE HERE\n",
        "final_par_df = [dM_dv[0], dM_dv[1], dM_dv[2]]\n",
        "print(\"Final Derivative:\\n\",final_par_df)"
      ],
      "execution_count": 84,
      "outputs": [
        {
          "output_type": "stream",
          "name": "stdout",
          "text": [
            "Derivative:\n",
            " [[[[2*x*z + 1, -sin(x)], [y*z, 2*x]]], [[[0, 0], [x*z, 3]]], [[[x**2, 0], [x*y, 0]]]]\n",
            "Final Derivative:\n",
            " [[[[2*x*z + 1, -sin(x)], [y*z, 2*x]]], [[[0, 0], [x*z, 3]]], [[[x**2, 0], [x*y, 0]]]]\n"
          ]
        }
      ]
    },
    {
      "cell_type": "markdown",
      "metadata": {
        "id": "jAih-GWknPiE"
      },
      "source": [
        "#### Vector by Vector"
      ]
    },
    {
      "cell_type": "markdown",
      "metadata": {
        "id": "5CYv3FVszLHq"
      },
      "source": [
        "3. Find the derivative of vector $\\vec{v}^{\\,}$ = $\\begin{pmatrix}\n",
        "   cosx+x\\\\\n",
        "    x^2+y^2\\\\\n",
        "    3x^3-z^2y\\\\\n",
        "   \\end{pmatrix}$ w.r.t. a vector $\\vec{k}^{\\,}$ = $xyz$"
      ]
    },
    {
      "cell_type": "code",
      "metadata": {
        "id": "5ArxdoYzLwtR",
        "colab": {
          "base_uri": "https://localhost:8080/"
        },
        "outputId": "92efaf9b-755f-4c8b-ec33-45fd90cfb625"
      },
      "source": [
        "# Defining the vector v\n",
        "# YOUR CODE HERE\n",
        "v = sym.Matrix([sym.cos(x) + x, x**2 + y**2, 3*x**3 - z**2*y])\n",
        "k = sym.Matrix([x,y,z])\n",
        "\n",
        "# Vector k = xyz indicates that we have to differentiate vector 'v' w.r.t. x, y, and z\n",
        "# YOUR CODE HERE\n",
        "dv_dk = v.diff(k)\n",
        "print(\"Derivative:\\n\",dv_dk)\n",
        "\n",
        "# Result -> Organizing the result of partial derivatives into a single matrix\n",
        "# YOUR CODE HERE\n",
        "final_par_dv = [dv_dk[0], dv_dk[1], dv_dk[2]]\n",
        "print(\"Final Derivative:\\n\",final_par_dv)"
      ],
      "execution_count": 87,
      "outputs": [
        {
          "output_type": "stream",
          "name": "stdout",
          "text": [
            "Derivative:\n",
            " [[[[1 - sin(x)], [2*x], [9*x**2]]], [[[0], [2*y], [-z**2]]], [[[0], [0], [-2*y*z]]]]\n",
            "Final Derivative:\n",
            " [[[[1 - sin(x)], [2*x], [9*x**2]]], [[[0], [2*y], [-z**2]]], [[[0], [0], [-2*y*z]]]]\n"
          ]
        }
      ]
    },
    {
      "cell_type": "markdown",
      "metadata": {
        "id": "0JZ2Kts5yXE7"
      },
      "source": [
        "### 3. Dervatives w.r.t. Matrix"
      ]
    },
    {
      "cell_type": "markdown",
      "metadata": {
        "id": "2J4TdZv5nTx2"
      },
      "source": [
        "#### Scalar by Matrix\n",
        "To find the derivative of a scalar w.r.t. a matrix, we have to find the derivative of the scalar function w.r.t. every element of the matrix to get the final result.\n",
        "<br> Further, let us understand with th help of a question."
      ]
    },
    {
      "cell_type": "markdown",
      "metadata": {
        "id": "f2ZFps1MzOjc"
      },
      "source": [
        "1. Find the derivative of a scalar $y = (sinx_{1}+2x_{2}+x_{3}^2+7x_{4})$ w.r.t. a matrix $M = \\begin{pmatrix}\n",
        "   x_{1} & x_{2}\\\\\n",
        "    x_{3} & x_{4}\\\\\n",
        "   \\end{pmatrix}$."
      ]
    },
    {
      "cell_type": "code",
      "metadata": {
        "id": "meVwc7hJzPdy",
        "colab": {
          "base_uri": "https://localhost:8080/"
        },
        "outputId": "2f10fb54-2a6b-4421-87cc-18225884fea3"
      },
      "source": [
        "# Defining the symbols for the matrix M\n",
        "# YOUR CODE HERE\n",
        "x1, x2, x3, x4 = sym.symbols('x1 x2 x3 x4')\n",
        "# Defining a scalar function using the symbols declared above which are used as variables\n",
        "# YOUR CODE HERE\n",
        "y = sym.sin(x1) + 2*x2 + x3**2 + 7*x4\n",
        "# Defining a matrix\n",
        "# YOUR CODE HERE\n",
        "M = sym.Matrix([[x1, x2],[x3, x4]])\n",
        "# Differentiation of scalar function w.r.t. every element of the matrix\n",
        "# YOUR CODE HERE\n",
        "dy_dm = y.diff(M)\n",
        "print(\"Derivative:\\n\",dy_dm)\n",
        "# Organizing the result of partial derivatives into a single matrix\n",
        "# YOUR CODE HERE\n",
        "final_par_dy = [dy_dm[0], dy_dm[1], dy_dm[2], dy_dm[3]]\n",
        "print(\"Final Derivative:\\n\",final_par_dy)"
      ],
      "execution_count": 88,
      "outputs": [
        {
          "output_type": "stream",
          "name": "stdout",
          "text": [
            "Derivative:\n",
            " Matrix([[cos(x1), 2], [2*x3, 7]])\n",
            "Final Derivative:\n",
            " [cos(x1), 2, 2*x3, 7]\n"
          ]
        }
      ]
    },
    {
      "cell_type": "markdown",
      "metadata": {
        "id": "873EcFKOnYYH"
      },
      "source": [
        "#### Matrix by Matrix\n",
        "Here, we have to find the derivative of the given matrix w.r.t. each element of the matrix by which we have to differentiate.\n",
        "<br> Let us solve a question to understand derivative of a matrix wr.r.t. a matrix."
      ]
    },
    {
      "cell_type": "markdown",
      "metadata": {
        "id": "vYOXCqCxzQWT"
      },
      "source": [
        "2. Find the derivative of a matrix $A$ = $\\begin{pmatrix}\n",
        "   x_{1}^2+x_{2}^2+x_{2} & x_{2}^2+x_{4}^2\\\\\n",
        "    sinx_{2}+x_{3}^2 & x_{1}+x_{3}+x_{4}\\\\\n",
        "   \\end{pmatrix}$  w.r.t. a matrix $M = \\begin{pmatrix}\n",
        "   x_{1} & x_{2}\\\\\n",
        "    x_{3} & x_{4}\\\\\n",
        "   \\end{pmatrix}$."
      ]
    },
    {
      "cell_type": "code",
      "metadata": {
        "id": "0Sd4Ct_bzREZ",
        "colab": {
          "base_uri": "https://localhost:8080/"
        },
        "outputId": "3dfa48a9-0444-46d2-8646-adddf8d51756"
      },
      "source": [
        "# Defining the matrix A\n",
        "# YOUR CODE HERE\n",
        "A = sym.Matrix([[x1**2 + x2**2 + x2, x2**2 + x4**2],[sym.sin(x2) + x3**2, x1 + x3 + x4]])\n",
        "\n",
        "# Defining matrix M\n",
        "# YOUR CODE HERE\n",
        "M = sym.Matrix([[x1, x2],[x3, x4]])\n",
        "\n",
        "# Differentiating matrix A w.r.t. each element of matrix M\n",
        "# YOUR CODE HERE\n",
        "dA_dm = A.diff(M)\n",
        "print(\"Derivative:\\n\",dA_dm)\n",
        "print('Shape:', dA_dm.shape)\n",
        "\n",
        "dA_dx1 = dA_dm[0, 0]\n",
        "dA_dx2 = dA_dm[0, 1]\n",
        "dA_dx3 = dA_dm[1, 0]\n",
        "dA_dx4 = dA_dm[1, 1]\n",
        "\n",
        "print(\"\\nPartial derivative w.r.t x1:\\n\", dA_dx1)\n",
        "print(\"\\nPartial derivative w.r.t x2:\\n\", dA_dx2)\n",
        "print(\"\\nPartial derivative w.r.t x3:\\n\", dA_dx3)\n",
        "print(\"\\nPartial derivative w.r.t x4:\\n\", dA_dx4)"
      ],
      "execution_count": 95,
      "outputs": [
        {
          "output_type": "stream",
          "name": "stdout",
          "text": [
            "Derivative:\n",
            " [[[[2*x1, 0], [0, 1]], [[2*x2 + 1, 2*x2], [cos(x2), 0]]], [[[0, 0], [2*x3, 1]], [[0, 2*x4], [0, 1]]]]\n",
            "Shape: (2, 2, 2, 2)\n",
            "\n",
            "Partial derivative w.r.t x1:\n",
            " [[2*x1, 0], [0, 1]]\n",
            "\n",
            "Partial derivative w.r.t x2:\n",
            " [[2*x2 + 1, 2*x2], [cos(x2), 0]]\n",
            "\n",
            "Partial derivative w.r.t x3:\n",
            " [[0, 0], [2*x3, 1]]\n",
            "\n",
            "Partial derivative w.r.t x4:\n",
            " [[0, 2*x4], [0, 1]]\n"
          ]
        }
      ]
    },
    {
      "cell_type": "markdown",
      "metadata": {
        "id": "me104IsQncbv"
      },
      "source": [
        "#### Vector by Matrix\n",
        "As vector is a special case of matrix, so, we will consider the vector as a matrix while finding the derivative using Python."
      ]
    },
    {
      "cell_type": "markdown",
      "metadata": {
        "id": "c30Ux9TvzSTI"
      },
      "source": [
        "3. Find the derivative of vector $\\vec{m}^{\\,}$ = $\\begin{pmatrix}\n",
        "   sinx_{1}+x_{2}\\\\\n",
        "    x_{3}^2+x_{2}^2\\\\\n",
        "    2x_{2}+x_{4}\\\\\n",
        "   \\end{pmatrix}$ w.r.t. the matrix $M = \\begin{pmatrix}\n",
        "   x_{1} & x_{2}\\\\\n",
        "    x_{3} & x_{4}\\\\\n",
        "   \\end{pmatrix}$."
      ]
    },
    {
      "cell_type": "code",
      "metadata": {
        "id": "i-ih6uvHzTN4",
        "colab": {
          "base_uri": "https://localhost:8080/"
        },
        "outputId": "171af151-808f-4c2c-f349-a1f387c46063"
      },
      "source": [
        "# YOUR CODE HERE\n",
        "m = sym.Matrix([sym.sin(x1) + x2, x3**2 + x2**2, 2*x2 + x4])\n",
        "M = sym.Matrix([[x1, x2],[x3, x4]])\n",
        "\n",
        "dm_dm = m.diff(M)\n",
        "print(\"Derivative:\\n\",dm_dm)\n",
        "print('Shape:', dm_dm.shape)\n",
        "\n",
        "dm_dx1 = dm_dm[0, 0]\n",
        "dm_dx2 = dm_dm[0, 1]\n",
        "dm_dx3 = dm_dm[1, 0]\n",
        "dm_dx4 = dm_dm[1, 1]\n",
        "\n",
        "print(\"\\nPartial derivative w.r.t x1:\\n\", dm_dx1)\n",
        "print(\"\\nPartial derivative w.r.t x2:\\n\", dm_dx2)\n",
        "print(\"\\nPartial derivative w.r.t x3:\\n\", dm_dx3)\n",
        "print(\"\\nPartial derivative w.r.t x4:\\n\", dm_dx4)"
      ],
      "execution_count": 99,
      "outputs": [
        {
          "output_type": "stream",
          "name": "stdout",
          "text": [
            "Derivative:\n",
            " [[[[cos(x1)], [0], [0]], [[1], [2*x2], [2]]], [[[0], [2*x3], [0]], [[0], [0], [1]]]]\n",
            "Shape: (2, 2, 3, 1)\n",
            "\n",
            "Partial derivative w.r.t x1:\n",
            " [[cos(x1)], [0], [0]]\n",
            "\n",
            "Partial derivative w.r.t x2:\n",
            " [[1], [2*x2], [2]]\n",
            "\n",
            "Partial derivative w.r.t x3:\n",
            " [[0], [2*x3], [0]]\n",
            "\n",
            "Partial derivative w.r.t x4:\n",
            " [[0], [0], [1]]\n"
          ]
        }
      ]
    },
    {
      "cell_type": "markdown",
      "metadata": {
        "id": "vk-Aqn1jqZfp"
      },
      "source": [
        "### Question for practice (Ungraded)"
      ]
    },
    {
      "cell_type": "markdown",
      "metadata": {
        "id": "Qii_ZcPbaLV7"
      },
      "source": [
        "Q. The derivative of a matrix $A = \\begin{pmatrix}\n",
        "    x^4 & x^2+2x\\\\\n",
        "    xyz & cos(x)\\\\\n",
        "   \\end{pmatrix}$ w.r.t. a scalar $x$."
      ]
    },
    {
      "cell_type": "markdown",
      "metadata": {
        "id": "PzCTAYAHejug"
      },
      "source": [
        "a) $\\begin{pmatrix} 4x^2 & 2\\\\ 1 & sin(x)\\\\ \\end{pmatrix} $"
      ]
    },
    {
      "cell_type": "markdown",
      "metadata": {
        "id": "Fv-i8mlTeh6B"
      },
      "source": [
        "b) $\\begin{pmatrix}\n",
        "    x^3 & x^2+2x\\\\\n",
        "    xyz & cos(x)\\\\\n",
        "   \\end{pmatrix}$"
      ]
    },
    {
      "cell_type": "markdown",
      "metadata": {
        "id": "lBDKH4IEejTE"
      },
      "source": [
        "c) $\\begin{pmatrix}\n",
        "    4x^3 & 2x+2\\\\\n",
        "    yz & -sin(x)\\\\\n",
        "   \\end{pmatrix}$"
      ]
    },
    {
      "cell_type": "markdown",
      "metadata": {
        "id": "Qyy_gbxRekII"
      },
      "source": [
        "d) $\\begin{pmatrix}\n",
        "    4x^3 & x\\\\\n",
        "    1 & -cos(x)\\\\\n",
        "   \\end{pmatrix}$"
      ]
    },
    {
      "cell_type": "markdown",
      "metadata": {
        "id": "EFFZkxbpfn0a"
      },
      "source": [
        "Ans) c"
      ]
    },
    {
      "cell_type": "markdown",
      "metadata": {
        "id": "VHfHdGCP_n6Y"
      },
      "source": [
        "### Please answer the questions below to complete the experiment:\n",
        "\n",
        "\n"
      ]
    },
    {
      "cell_type": "markdown",
      "source": [
        "#### Consider the below matrix 'A' and the values of $σ_{1}$, $σ_{2}$, $σ_{3}$ given below for answering Q.1\n",
        "\n",
        "<br>\n",
        "$A = \\begin{pmatrix}\n",
        "   4 & 11 & 14\\\\\n",
        "    8 & 7 & -2\\\\\n",
        "   \\end{pmatrix}$\n",
        "\n",
        "<br>\n",
        "<br>\n",
        "\n",
        "A. $σ_{1} = {{360}}$, $σ_{2} = {{90}}$, $σ_{3} = 0$\n",
        "\n",
        "B. $σ_{1} = {6\\sqrt{10}}$, $σ_{2} = {3\\sqrt{10}}$, $σ_{3} = 0$\n",
        "\n",
        "C. $σ_{1} = {-6\\sqrt{10}}$, $σ_{2} = {3\\sqrt{10}}$, $σ_{3} = {{0}}$\n",
        "\n",
        "D. $σ_{1} = {6\\sqrt{10}}$, $σ_{2} = {{0}}$, $σ_{3} = {-3\\sqrt{10}}$\n",
        "\n",
        "\n"
      ],
      "metadata": {
        "id": "GdScr4fd2ME2"
      }
    },
    {
      "cell_type": "code",
      "metadata": {
        "id": "kmvdJ4aNmGjR"
      },
      "source": [
        "#@title Q.1. Find the singular values for the matrix $A^T A$.  { run: \"auto\", form-width: \"500px\", display-mode: \"form\" }\n",
        "Answer1 = \"\" #@param [\"\",\"Only A\", \"Only B\", \"Only C\", \"Only D\", \"None of the above\"]\n"
      ],
      "execution_count": null,
      "outputs": []
    },
    {
      "cell_type": "markdown",
      "source": [
        "Consider the below column values $v_{1}$, $v_{2}$, $v_{3}$ and $v_{4}$ and answer Q.2\n",
        "\n",
        "A. $v_{1} = \\begin{pmatrix}\n",
        "   1/3\\\\\n",
        "    2/3\\\\\n",
        "     2/3\\\\\n",
        "   \\end{pmatrix}$\n",
        "\n",
        "B.  $v_{2} = \\begin{pmatrix}\n",
        "   -2/3\\\\\n",
        "    -1/3\\\\\n",
        "     2/3\\\\\n",
        "   \\end{pmatrix}$\n",
        "\n",
        "C.  $v_{3} = \\begin{pmatrix}\n",
        "   2/3\\\\\n",
        "    -2/3\\\\\n",
        "     1/3\\\\\n",
        "   \\end{pmatrix}$\n",
        "\n",
        "D. $v_{4} = \\begin{pmatrix}\n",
        "   2/3\\\\\n",
        "    2/3\\\\\n",
        "     1/3\\\\\n",
        "   \\end{pmatrix}$"
      ],
      "metadata": {
        "id": "kdE4j0GcKatw"
      }
    },
    {
      "cell_type": "code",
      "metadata": {
        "id": "UX24XAeIJ6Nf"
      },
      "source": [
        "#@title Q.2. Find the normalized eigenvector corresponding to the highest eigenvalue obtained in question 1 by computing $A^T A$? { run: \"auto\", form-width: \"500px\", display-mode: \"form\" }\n",
        "Answer2 = \"\" #@param [\"\",\"Only A\", \"Only B\", \"Only C\", \"Only D\", \"None of the above\"]\n"
      ],
      "execution_count": null,
      "outputs": []
    },
    {
      "cell_type": "code",
      "metadata": {
        "id": "NMzKSbLIgFzQ"
      },
      "source": [
        "#@title How was the experiment? { run: \"auto\", form-width: \"500px\", display-mode: \"form\" }\n",
        "Complexity = \"\" #@param [\"\",\"Too Simple, I am wasting time\", \"Good, But Not Challenging for me\", \"Good and Challenging for me\", \"Was Tough, but I did it\", \"Too Difficult for me\"]\n"
      ],
      "execution_count": null,
      "outputs": []
    },
    {
      "cell_type": "code",
      "metadata": {
        "id": "DjcH1VWSFI2l"
      },
      "source": [
        "#@title If it was too easy, what more would you have liked to be added? If it was very difficult, what would you have liked to have been removed? { run: \"auto\", display-mode: \"form\" }\n",
        "Additional = \"\" #@param {type:\"string\"}\n"
      ],
      "execution_count": null,
      "outputs": []
    },
    {
      "cell_type": "code",
      "metadata": {
        "id": "4VBk_4VTAxCM"
      },
      "source": [
        "#@title Can you identify the concepts from the lecture which this experiment covered? { run: \"auto\", vertical-output: true, display-mode: \"form\" }\n",
        "Concepts = \"\" #@param [\"\",\"Yes\", \"No\"]\n"
      ],
      "execution_count": null,
      "outputs": []
    },
    {
      "cell_type": "code",
      "metadata": {
        "id": "XH91cL1JWH7m"
      },
      "source": [
        "#@title  Text and image description/explanation and code comments within the experiment: { run: \"auto\", vertical-output: true, display-mode: \"form\" }\n",
        "Comments = \"\" #@param [\"\",\"Very Useful\", \"Somewhat Useful\", \"Not Useful\", \"Didn't use\"]\n"
      ],
      "execution_count": null,
      "outputs": []
    },
    {
      "cell_type": "code",
      "metadata": {
        "id": "z8xLqj7VWIKW"
      },
      "source": [
        "#@title Mentor Support: { run: \"auto\", vertical-output: true, display-mode: \"form\" }\n",
        "Mentor_support = \"\" #@param [\"\",\"Very Useful\", \"Somewhat Useful\", \"Not Useful\", \"Didn't use\"]\n"
      ],
      "execution_count": null,
      "outputs": []
    },
    {
      "cell_type": "code",
      "metadata": {
        "id": "FzAZHt1zw-Y-",
        "cellView": "form"
      },
      "source": [
        "#@title Run this cell to submit your notebook for grading { vertical-output: true }\n",
        "try:\n",
        "  if submission_id:\n",
        "      return_id = submit_notebook()\n",
        "      if return_id : submission_id = return_id\n",
        "  else:\n",
        "      print(\"Please complete the setup first.\")\n",
        "except NameError:\n",
        "  print (\"Please complete the setup first.\")"
      ],
      "execution_count": null,
      "outputs": []
    }
  ]
}